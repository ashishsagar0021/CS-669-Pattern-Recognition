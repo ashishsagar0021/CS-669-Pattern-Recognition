{
 "cells": [
  {
   "cell_type": "code",
   "execution_count": null,
   "metadata": {},
   "outputs": [],
   "source": [
    "!pip install progressbar2"
   ]
  },
  {
   "cell_type": "code",
   "execution_count": null,
   "metadata": {},
   "outputs": [],
   "source": [
    "import os\n",
    "import numpy as np\n",
    "import matplotlib.pyplot as plt\n",
    "import matplotlib.patches as mpatches\n",
    "from random import shuffle\n",
    "import progressbar\n",
    "\n",
    "def load_data():\n",
    "    \n",
    "    path = './'\n",
    "    pctr1 = os.path.join(path,'data_class1_train.npy')\n",
    "    pctr2 = os.path.join(path,'data_class2_train.npy')\n",
    "    pctr3 = os.path.join(path,'data_class3_train.npy')\n",
    "    pcte1 = os.path.join(path,'data_class1_test.npy')\n",
    "    pcte2 = os.path.join(path,'data_class2_test.npy')\n",
    "    pcte3 = os.path.join(path,'data_class3_test.npy')\n",
    "    \n",
    "    \n",
    "    train1 = np.load(pctr1)\n",
    "    train2 = np.load(pctr2)\n",
    "    train3 = np.load(pctr3)\n",
    "    test1 = np.load(pcte1)\n",
    "    test2 = np.load(pcte2)\n",
    "    test3 = np.load(pcte3)\n",
    "    \n",
    "    return train1, train2, train3, test1, test2, test3"
   ]
  },
  {
   "cell_type": "code",
   "execution_count": null,
   "metadata": {},
   "outputs": [],
   "source": [
    "def get_predictions(x, mu, cov, pi, prior):\n",
    "    sum_g = 0\n",
    "    l = len(cov)\n",
    "    g = x-mu[0]\n",
    "    for i in range(l):\n",
    "        I = np.identity(cov[i].shape[0], dtype=float)\n",
    "        p = 1e-2\n",
    "        I = p*I\n",
    "        cov[i]+=I\n",
    "        sum_g+=(pi[i]*(np.linalg.det(cov[i])**-.5)*((2 * np.pi)**(-x.shape[0]/2.))* np.exp(-.5 * np.matmul((x - mu[i]),np.matmul(np.linalg.inv(cov[i]),(x- mu[i]).T).T)))\n",
    "    return np.log(sum_g*prior)"
   ]
  },
  {
   "cell_type": "code",
   "execution_count": null,
   "metadata": {},
   "outputs": [],
   "source": [
    "def get_confusion_mat(n,true_class, pred_class):\n",
    "    conf_mat = np.full((n,n),1e-10)\n",
    "    for i in range(len(true_class)):\n",
    "        conf_mat[true_class[i]][pred_class[i]]+=1\n",
    "    return np.array(conf_mat)"
   ]
  },
  {
   "cell_type": "code",
   "execution_count": null,
   "metadata": {},
   "outputs": [],
   "source": [
    "def metric(conf_matrix):\n",
    "    x = conf_matrix.shape[0]\n",
    "    precision = []\n",
    "    accuracy = []\n",
    "    recall = []\n",
    "    f_measure = []\n",
    "    total_sum = np.sum(conf_matrix)\n",
    "    for i in range(x):\n",
    "        TP = conf_matrix[i][i]\n",
    "        FN = np.sum(conf_matrix[i,:])-conf_matrix[i][i]\n",
    "        FP = np.sum(conf_matrix[:,i])-conf_matrix[i][i]\n",
    "        TN = total_sum-(TP+FP+FN)\n",
    "\n",
    "        recal = TP/(TP+FN)\n",
    "        preci = TP/(TP+FP)\n",
    "        acc = (TP+TN)/(TP+TN+FP+FN)\n",
    "        \n",
    "        precision.append(preci)\n",
    "        recall.append(recal)\n",
    "        accuracy.append(acc)\n",
    "        f_measure.append((2*recal*preci)/(recal+preci))\n",
    "        \n",
    "    return accuracy,precision,recall,f_measure"
   ]
  },
  {
   "cell_type": "code",
   "execution_count": null,
   "metadata": {},
   "outputs": [],
   "source": []
  },
  {
   "cell_type": "code",
   "execution_count": null,
   "metadata": {},
   "outputs": [],
   "source": [
    "def pair_plot(test1, test2, train1, train2, mu1, cov1, pi1, mu2, cov2, pi2, il, jl):\n",
    "    le1 = train1.shape[0]\n",
    "    le2 = train2.shape[0]\n",
    "    le = le1+le2\n",
    "    g1 = []\n",
    "    g2 = []\n",
    "    lw1 = test1.shape[0]\n",
    "    lw2 = test2.shape[0]\n",
    "    \n",
    "    lis1 = np.load('lis_{}.npy'.format(il))\n",
    "    lis2 = np.load('lis_{}.npy'.format(jl))\n",
    "    \n",
    "\n",
    "    pred_class = []\n",
    "    true_class = []\n",
    "    pro1=0\n",
    "    pro2=0\n",
    "    ct=1\n",
    "    for i in range(lw1):\n",
    "        if(ct<len(lis1)):\n",
    "            if(i==lis1[ct]):\n",
    "                arr = [pro1,pro2]\n",
    "                ind = np.argmax(arr)\n",
    "                pred_class.append(ind)\n",
    "                true_class.append(0)\n",
    "                pro1=0\n",
    "                pro2=0\n",
    "                ct+=1\n",
    "#             print(get_predictions(test1[i], mu1, cov1, pi1, le1/le))\n",
    "            pro1 += (get_predictions(test1[i], mu1, cov1, pi1, le1/le))\n",
    "            pro2 += (get_predictions(test1[i], mu2, cov2, pi2, le2/le))\n",
    "\n",
    "    arr = [pro1,pro2]\n",
    "    ind = np.argmax(arr)\n",
    "    pred_class.append(ind)\n",
    "        \n",
    "    pro1=0\n",
    "    pro2=0\n",
    "    ct=1\n",
    "    for i in range(lw2):\n",
    "        if(ct<len(lis2)):\n",
    "            if(i==lis2[ct]):\n",
    "                arr = [pro1,pro2]\n",
    "                ind = np.argmax(arr)\n",
    "                pred_class.append(ind)\n",
    "                true_class.append(1)\n",
    "                pro1=0\n",
    "                pro2=0\n",
    "                ct+=1\n",
    "            pro1 += (get_predictions(test2[i], mu1, cov1, pi1, le1/le))\n",
    "            pro2 += (get_predictions(test2[i], mu2, cov2, pi2, le2/le))\n",
    "    \n",
    "    arr = [pro1,pro2]\n",
    "    ind = np.argmax(arr)\n",
    "    pred_class.append(ind) \n",
    "\n",
    "    \n",
    "    conf_mat = get_confusion_mat(2, true_class, pred_class)\n",
    "    print(\"Confusion Matrix\")\n",
    "    print(conf_mat)\n",
    "    temp = np.array(metric(conf_mat))\n",
    "    print(\"Accuracy: \",temp[0,:])\n",
    "    print(\"Precision: \",temp[1,:])\n",
    "    print(\"Recall: \",temp[2,:])\n",
    "    print(\"F-Measure: \",temp[3,:])\n",
    "    print(\"Mean F-Measure: \",np.mean(temp[3,:]))\n",
    "    print(\"Mean F-Measure: \",np.mean(temp[3,:]))"
   ]
  },
  {
   "cell_type": "code",
   "execution_count": null,
   "metadata": {},
   "outputs": [],
   "source": [
    "def total_plot(test1, test2, test3, train1, train2, train3, mu1, cov1, pi1, mu2, cov2, pi2, mu3, cov3, pi3):\n",
    "    le1 = train1.shape[0]\n",
    "    le2 = train2.shape[0]\n",
    "    le3 = train3.shape[0]\n",
    "    le = le1+le2+le3\n",
    "    g1 = []\n",
    "    g2 = []\n",
    "    g3 = []\n",
    "    lw1 = test1.shape[0]\n",
    "    lw2 = test2.shape[0]\n",
    "    lw3 = test3.shape[0]\n",
    "    lis1 = np.load('lis_1.npy')\n",
    "    lis2 = np.load('lis_2.npy')\n",
    "    lis3 = np.load('lis_3.npy')\n",
    "    pred_class = []\n",
    "    true_class = []\n",
    "    pro1=0\n",
    "    pro2=0\n",
    "    pro3=0\n",
    "    ct=0\n",
    "    for i in range(lw1):\n",
    "        if(ct<len(lis1)):\n",
    "            if(i==lis1[ct]):\n",
    "                arr = [pro1,pro2,pro3]\n",
    "                ind = np.argmax(arr)\n",
    "                pred_class.append(ind)\n",
    "                true_class.append(0)\n",
    "                pro1=0\n",
    "                pro2=0\n",
    "                pro3=0\n",
    "                ct+=1\n",
    "            pro1 += (get_predictions(test1[i], mu1, cov1, pi1, le1/le))\n",
    "            pro2 += (get_predictions(test1[i], mu2, cov2, pi2, le2/le))\n",
    "            pro3 += (get_predictions(test1[i], mu3, cov3, pi3, le3/le))\n",
    "    arr = [pro1,pro2,pro3]\n",
    "    ind = np.argmax(arr)\n",
    "    pred_class.append(ind)\n",
    "        \n",
    "    pro1=0\n",
    "    pro2=0\n",
    "    pro3=0\n",
    "    ct=1\n",
    "    for i in range(lw2):\n",
    "        if(ct<len(lis2)):\n",
    "            if(i==lis2[ct]):\n",
    "                arr = [pro1,pro2,pro3]\n",
    "                ind = np.argmax(arr)\n",
    "                pred_class.append(ind)\n",
    "                true_class.append(1)\n",
    "                pro1=0\n",
    "                pro2=0\n",
    "                pro3=0\n",
    "                ct+=1\n",
    "            pro1 += (get_predictions(test2[i], mu1, cov1, pi1, le1/le))\n",
    "            pro2 += (get_predictions(test2[i], mu2, cov2, pi2, le2/le))\n",
    "            pro3 += (get_predictions(test2[i], mu3, cov3, pi3, le3/le))\n",
    "    arr = [pro1,pro2,pro3]\n",
    "    ind = np.argmax(arr)\n",
    "    pred_class.append(ind) \n",
    "    \n",
    "    pro1=0\n",
    "    pro2=0\n",
    "    pro3=0\n",
    "    ct=1\n",
    "    for i in range(lw3):\n",
    "        if(ct<len(lis3)):\n",
    "            if(i==lis3[ct]):\n",
    "                arr = [pro1,pro2,pro3]\n",
    "                ind = np.argmax(arr)\n",
    "                pred_class.append(ind)\n",
    "                true_class.append(2)\n",
    "                pro1=0\n",
    "                pro2=0\n",
    "                pro3=0\n",
    "                ct+=1\n",
    "            pro1 += (get_predictions(test3[i], mu1, cov1, pi1, le1/le))\n",
    "            pro2 += (get_predictions(test3[i], mu2, cov2, pi2, le2/le))\n",
    "            pro3 += (get_predictions(test3[i], mu3, cov3, pi3, le3/le))\n",
    "    arr = [pro1,pro2,pro3]\n",
    "    ind = np.argmax(arr)\n",
    "    pred_class.append(ind)\n",
    "\n",
    "\n",
    "    conf_mat = get_confusion_mat(3, true_class, pred_class)\n",
    "    print(conf_mat)\n",
    "    temp = np.array(metric(conf_mat))\n",
    "    print(\"Accuracy: \",temp[0,:])\n",
    "    print(\"Precision: \",temp[1,:])\n",
    "    print(\"Recall: \",temp[2,:])\n",
    "    print(\"F-Measure: \",temp[3,:])"
   ]
  },
  {
   "cell_type": "code",
   "execution_count": null,
   "metadata": {},
   "outputs": [],
   "source": [
    "def gaussian_normal(x, mu, cov):\n",
    "    I = np.identity(cov.shape[0], dtype=float)\n",
    "    p = 1e-2\n",
    "    I = p*I\n",
    "    cov+=I\n",
    "    inv_cov = np.linalg.inv(cov)\n",
    "    g = (np.linalg.det(cov)**-.5)*((2 * np.pi)**(-x.shape[1]/2.))* np.exp(-.5 * np.einsum('ij, ij -> i',x - mu,np.dot(np.linalg.inv(cov),(x- mu).T).T)) \n",
    "    return g\n",
    "\n",
    "def gmm(cluster, pts, k, dims):\n",
    "    mu = []                    #mean of each cluster\n",
    "    cov = []                   #covaraince matrix for each cluster\n",
    "    pi =  []                   #mixture coefficients for each clusters\n",
    "    n = len(pts)               #total number of points in the given class\n",
    "    gamma = np.ndarray(shape=(n,k),dtype=float)\n",
    "    for i in range(k):\n",
    "        pi.append(cluster[i].shape[0]/n)\n",
    "        mean = np.mean(cluster[i], axis=0)\n",
    "        mu.append(mean)\n",
    "        covariance = np.cov(cluster[i].T)\n",
    "        cov.append(covariance)\n",
    "    \n",
    "    print('Initialization Done')\n",
    "    likelihood = []\n",
    "    for t in progressbar.progressbar(range(100)):\n",
    "        for j in range(k):\n",
    "            gamma[:,j] = pi[j]*gaussian_normal(pts,mu[j],cov[j])\n",
    "        li = np.sum(np.log(np.sum(gamma, axis = 1)))\n",
    "        \n",
    "        likelihood.append(li)\n",
    "        gamma = (gamma.T / np.sum(gamma, axis = 1)).T\n",
    "        n_eff = np.sum(gamma, axis = 0)\n",
    "        for i in range(k):\n",
    "            mu[i] = (1/n_eff[i])*np.sum(gamma[:, i] * pts.T, axis = 1).T\n",
    "            x_mu = np.matrix(pts - mu[i])\n",
    "            cov[i] = np.array(1/n_eff[i])*np.dot(np.multiply(x_mu.T,  gamma[:, i]), x_mu)\n",
    "            pi[i] = n_eff[i]/n\n",
    "    \n",
    "    plt.plot(likelihood)\n",
    "    plt.title('Log-Likelihood vs Iteration plot')\n",
    "    plt.xlabel('Iterations')\n",
    "    plt.ylabel('log-likelihood')\n",
    "    plt.show()\n",
    "\n",
    "    return mu, cov, pi, gamma"
   ]
  },
  {
   "cell_type": "code",
   "execution_count": null,
   "metadata": {},
   "outputs": [],
   "source": [
    "def kmeans(data,k, dim):\n",
    "    \n",
    "    l = data.shape[0]\n",
    "    lis = []\n",
    "    for i in range(l):\n",
    "        lis.append(data[i,:])\n",
    "    \n",
    "    shuffle(lis)\n",
    "    cluster = []\n",
    "    mean = []\n",
    "    for i in range(k):\n",
    "        mean.append(lis[i])\n",
    "            \n",
    "    \n",
    "    for i in progressbar.progressbar(range(50)):\n",
    "        cluster[:]=[]\n",
    "        \n",
    "        distance=[]\n",
    "        clust=[]\n",
    "        for j in range(l):\n",
    "            distance.append(1e15)\n",
    "            clust.append(-1)\n",
    "        for j in range(k):\n",
    "            temp=[]\n",
    "            cluster.append(temp)\n",
    "        for j in range(k):\n",
    "            dis = np.linalg.norm(data-mean[j], axis=1)\n",
    "            for p in range(l):\n",
    "                if(dis[p]<distance[p]):\n",
    "                    distance[p]=dis[p]\n",
    "                    clust[p] = j\n",
    "                    \n",
    "        for j in range(l):\n",
    "            cluster[clust[j]].append(data[j])\n",
    "            \n",
    "        for j in range(k):\n",
    "            mean[j]=np.mean(cluster[j], axis=0)\n",
    "            \n",
    "    for i in progressbar.progressbar(range(k)):\n",
    "        cluster[i]=np.array(cluster[i])\n",
    "        \n",
    "    return mean, cluster"
   ]
  },
  {
   "cell_type": "code",
   "execution_count": 171,
   "metadata": {},
   "outputs": [
    {
     "name": "stderr",
     "output_type": "stream",
     "text": [
      "  2% (1 of 50) |                         | Elapsed Time: 0:00:00 ETA:  00:00:00"
     ]
    },
    {
     "name": "stdout",
     "output_type": "stream",
     "text": [
      "(44896, 24)\n"
     ]
    },
    {
     "name": "stderr",
     "output_type": "stream",
     "text": [
      "100% (50 of 50) |########################| Elapsed Time: 0:00:04 Time:  0:00:04\n",
      "100% (2 of 2) |##########################| Elapsed Time: 0:00:00 Time:  0:00:00\n",
      "N/A% (0 of 50) |                         | Elapsed Time: 0:00:00 ETA:  --:--:--"
     ]
    },
    {
     "name": "stdout",
     "output_type": "stream",
     "text": [
      "1**done\n"
     ]
    },
    {
     "name": "stderr",
     "output_type": "stream",
     "text": [
      "100% (50 of 50) |########################| Elapsed Time: 0:00:07 Time:  0:00:07\n",
      "100% (2 of 2) |##########################| Elapsed Time: 0:00:00 Time:  0:00:00\n",
      "N/A% (0 of 50) |                         | Elapsed Time: 0:00:00 ETA:  --:--:--"
     ]
    },
    {
     "name": "stdout",
     "output_type": "stream",
     "text": [
      "2**done\n"
     ]
    },
    {
     "name": "stderr",
     "output_type": "stream",
     "text": [
      "100% (50 of 50) |########################| Elapsed Time: 0:00:06 Time:  0:00:06\n",
      "100% (2 of 2) |##########################| Elapsed Time: 0:00:00 Time:  0:00:00\n",
      "  1% (1 of 100) |                        | Elapsed Time: 0:00:00 ETA:   0:00:13"
     ]
    },
    {
     "name": "stdout",
     "output_type": "stream",
     "text": [
      "3**done\n",
      "2 (16074, 24)\n",
      "2 (30924, 24)\n",
      "2 (31206, 24)\n",
      "Initialization Done\n"
     ]
    },
    {
     "name": "stderr",
     "output_type": "stream",
     "text": [
      "100% (100 of 100) |######################| Elapsed Time: 0:00:09 Time:  0:00:09\n"
     ]
    },
    {
     "data": {
      "image/png": "[encoded data removed]",
      "text/plain": [
       "<matplotlib.figure.Figure at 0x7f3bd6b81128>"
      ]
     },
     "metadata": {
      "needs_background": "light"
     },
     "output_type": "display_data"
    },
    {
     "name": "stderr",
     "output_type": "stream",
     "text": [
      "  1% (1 of 100) |                        | Elapsed Time: 0:00:00 ETA:   0:00:15"
     ]
    },
    {
     "name": "stdout",
     "output_type": "stream",
     "text": [
      "***First Cluster Done***\n",
      "Initialization Done\n"
     ]
    },
    {
     "name": "stderr",
     "output_type": "stream",
     "text": [
      "100% (100 of 100) |######################| Elapsed Time: 0:00:12 Time:  0:00:12\n"
     ]
    },
    {
     "data": {
      "image/png": "[encoded data removed]",
      "text/plain": [
       "<matplotlib.figure.Figure at 0x7f3bd686af98>"
      ]
     },
     "metadata": {
      "needs_background": "light"
     },
     "output_type": "display_data"
    },
    {
     "name": "stderr",
     "output_type": "stream",
     "text": [
      "  1% (1 of 100) |                        | Elapsed Time: 0:00:00 ETA:   0:00:12"
     ]
    },
    {
     "name": "stdout",
     "output_type": "stream",
     "text": [
      "***Second Cluster Done***\n",
      "Initialization Done\n"
     ]
    },
    {
     "name": "stderr",
     "output_type": "stream",
     "text": [
      "100% (100 of 100) |######################| Elapsed Time: 0:00:13 Time:  0:00:13\n"
     ]
    },
    {
     "data": {
      "image/png": "[encoded data removed]",
      "text/plain": [
       "<matplotlib.figure.Figure at 0x7f3bdbd935f8>"
      ]
     },
     "metadata": {
      "needs_background": "light"
     },
     "output_type": "display_data"
    },
    {
     "name": "stdout",
     "output_type": "stream",
     "text": [
      "***Third Cluster Done***\n",
      "***Loading Done***\n",
      "Confusion Matrix\n",
      "[[  3.  46.]\n",
      " [  1.  48.]]\n",
      "Accuracy:  [ 0.52040816  0.52040816]\n",
      "Precision:  [ 0.75       0.5106383]\n",
      "Recall:  [ 0.06122449  0.97959184]\n",
      "F-Measure:  [ 0.11320755  0.67132867]\n",
      "Mean F-Measure:  0.39226810925\n",
      "Mean F-Measure:  0.39226810925\n",
      "Confusion Matrix\n",
      "[[  1.00000000e-10   4.90000000e+01]\n",
      " [  1.00000000e-10   4.90000000e+01]]\n",
      "Accuracy:  [ 0.5  0.5]\n",
      "Precision:  [ 0.5  0.5]\n",
      "Recall:  [  2.04081633e-12   1.00000000e+00]\n",
      "F-Measure:  [  4.08163265e-12   6.66666667e-01]\n",
      "Mean F-Measure:  0.333333333335\n",
      "Mean F-Measure:  0.333333333335\n",
      "Confusion Matrix\n",
      "[[ 48.   1.]\n",
      " [ 38.  11.]]\n",
      "Accuracy:  [ 0.60204082  0.60204082]\n",
      "Precision:  [ 0.55813953  0.91666667]\n",
      "Recall:  [ 0.97959184  0.2244898 ]\n",
      "F-Measure:  [ 0.71111111  0.36065574]\n",
      "Mean F-Measure:  0.535883424408\n",
      "Mean F-Measure:  0.535883424408\n"
     ]
    },
    {
     "name": "stderr",
     "output_type": "stream",
     "text": [
      "\r",
      "                                                                               \r",
      "\r",
      "N/A% (0 of 50) |                         | Elapsed Time: 0:00:00 ETA:  --:--:--"
     ]
    },
    {
     "name": "stdout",
     "output_type": "stream",
     "text": [
      "[[  2.70000000e+01   2.30000000e+01   1.00000000e-10]\n",
      " [  7.00000000e+00   4.00000000e+01   2.00000000e+00]\n",
      " [  1.30000000e+01   2.70000000e+01   9.00000000e+00]]\n",
      "Accuracy:  [ 0.70945946  0.60135135  0.71621622]\n",
      "Precision:  [ 0.57446809  0.44444444  0.81818182]\n",
      "Recall:  [ 0.54        0.81632653  0.18367347]\n",
      "F-Measure:  [ 0.55670103  0.57553957  0.3       ]\n",
      "2  completed\n"
     ]
    },
    {
     "name": "stderr",
     "output_type": "stream",
     "text": [
      "100% (50 of 50) |########################| Elapsed Time: 0:00:05 Time:  0:00:05\n",
      "100% (4 of 4) |##########################| Elapsed Time: 0:00:00 Time:  0:00:00\n",
      "N/A% (0 of 50) |                         | Elapsed Time: 0:00:00 ETA:  --:--:--"
     ]
    },
    {
     "name": "stdout",
     "output_type": "stream",
     "text": [
      "1**done\n"
     ]
    },
    {
     "name": "stderr",
     "output_type": "stream",
     "text": [
      "100% (50 of 50) |########################| Elapsed Time: 0:00:09 Time:  0:00:09\n",
      "100% (4 of 4) |##########################| Elapsed Time: 0:00:00 Time:  0:00:00\n",
      "N/A% (0 of 50) |                         | Elapsed Time: 0:00:00 ETA:  --:--:--"
     ]
    },
    {
     "name": "stdout",
     "output_type": "stream",
     "text": [
      "2**done\n"
     ]
    },
    {
     "name": "stderr",
     "output_type": "stream",
     "text": [
      "100% (50 of 50) |########################| Elapsed Time: 0:00:08 Time:  0:00:08\n",
      "100% (4 of 4) |##########################| Elapsed Time: 0:00:00 Time:  0:00:00\n",
      "  1% (1 of 100) |                        | Elapsed Time: 0:00:00 ETA:   0:00:14"
     ]
    },
    {
     "name": "stdout",
     "output_type": "stream",
     "text": [
      "3**done\n",
      "4 (12571, 24)\n",
      "4 (27350, 24)\n",
      "4 (7666, 24)\n",
      "Initialization Done\n"
     ]
    },
    {
     "name": "stderr",
     "output_type": "stream",
     "text": [
      "100% (100 of 100) |######################| Elapsed Time: 0:00:13 Time:  0:00:13\n"
     ]
    },
    {
     "data": {
      "image/png": "[encoded data removed]",
      "text/plain": [
       "<matplotlib.figure.Figure at 0x7f3bdbd788d0>"
      ]
     },
     "metadata": {
      "needs_background": "light"
     },
     "output_type": "display_data"
    },
    {
     "name": "stderr",
     "output_type": "stream",
     "text": [
      "\r",
      "                                                                               \r",
      "\r",
      "N/A% (0 of 100) |                        | Elapsed Time: 0:00:00 ETA:  --:--:--"
     ]
    },
    {
     "name": "stdout",
     "output_type": "stream",
     "text": [
      "***First Cluster Done***\n",
      "Initialization Done\n"
     ]
    },
    {
     "name": "stderr",
     "output_type": "stream",
     "text": [
      "100% (100 of 100) |######################| Elapsed Time: 0:00:23 Time:  0:00:23\n"
     ]
    },
    {
     "data": {
      "image/png": "[encoded data removed]",
      "text/plain": [
       "<matplotlib.figure.Figure at 0x7f3bd6b81128>"
      ]
     },
     "metadata": {
      "needs_background": "light"
     },
     "output_type": "display_data"
    },
    {
     "name": "stderr",
     "output_type": "stream",
     "text": [
      "\r",
      "                                                                               \r",
      "\r",
      "N/A% (0 of 100) |                        | Elapsed Time: 0:00:00 ETA:  --:--:--"
     ]
    },
    {
     "name": "stdout",
     "output_type": "stream",
     "text": [
      "***Second Cluster Done***\n",
      "Initialization Done\n"
     ]
    },
    {
     "name": "stderr",
     "output_type": "stream",
     "text": [
      "100% (100 of 100) |######################| Elapsed Time: 0:00:23 Time:  0:00:23\n"
     ]
    },
    {
     "data": {
      "image/png": "[encoded data removed]",
      "text/plain": [
       "<matplotlib.figure.Figure at 0x7f3bdbd8d438>"
      ]
     },
     "metadata": {
      "needs_background": "light"
     },
     "output_type": "display_data"
    },
    {
     "name": "stdout",
     "output_type": "stream",
     "text": [
      "***Third Cluster Done***\n",
      "***Loading Done***\n",
      "Confusion Matrix\n",
      "[[  8.  41.]\n",
      " [  3.  46.]]\n",
      "Accuracy:  [ 0.55102041  0.55102041]\n",
      "Precision:  [ 0.72727273  0.52873563]\n",
      "Recall:  [ 0.16326531  0.93877551]\n",
      "F-Measure:  [ 0.26666667  0.67647059]\n",
      "Mean F-Measure:  0.471568627451\n",
      "Mean F-Measure:  0.471568627451\n",
      "Confusion Matrix\n",
      "[[  1.00000000e-10   4.90000000e+01]\n",
      " [  1.00000000e-10   4.90000000e+01]]\n",
      "Accuracy:  [ 0.5  0.5]\n",
      "Precision:  [ 0.5  0.5]\n",
      "Recall:  [  2.04081633e-12   1.00000000e+00]\n",
      "F-Measure:  [  4.08163265e-12   6.66666667e-01]\n",
      "Mean F-Measure:  0.333333333335\n",
      "Mean F-Measure:  0.333333333335\n",
      "Confusion Matrix\n",
      "[[ 48.   1.]\n",
      " [ 44.   5.]]\n",
      "Accuracy:  [ 0.54081633  0.54081633]\n",
      "Precision:  [ 0.52173913  0.83333333]\n",
      "Recall:  [ 0.97959184  0.10204082]\n",
      "F-Measure:  [ 0.68085106  0.18181818]\n",
      "Mean F-Measure:  0.431334622825\n",
      "Mean F-Measure:  0.431334622825\n"
     ]
    },
    {
     "name": "stderr",
     "output_type": "stream",
     "text": [
      "\r",
      "                                                                               \r",
      "\r",
      "N/A% (0 of 50) |                         | Elapsed Time: 0:00:00 ETA:  --:--:--"
     ]
    },
    {
     "name": "stdout",
     "output_type": "stream",
     "text": [
      "[[ 22.  24.   4.]\n",
      " [  3.  40.   6.]\n",
      " [ 17.  27.   5.]]\n",
      "Accuracy:  [ 0.67567568  0.59459459  0.63513514]\n",
      "Precision:  [ 0.52380952  0.43956044  0.33333333]\n",
      "Recall:  [ 0.44        0.81632653  0.10204082]\n",
      "F-Measure:  [ 0.47826087  0.57142857  0.15625   ]\n",
      "4  completed\n"
     ]
    },
    {
     "name": "stderr",
     "output_type": "stream",
     "text": [
      "100% (50 of 50) |########################| Elapsed Time: 0:00:08 Time:  0:00:08\n",
      "100% (8 of 8) |##########################| Elapsed Time: 0:00:00 Time:  0:00:00\n",
      "N/A% (0 of 50) |                         | Elapsed Time: 0:00:00 ETA:  --:--:--"
     ]
    },
    {
     "name": "stdout",
     "output_type": "stream",
     "text": [
      "1**done\n"
     ]
    },
    {
     "name": "stderr",
     "output_type": "stream",
     "text": [
      "100% (50 of 50) |########################| Elapsed Time: 0:00:14 Time:  0:00:14\n",
      "100% (8 of 8) |##########################| Elapsed Time: 0:00:00 Time:  0:00:00\n",
      "N/A% (0 of 50) |                         | Elapsed Time: 0:00:00 ETA:  --:--:--"
     ]
    },
    {
     "name": "stdout",
     "output_type": "stream",
     "text": [
      "2**done\n"
     ]
    },
    {
     "name": "stderr",
     "output_type": "stream",
     "text": [
      "100% (50 of 50) |########################| Elapsed Time: 0:00:14 Time:  0:00:14\n",
      "100% (8 of 8) |##########################| Elapsed Time: 0:00:00 Time:  0:00:00\n",
      "N/A% (0 of 100) |                        | Elapsed Time: 0:00:00 ETA:  --:--:--"
     ]
    },
    {
     "name": "stdout",
     "output_type": "stream",
     "text": [
      "3**done\n",
      "8 (2690, 24)\n",
      "8 (18581, 24)\n",
      "8 (6007, 24)\n",
      "Initialization Done\n"
     ]
    },
    {
     "name": "stderr",
     "output_type": "stream",
     "text": [
      "100% (100 of 100) |######################| Elapsed Time: 0:00:24 Time:  0:00:24\n"
     ]
    },
    {
     "data": {
      "image/png": "[encoded data removed]",
      "text/plain": [
       "<matplotlib.figure.Figure at 0x7f3bd6b6b6a0>"
      ]
     },
     "metadata": {
      "needs_background": "light"
     },
     "output_type": "display_data"
    },
    {
     "name": "stderr",
     "output_type": "stream",
     "text": [
      "\r",
      "                                                                               \r",
      "\r",
      "N/A% (0 of 100) |                        | Elapsed Time: 0:00:00 ETA:  --:--:--"
     ]
    },
    {
     "name": "stdout",
     "output_type": "stream",
     "text": [
      "***First Cluster Done***\n",
      "Initialization Done\n"
     ]
    },
    {
     "name": "stderr",
     "output_type": "stream",
     "text": [
      "100% (100 of 100) |######################| Elapsed Time: 0:00:42 Time:  0:00:42\n"
     ]
    },
    {
     "data": {
      "image/png": "[encoded data removed]",
      "text/plain": [
       "<matplotlib.figure.Figure at 0x7f3bdbdb5358>"
      ]
     },
     "metadata": {
      "needs_background": "light"
     },
     "output_type": "display_data"
    },
    {
     "name": "stderr",
     "output_type": "stream",
     "text": [
      "\r",
      "                                                                               \r",
      "\r",
      "N/A% (0 of 100) |                        | Elapsed Time: 0:00:00 ETA:  --:--:--"
     ]
    },
    {
     "name": "stdout",
     "output_type": "stream",
     "text": [
      "***Second Cluster Done***\n",
      "Initialization Done\n"
     ]
    },
    {
     "name": "stderr",
     "output_type": "stream",
     "text": [
      "100% (100 of 100) |######################| Elapsed Time: 0:00:39 Time:  0:00:39\n"
     ]
    },
    {
     "data": {
      "image/png": "[encoded data removed]",
      "text/plain": [
       "<matplotlib.figure.Figure at 0x7f3bdc060320>"
      ]
     },
     "metadata": {
      "needs_background": "light"
     },
     "output_type": "display_data"
    },
    {
     "name": "stdout",
     "output_type": "stream",
     "text": [
      "***Third Cluster Done***\n",
      "***Loading Done***\n",
      "Confusion Matrix\n",
      "[[  1.00000000e-10   4.90000000e+01]\n",
      " [  1.00000000e-10   4.90000000e+01]]\n",
      "Accuracy:  [ 0.5  0.5]\n",
      "Precision:  [ 0.5  0.5]\n",
      "Recall:  [  2.04081633e-12   1.00000000e+00]\n",
      "F-Measure:  [  4.08163265e-12   6.66666667e-01]\n",
      "Mean F-Measure:  0.333333333335\n",
      "Mean F-Measure:  0.333333333335\n",
      "Confusion Matrix\n",
      "[[  1.00000000e-10   4.90000000e+01]\n",
      " [  1.00000000e-10   4.90000000e+01]]\n",
      "Accuracy:  [ 0.5  0.5]\n",
      "Precision:  [ 0.5  0.5]\n",
      "Recall:  [  2.04081633e-12   1.00000000e+00]\n",
      "F-Measure:  [  4.08163265e-12   6.66666667e-01]\n",
      "Mean F-Measure:  0.333333333335\n",
      "Mean F-Measure:  0.333333333335\n",
      "Confusion Matrix\n",
      "[[  4.90000000e+01   1.00000000e-10]\n",
      " [  3.80000000e+01   1.10000000e+01]]\n",
      "Accuracy:  [ 0.6122449  0.6122449]\n",
      "Precision:  [ 0.56321839  1.        ]\n",
      "Recall:  [ 1.         0.2244898]\n",
      "F-Measure:  [ 0.72058824  0.36666667]\n",
      "Mean F-Measure:  0.543627450981\n",
      "Mean F-Measure:  0.543627450981\n"
     ]
    },
    {
     "name": "stderr",
     "output_type": "stream",
     "text": [
      "\r",
      "                                                                               \r",
      "\r",
      "N/A% (0 of 50) |                         | Elapsed Time: 0:00:00 ETA:  --:--:--"
     ]
    },
    {
     "name": "stdout",
     "output_type": "stream",
     "text": [
      "[[  2.10000000e+01   2.80000000e+01   1.00000000e+00]\n",
      " [  4.00000000e+00   4.50000000e+01   1.00000000e-10]\n",
      " [  1.50000000e+01   3.10000000e+01   3.00000000e+00]]\n",
      "Accuracy:  [ 0.67567568  0.57432432  0.68243243]\n",
      "Precision:  [ 0.525       0.43269231  0.75      ]\n",
      "Recall:  [ 0.42        0.91836735  0.06122449]\n",
      "F-Measure:  [ 0.46666667  0.58823529  0.11320755]\n",
      "8  completed\n"
     ]
    },
    {
     "name": "stderr",
     "output_type": "stream",
     "text": [
      "100% (50 of 50) |########################| Elapsed Time: 0:00:13 Time:  0:00:13\n",
      "100% (16 of 16) |########################| Elapsed Time: 0:00:00 Time:  0:00:00\n",
      "N/A% (0 of 50) |                         | Elapsed Time: 0:00:00 ETA:  --:--:--"
     ]
    },
    {
     "name": "stdout",
     "output_type": "stream",
     "text": [
      "1**done\n"
     ]
    },
    {
     "name": "stderr",
     "output_type": "stream",
     "text": [
      "100% (50 of 50) |########################| Elapsed Time: 0:00:24 Time:  0:00:24\n",
      "100% (16 of 16) |########################| Elapsed Time: 0:00:00 Time:  0:00:00\n",
      "N/A% (0 of 50) |                         | Elapsed Time: 0:00:00 ETA:  --:--:--"
     ]
    },
    {
     "name": "stdout",
     "output_type": "stream",
     "text": [
      "2**done\n"
     ]
    },
    {
     "name": "stderr",
     "output_type": "stream",
     "text": [
      "100% (50 of 50) |########################| Elapsed Time: 0:00:22 Time:  0:00:22\n",
      "100% (16 of 16) |########################| Elapsed Time: 0:00:00 Time:  0:00:00\n",
      "N/A% (0 of 100) |                        | Elapsed Time: 0:00:00 ETA:  --:--:--"
     ]
    },
    {
     "name": "stdout",
     "output_type": "stream",
     "text": [
      "3**done\n",
      "16 (3306, 24)\n",
      "16 (3335, 24)\n",
      "16 (2119, 24)\n",
      "Initialization Done\n"
     ]
    },
    {
     "name": "stderr",
     "output_type": "stream",
     "text": [
      "100% (100 of 100) |######################| Elapsed Time: 0:00:48 Time:  0:00:48\n"
     ]
    },
    {
     "data": {
      "image/png": "[encoded data removed]",
      "text/plain": [
       "<matplotlib.figure.Figure at 0x7f3bd62ef048>"
      ]
     },
     "metadata": {
      "needs_background": "light"
     },
     "output_type": "display_data"
    },
    {
     "name": "stderr",
     "output_type": "stream",
     "text": [
      "\r",
      "                                                                               \r",
      "\r",
      "N/A% (0 of 100) |                        | Elapsed Time: 0:00:00 ETA:  --:--:--"
     ]
    },
    {
     "name": "stdout",
     "output_type": "stream",
     "text": [
      "***First Cluster Done***\n",
      "Initialization Done\n"
     ]
    },
    {
     "name": "stderr",
     "output_type": "stream",
     "text": [
      "100% (100 of 100) |######################| Elapsed Time: 0:01:25 Time:  0:01:25\n"
     ]
    },
    {
     "data": {
      "image/png": "[encoded data removed]",
      "text/plain": [
       "<matplotlib.figure.Figure at 0x7f3bd62f24e0>"
      ]
     },
     "metadata": {
      "needs_background": "light"
     },
     "output_type": "display_data"
    },
    {
     "name": "stderr",
     "output_type": "stream",
     "text": [
      "\r",
      "                                                                               \r",
      "\r",
      "N/A% (0 of 100) |                        | Elapsed Time: 0:00:00 ETA:  --:--:--"
     ]
    },
    {
     "name": "stdout",
     "output_type": "stream",
     "text": [
      "***Second Cluster Done***\n",
      "Initialization Done\n"
     ]
    },
    {
     "name": "stderr",
     "output_type": "stream",
     "text": [
      "100% (100 of 100) |######################| Elapsed Time: 0:01:19 Time:  0:01:19\n"
     ]
    },
    {
     "data": {
      "image/png": "[encoded data removed]",
      "text/plain": [
       "<matplotlib.figure.Figure at 0x7f3bd66048d0>"
      ]
     },
     "metadata": {
      "needs_background": "light"
     },
     "output_type": "display_data"
    },
    {
     "name": "stdout",
     "output_type": "stream",
     "text": [
      "***Third Cluster Done***\n",
      "***Loading Done***\n",
      "Confusion Matrix\n",
      "[[ 10.  39.]\n",
      " [  3.  46.]]\n",
      "Accuracy:  [ 0.57142857  0.57142857]\n",
      "Precision:  [ 0.76923077  0.54117647]\n",
      "Recall:  [ 0.20408163  0.93877551]\n",
      "F-Measure:  [ 0.32258065  0.68656716]\n",
      "Mean F-Measure:  0.50457390467\n",
      "Mean F-Measure:  0.50457390467\n",
      "Confusion Matrix\n",
      "[[  1.00000000e-10   4.90000000e+01]\n",
      " [  1.00000000e-10   4.90000000e+01]]\n",
      "Accuracy:  [ 0.5  0.5]\n",
      "Precision:  [ 0.5  0.5]\n",
      "Recall:  [  2.04081633e-12   1.00000000e+00]\n",
      "F-Measure:  [  4.08163265e-12   6.66666667e-01]\n",
      "Mean F-Measure:  0.333333333335\n",
      "Mean F-Measure:  0.333333333335\n",
      "Confusion Matrix\n",
      "[[ 47.   2.]\n",
      " [ 33.  16.]]\n",
      "Accuracy:  [ 0.64285714  0.64285714]\n",
      "Precision:  [ 0.5875      0.88888889]\n",
      "Recall:  [ 0.95918367  0.32653061]\n",
      "F-Measure:  [ 0.72868217  0.47761194]\n",
      "Mean F-Measure:  0.60314705542\n",
      "Mean F-Measure:  0.60314705542\n",
      "[[  3.50000000e+01   1.50000000e+01   1.00000000e-10]\n",
      " [  1.30000000e+01   3.40000000e+01   2.00000000e+00]\n",
      " [  2.90000000e+01   1.60000000e+01   4.00000000e+00]]\n",
      "Accuracy:  [ 0.61486486  0.68918919  0.68243243]\n",
      "Precision:  [ 0.45454545  0.52307692  0.66666667]\n",
      "Recall:  [ 0.7         0.69387755  0.08163265]\n",
      "F-Measure:  [ 0.5511811   0.59649123  0.14545455]\n",
      "16  completed\n"
     ]
    }
   ],
   "source": [
    "def main():\n",
    "    train1, train2, train3, test1, test2, test3 = load_data()\n",
    "    print(train1.shape)\n",
    "    K = [2,4,8,16]\n",
    "    dims = 24\n",
    "    for k in K:\n",
    "        mean, cluster1 = kmeans(train1, k, dims)\n",
    "        np.save('kmeans_mean1_k_{}.npy'.format(k),mean)\n",
    "        print('1**done')\n",
    "        mean, cluster2 = kmeans(train2, k, dims)\n",
    "        np.save('kmeans_mean2_k_{}.npy'.format(k),mean)\n",
    "        print('2**done')\n",
    "        mean, cluster3 = kmeans(train3, k, dims)\n",
    "        np.save('kmeans_mean3_k_{}.npy'.format(k),mean)\n",
    "        print('3**done')\n",
    "\n",
    "        print(len(cluster1), cluster1[0].shape)\n",
    "        print(len(cluster2), cluster2[0].shape)\n",
    "        print(len(cluster3), cluster3[0].shape)\n",
    "        \n",
    "        mu1, cov1, pi1, gamma = gmm(cluster1, train1, k, dims)\n",
    "        np.save('kmeans_mu1_k_{}.npy'.format(k),mu1)\n",
    "        np.save('kmeans_cov1_k_{}.npy'.format(k),cov1)\n",
    "        np.save('kmeans_pi1_k_{}.npy'.format(k),pi1)\n",
    "        print('***First Cluster Done***')\n",
    "        mu2, cov2, pi2, gamma = gmm(cluster2, train2, k, dims)\n",
    "        np.save('kmeans_mu2_k_{}.npy'.format(k),mu2)\n",
    "        np.save('kmeans_cov2_k_{}.npy'.format(k),cov2)\n",
    "        np.save('kmeans_pi2_k_{}.npy'.format(k),pi2)\n",
    "        print('***Second Cluster Done***')\n",
    "        mu3, cov3, pi3, gamma = gmm(cluster3, train3, k, dims)\n",
    "        np.save('kmeans_mu3_k_{}.npy'.format(k),mu3)\n",
    "        np.save('kmeans_cov3_k_{}.npy'.format(k),cov3)\n",
    "        np.save('kmeans_pi3_k_{}.npy'.format(k),pi3)\n",
    "        print('***Third Cluster Done***')\n",
    "        mu1 = np.load('kmeans_mu1_k_{}.npy'.format(k))\n",
    "        cov1 = np.load('kmeans_cov1_k_{}.npy'.format(k))\n",
    "        pi1 = np.load('kmeans_pi1_k_{}.npy'.format(k))\n",
    "        mu2 = np.load('kmeans_mu2_k_{}.npy'.format(k))\n",
    "        cov2 = np.load('kmeans_cov2_k_{}.npy'.format(k))\n",
    "        pi2 = np.load('kmeans_pi2_k_{}.npy'.format(k))\n",
    "        mu3 = np.load('kmeans_mu3_k_{}.npy'.format(k))\n",
    "        cov3 = np.load('kmeans_cov3_k_{}.npy'.format(k))\n",
    "        pi3 = np.load('kmeans_pi3_k_{}.npy'.format(k))\n",
    "        print('***Loading Done***')\n",
    "        pair_plot(test1, test2, train1, train2, mu1, cov1, pi1, mu2, cov2, pi2, 1, 2)\n",
    "        pair_plot(test1, test3, train1, train3, mu1, cov1, pi1, mu3, cov3, pi3, 1, 3)\n",
    "        pair_plot(test2, test3, train2, train3, mu2, cov2, pi2, mu3, cov3, pi3, 2, 3)\n",
    "        \n",
    "        \n",
    "        total_plot(test1, test2, test3, train1, train2, train3, mu1, cov1, pi1, mu2, cov2, \n",
    "                   pi2, mu3, cov3, pi3)\n",
    "        print(k, ' completed')\n",
    "if(__name__==\"__main__\"):    \n",
    "    main()    "
   ]
  },
  {
   "cell_type": "code",
   "execution_count": null,
   "metadata": {},
   "outputs": [],
   "source": []
  },
  {
   "cell_type": "code",
   "execution_count": null,
   "metadata": {},
   "outputs": [],
   "source": []
  },
  {
   "cell_type": "code",
   "execution_count": null,
   "metadata": {},
   "outputs": [],
   "source": []
  },
  {
   "cell_type": "code",
   "execution_count": null,
   "metadata": {},
   "outputs": [],
   "source": []
  }
 ],
 "metadata": {
  "kernelspec": {
   "display_name": "Python 3",
   "language": "python",
   "name": "python3"
  },
  "language_info": {
   "codemirror_mode": {
    "name": "ipython",
    "version": 3
   },
   "file_extension": ".py",
   "mimetype": "text/x-python",
   "name": "python",
   "nbconvert_exporter": "python",
   "pygments_lexer": "ipython3",
   "version": "3.6.5"
  }
 },
 "nbformat": 4,
 "nbformat_minor": 2
}
