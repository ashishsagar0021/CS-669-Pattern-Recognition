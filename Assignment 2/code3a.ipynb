{
 "cells": [
  {
   "cell_type": "code",
   "execution_count": 1,
   "metadata": {},
   "outputs": [
    {
     "name": "stdout",
     "output_type": "stream",
     "text": [
      "Requirement already satisfied: progressbar2 in /home/knot/.local/lib/python2.7/site-packages\n",
      "Requirement already satisfied: python-utils>=2.3.0 in /home/knot/.local/lib/python2.7/site-packages (from progressbar2)\n",
      "Requirement already satisfied: six in /home/knot/.local/lib/python2.7/site-packages (from progressbar2)\n",
      "\u001b[33mYou are using pip version 9.0.3, however version 18.1 is available.\n",
      "You should consider upgrading via the 'pip install --upgrade pip' command.\u001b[0m\n"
     ]
    }
   ],
   "source": [
    "!pip install progressbar2"
   ]
  },
  {
   "cell_type": "code",
   "execution_count": 2,
   "metadata": {},
   "outputs": [],
   "source": [
    "import os\n",
    "import numpy as np\n",
    "import matplotlib.pyplot as plt\n",
    "import matplotlib.patches as mpatches\n",
    "from random import shuffle\n",
    "import progressbar\n",
    "\n",
    "def load_data():\n",
    "    \n",
    "    path = './'\n",
    "    pctr1 = os.path.join(path,'data_class1_train.npy')\n",
    "    pctr2 = os.path.join(path,'data_class2_train.npy')\n",
    "    pctr3 = os.path.join(path,'data_class3_train.npy')\n",
    "    pcte1 = os.path.join(path,'data_class1_test.npy')\n",
    "    pcte2 = os.path.join(path,'data_class2_test.npy')\n",
    "    pcte3 = os.path.join(path,'data_class3_test.npy')\n",
    "    \n",
    "    \n",
    "    train1 = np.load(pctr1)\n",
    "    train2 = np.load(pctr2)\n",
    "    train3 = np.load(pctr3)\n",
    "    test1 = np.load(pcte1)\n",
    "    test2 = np.load(pcte2)\n",
    "    test3 = np.load(pcte3)\n",
    "    \n",
    "    return train1, train2, train3, test1, test2, test3"
   ]
  },
  {
   "cell_type": "code",
   "execution_count": 3,
   "metadata": {},
   "outputs": [],
   "source": [
    "def get_predictions(x, mu, cov, pi, prior):\n",
    "    sum_g = 0\n",
    "    l = len(cov)\n",
    "    g = x-mu[0]\n",
    "    for i in range(l):\n",
    "        I = np.identity(cov[i].shape[0], dtype=float)\n",
    "        p = 1e-2\n",
    "        I = p*I\n",
    "        cov[i]+=I\n",
    "        sum_g+=(pi[i]*(np.linalg.det(cov[i])**-.5)*((2 * np.pi)**(-x.shape[0]/2.))* np.exp(-.5 * np.matmul((x - mu[i]),np.matmul(np.linalg.inv(cov[i]),(x- mu[i]).T).T)))\n",
    "    return sum_g*prior"
   ]
  },
  {
   "cell_type": "code",
   "execution_count": 4,
   "metadata": {},
   "outputs": [],
   "source": [
    "def get_confusion_mat(c1, c2, c3, classes):\n",
    "    \n",
    "    lis = []\n",
    "    if(c3!=0):\n",
    "        conf_mat = np.full((3,3),1e-10)\n",
    "        for i in range(c1):\n",
    "            lis.append(0)\n",
    "        for i in range(c2):\n",
    "            lis.append(1)\n",
    "        for i in range(c3):\n",
    "            lis.append(2)\n",
    "        for i in range(len(classes)):\n",
    "            conf_mat[lis[i]][classes[i]]+=1\n",
    "        return np.array(conf_mat)\n",
    "    else:\n",
    "        conf_mat = np.full((2,2),1e-10)\n",
    "        for i in range(c1):\n",
    "            lis.append(0)\n",
    "        for i in range(c2):\n",
    "            lis.append(1)\n",
    "        for i in range(len(classes)):\n",
    "            conf_mat[lis[i]][classes[i]]+=1\n",
    "\n",
    "        return np.array(conf_mat)"
   ]
  },
  {
   "cell_type": "code",
   "execution_count": 5,
   "metadata": {},
   "outputs": [],
   "source": [
    "def metric(conf_matrix):\n",
    "    x = conf_matrix.shape[0]\n",
    "    precision = []\n",
    "    accuracy = []\n",
    "    recall = []\n",
    "    f_measure = []\n",
    "    total_sum = np.sum(conf_matrix)\n",
    "    for i in range(x):\n",
    "        TP = conf_matrix[i][i]\n",
    "        FN = np.sum(conf_matrix[i,:])-conf_matrix[i][i]\n",
    "        FP = np.sum(conf_matrix[:,i])-conf_matrix[i][i]\n",
    "        TN = total_sum-(TP+FP+FN)\n",
    "\n",
    "        recal = TP/(TP+FN)\n",
    "        preci = TP/(TP+FP)\n",
    "        acc = (TP+TN)/(TP+TN+FP+FN)\n",
    "        \n",
    "        precision.append(preci)\n",
    "        recall.append(recal)\n",
    "        accuracy.append(acc)\n",
    "        f_measure.append((2*recal*preci)/(recal+preci))\n",
    "        \n",
    "    return accuracy,precision,recall,f_measure"
   ]
  },
  {
   "cell_type": "code",
   "execution_count": null,
   "metadata": {},
   "outputs": [],
   "source": []
  },
  {
   "cell_type": "code",
   "execution_count": 6,
   "metadata": {},
   "outputs": [],
   "source": [
    "def pair_plot(test1, test2, train1, train2, mu1, cov1, pi1, mu2, cov2, pi2, il, jl):\n",
    "    le1 = train1.shape[0]\n",
    "    le2 = train2.shape[0]\n",
    "    le = le1+le2\n",
    "    g1 = []\n",
    "    g2 = []\n",
    "    lw1 = test1.shape[0]\n",
    "    lw2 = test2.shape[0]\n",
    "    for i in range(lw1):\n",
    "        pr = get_predictions(test1[i], mu1, cov1, pi1, le1/le)\n",
    "        g1.append(pr)\n",
    "        pr = get_predictions(test1[i], mu2, cov2, pi2, le2/le)\n",
    "        g2.append(pr)\n",
    "    for i in range(lw2):\n",
    "        pr = get_predictions(test2[i], mu1, cov1, pi1, le1/le)\n",
    "        g1.append(pr)\n",
    "        pr = get_predictions(test2[i], mu2, cov2, pi2, le2/le)\n",
    "        g2.append(pr)\n",
    "\n",
    "\n",
    "    classes = []\n",
    "    lw = lw1+lw2\n",
    "    for i in range(lw):\n",
    "        classes.append(np.argmax([g1[i],g2[i]]))\n",
    "\n",
    "    conf_mat = get_confusion_mat(lw1, lw2, 0, classes)\n",
    "    print(\"Confusion Matrix\")\n",
    "    print(conf_mat)\n",
    "    temp = np.array(metric(conf_mat))\n",
    "    print(\"Accuracy: \",temp[0,:])\n",
    "    print(\"Precision: \",temp[1,:])\n",
    "    print(\"Recall: \",temp[2,:])\n",
    "    print(\"F-Measure: \",temp[3,:])\n",
    "    print(\"Mean F-Measure: \",np.mean(temp[3,:]))\n",
    "    print(\"Mean F-Measure: \",np.mean(temp[3,:]))"
   ]
  },
  {
   "cell_type": "code",
   "execution_count": 7,
   "metadata": {},
   "outputs": [],
   "source": [
    "def total_plot(test1, test2, test3, train1, train2, train3, mu1, cov1, pi1, mu2, cov2, pi2, mu3, cov3, pi3):\n",
    "    le1 = train1.shape[0]\n",
    "    le2 = train2.shape[0]\n",
    "    le3 = train3.shape[0]\n",
    "    le = le1+le2+le3\n",
    "    g1 = []\n",
    "    g2 = []\n",
    "    g3 = []\n",
    "    lw1 = test1.shape[0]\n",
    "    lw2 = test2.shape[0]\n",
    "    lw3 = test3.shape[0]\n",
    "    for i in range(lw1):\n",
    "        pr = get_predictions(test1[i], mu1, cov1, pi1, le1/le)\n",
    "        g1.append(pr)\n",
    "        pr = get_predictions(test1[i], mu2, cov2, pi2, le2/le)\n",
    "        g2.append(pr)\n",
    "        pr = get_predictions(test1[i], mu3, cov3, pi3, le3/le)\n",
    "        g3.append(pr)\n",
    "    for i in range(lw2):\n",
    "        pr = get_predictions(test2[i], mu1, cov1, pi1, le1/le)\n",
    "        g1.append(pr)\n",
    "        pr = get_predictions(test2[i], mu2, cov2, pi2, le2/le)\n",
    "        g2.append(pr)\n",
    "        pr = get_predictions(test2[i], mu3, cov3, pi3, le3/le)\n",
    "        g3.append(pr)\n",
    "    for i in range(lw3):\n",
    "        pr = get_predictions(test3[i], mu1, cov1, pi1, le1/le)\n",
    "        g1.append(pr)\n",
    "        pr = get_predictions(test3[i], mu2, cov2, pi2, le2/le)\n",
    "        g2.append(pr)\n",
    "        pr = get_predictions(test3[i], mu3, cov3, pi3, le3/le)\n",
    "        g3.append(pr)\n",
    "\n",
    "\n",
    "    classes = []\n",
    "    lw = lw1+lw2+lw3\n",
    "    for i in range(lw):\n",
    "        classes.append(np.argmax([g1[i],g2[i],g3[i]]))\n",
    "\n",
    "    conf_mat = get_confusion_mat(lw1, lw2, lw3, classes)\n",
    "    print(conf_mat)\n",
    "    temp = np.array(metric(conf_mat))\n",
    "    print(\"Accuracy: \",temp[0,:])\n",
    "    print(\"Precision: \",temp[1,:])\n",
    "    print(\"Recall: \",temp[2,:])\n",
    "    print(\"F-Measure: \",temp[3,:])\n",
    "    print(\"Mean F-Measure: \",np.mean(temp[3,:]))"
   ]
  },
  {
   "cell_type": "code",
   "execution_count": 8,
   "metadata": {},
   "outputs": [],
   "source": [
    "def gaussian_normal(x, mu, cov):\n",
    "    I = np.identity(cov.shape[0], dtype=float)\n",
    "    p = 1e-2\n",
    "    I = p*I\n",
    "    cov+=I\n",
    "    inv_cov = np.linalg.inv(cov)\n",
    "    g = (np.linalg.det(cov)**-.5)*((2 * np.pi)**(-x.shape[1]/2.))* np.exp(-.5 * np.einsum('ij, ij -> i',x - mu,np.dot(np.linalg.inv(cov),(x- mu).T).T)) \n",
    "    return g\n",
    "\n",
    "def gmm(cluster, pts, k, dims):\n",
    "    mu = []                    #mean of each cluster\n",
    "    cov = []                   #covaraince matrix for each cluster\n",
    "    pi =  []                   #mixture coefficients for each clusters\n",
    "    n = len(pts)               #total number of points in the given class\n",
    "    gamma = np.ndarray(shape=(n,k),dtype=float)\n",
    "    for i in range(k):\n",
    "        pi.append(cluster[i].shape[0]/n)\n",
    "        mean = np.mean(cluster[i], axis=0)\n",
    "        mu.append(mean)\n",
    "        covariance = np.cov(cluster[i].T)\n",
    "        cov.append(covariance)\n",
    "    \n",
    "    print('Initialization Done')\n",
    "    likelihood = []\n",
    "    for t in range(100):\n",
    "        for j in range(k):\n",
    "            gamma[:,j] = pi[j]*gaussian_normal(pts,mu[j],cov[j])\n",
    "        li = np.sum(np.log(np.sum(gamma, axis = 1)))\n",
    "        \n",
    "        likelihood.append(li)\n",
    "        gamma = (gamma.T / np.sum(gamma, axis = 1)).T\n",
    "        n_eff = np.sum(gamma, axis = 0)\n",
    "        for i in range(k):\n",
    "            mu[i] = (1/n_eff[i])*np.sum(gamma[:, i] * pts.T, axis = 1).T\n",
    "            x_mu = np.matrix(pts - mu[i])\n",
    "            cov[i] = np.array(1/n_eff[i])*np.dot(np.multiply(x_mu.T,  gamma[:, i]), x_mu)\n",
    "            pi[i] = n_eff[i]/n\n",
    "    \n",
    "    plt.plot(likelihood)\n",
    "    plt.title('Log-Likelihood vs Iteration plot')\n",
    "    plt.xlabel('Iterations')\n",
    "    plt.ylabel('log-likelihood')\n",
    "    plt.show()\n",
    "\n",
    "    return mu, cov, pi, gamma"
   ]
  },
  {
   "cell_type": "code",
   "execution_count": 9,
   "metadata": {},
   "outputs": [],
   "source": [
    "def kmeans(data,k, dim):\n",
    "    \n",
    "    l = data.shape[0]\n",
    "    lis = []\n",
    "    for i in range(l):\n",
    "        lis.append(data[i,:])\n",
    "    \n",
    "    shuffle(lis)\n",
    "    cluster = []\n",
    "    mean = []\n",
    "    for i in range(k):\n",
    "        mean.append(lis[i])\n",
    "            \n",
    "    \n",
    "    for i in progressbar.progressbar(range(50)):\n",
    "        cluster[:]=[]\n",
    "        \n",
    "        distance=[]\n",
    "        clust=[]\n",
    "        for j in range(l):\n",
    "            distance.append(1e15)\n",
    "            clust.append(-1)\n",
    "        for j in range(k):\n",
    "            temp=[]\n",
    "            cluster.append(temp)\n",
    "        for j in range(k):\n",
    "            dis = np.linalg.norm(data-mean[j], axis=1)\n",
    "            for p in range(l):\n",
    "                if(dis[p]<distance[p]):\n",
    "                    distance[p]=dis[p]\n",
    "                    clust[p] = j\n",
    "                    \n",
    "        for j in range(l):\n",
    "            cluster[clust[j]].append(data[j])\n",
    "            \n",
    "        for j in range(k):\n",
    "            mean[j]=np.mean(cluster[j], axis=0)\n",
    "            \n",
    "    for i in progressbar.progressbar(range(k)):\n",
    "        cluster[i]=np.array(cluster[i])\n",
    "        \n",
    "    return mean, cluster"
   ]
  },
  {
   "cell_type": "code",
   "execution_count": 10,
   "metadata": {},
   "outputs": [
    {
     "name": "stderr",
     "output_type": "stream",
     "text": [
      "100% (50 of 50) |########################| Elapsed Time: 0:00:17 Time:  0:00:17\n",
      "100% (16 of 16) |########################| Elapsed Time: 0:00:00 Time:  0:00:00\n",
      "N/A% (0 of 50) |                         | Elapsed Time: 0:00:00 ETA:  --:--:--"
     ]
    },
    {
     "name": "stdout",
     "output_type": "stream",
     "text": [
      "1**done\n"
     ]
    },
    {
     "name": "stderr",
     "output_type": "stream",
     "text": [
      "100% (50 of 50) |########################| Elapsed Time: 0:00:30 Time:  0:00:30\n",
      "100% (16 of 16) |########################| Elapsed Time: 0:00:00 Time:  0:00:00\n",
      "N/A% (0 of 50) |                         | Elapsed Time: 0:00:00 ETA:  --:--:--"
     ]
    },
    {
     "name": "stdout",
     "output_type": "stream",
     "text": [
      "2**done\n"
     ]
    },
    {
     "name": "stderr",
     "output_type": "stream",
     "text": [
      "100% (50 of 50) |########################| Elapsed Time: 0:00:25 Time:  0:00:25\n",
      "100% (16 of 16) |########################| Elapsed Time: 0:00:00 Time:  0:00:00\n"
     ]
    },
    {
     "name": "stdout",
     "output_type": "stream",
     "text": [
      "3**done\n",
      "16 (2939, 24)\n",
      "16 (7667, 24)\n",
      "16 (5693, 24)\n",
      "Initialization Done\n"
     ]
    },
    {
     "data": {
      "image/png": "[encoded data removed]",
      "text/plain": [
       "<matplotlib.figure.Figure at 0x7eff8375c400>"
      ]
     },
     "metadata": {
      "needs_background": "light"
     },
     "output_type": "display_data"
    },
    {
     "name": "stdout",
     "output_type": "stream",
     "text": [
      "***First Cluster Done***\n",
      "Initialization Done\n"
     ]
    },
    {
     "data": {
      "image/png": "[encoded data removed]",
      "text/plain": [
       "<matplotlib.figure.Figure at 0x7eff7de4d550>"
      ]
     },
     "metadata": {
      "needs_background": "light"
     },
     "output_type": "display_data"
    },
    {
     "name": "stdout",
     "output_type": "stream",
     "text": [
      "***Second Cluster Done***\n",
      "Initialization Done\n"
     ]
    },
    {
     "data": {
      "image/png": "[encoded data removed]",
      "text/plain": [
       "<matplotlib.figure.Figure at 0x7effb342e128>"
      ]
     },
     "metadata": {
      "needs_background": "light"
     },
     "output_type": "display_data"
    },
    {
     "name": "stdout",
     "output_type": "stream",
     "text": [
      "***Third Cluster Done***\n",
      "***Loading Done***\n",
      "[[ 15257.  19323.  20784.]\n",
      " [ 15779.  42255.  28688.]\n",
      " [ 22477.  33631.  39848.]]\n",
      "Accuracy:  [ 0.67080179  0.59074029  0.55646483]\n",
      "Precision:  [ 0.28510829  0.44381308  0.44612629]\n",
      "Recall:  [ 0.27557619  0.4872466   0.41527367]\n",
      "F-Measure:  [ 0.28026121  0.46451677  0.43014746]\n",
      "Mean F-Measure:  0.391641811742\n",
      "16  completed\n"
     ]
    }
   ],
   "source": [
    "def main():\n",
    "    train1, train2, train3, test1, test2, test3 = load_data()\n",
    "    K = [16]\n",
    "    dims = 24\n",
    "    for k in K:\n",
    "        mean, cluster1 = kmeans(train1, k, dims)\n",
    "        np.save('kmeans_mean1_k_{}.npy'.format(k),mean)\n",
    "        print('1**done')\n",
    "        mean, cluster2 = kmeans(train2, k, dims)\n",
    "        np.save('kmeans_mean2_k_{}.npy'.format(k),mean)\n",
    "        print('2**done')\n",
    "        mean, cluster3 = kmeans(train3, k, dims)\n",
    "        np.save('kmeans_mean3_k_{}.npy'.format(k),mean)\n",
    "        print('3**done')\n",
    "\n",
    "        print(len(cluster1), cluster1[0].shape)\n",
    "        print(len(cluster2), cluster2[0].shape)\n",
    "        print(len(cluster3), cluster3[0].shape)\n",
    "        \n",
    "        mu1, cov1, pi1, gamma = gmm(cluster1, train1, k, dims)\n",
    "        np.save('kmeans_mu1_k_{}.npy'.format(k),mu1)\n",
    "        np.save('kmeans_cov1_k_{}.npy'.format(k),cov1)\n",
    "        np.save('kmeans_pi1_k_{}.npy'.format(k),pi1)\n",
    "        print('***First Cluster Done***')\n",
    "        mu2, cov2, pi2, gamma = gmm(cluster2, train2, k, dims)\n",
    "        np.save('kmeans_mu2_k_{}.npy'.format(k),mu2)\n",
    "        np.save('kmeans_cov2_k_{}.npy'.format(k),cov2)\n",
    "        np.save('kmeans_pi2_k_{}.npy'.format(k),pi2)\n",
    "        print('***Second Cluster Done***')\n",
    "        mu3, cov3, pi3, gamma = gmm(cluster3, train3, k, dims)\n",
    "        np.save('kmeans_mu3_k_{}.npy'.format(k),mu3)\n",
    "        np.save('kmeans_cov3_k_{}.npy'.format(k),cov3)\n",
    "        np.save('kmeans_pi3_k_{}.npy'.format(k),pi3)\n",
    "        print('***Third Cluster Done***')\n",
    "        mu1 = np.load('kmeans_mu1_k_{}.npy'.format(k))\n",
    "        cov1 = np.load('kmeans_cov1_k_{}.npy'.format(k))\n",
    "        pi1 = np.load('kmeans_pi1_k_{}.npy'.format(k))\n",
    "        mu2 = np.load('kmeans_mu2_k_{}.npy'.format(k))\n",
    "        cov2 = np.load('kmeans_cov2_k_{}.npy'.format(k))\n",
    "        pi2 = np.load('kmeans_pi2_k_{}.npy'.format(k))\n",
    "        mu3 = np.load('kmeans_mu3_k_{}.npy'.format(k))\n",
    "        cov3 = np.load('kmeans_cov3_k_{}.npy'.format(k))\n",
    "        pi3 = np.load('kmeans_pi3_k_{}.npy'.format(k))\n",
    "        print('***Loading Done***')\n",
    "#         pair_plot(test1, test2, train1, train2, mu1, cov1, pi1, mu2, cov2, pi2, 1, 2)\n",
    "#         pair_plot(test1, test3, train1, train3, mu1, cov1, pi1, mu3, cov3, pi3, 1, 3)\n",
    "#         pair_plot(test2, test3, train2, train3, mu2, cov2, pi2, mu3, cov3, pi3, 2, 3)\n",
    "        \n",
    "        \n",
    "        total_plot(test1, test2, test3, train1, train2, train3, mu1, cov1, pi1, mu2, cov2, \n",
    "                   pi2, mu3, cov3, pi3)\n",
    "        print(k, ' completed')\n",
    "if(__name__==\"__main__\"):    \n",
    "    main()    "
   ]
  },
  {
   "cell_type": "code",
   "execution_count": null,
   "metadata": {},
   "outputs": [],
   "source": []
  },
  {
   "cell_type": "code",
   "execution_count": null,
   "metadata": {},
   "outputs": [],
   "source": []
  },
  {
   "cell_type": "code",
   "execution_count": null,
   "metadata": {},
   "outputs": [],
   "source": []
  },
  {
   "cell_type": "code",
   "execution_count": null,
   "metadata": {},
   "outputs": [],
   "source": []
  }
 ],
 "metadata": {
  "kernelspec": {
   "display_name": "Python 3",
   "language": "python",
   "name": "python3"
  },
  "language_info": {
   "codemirror_mode": {
    "name": "ipython",
    "version": 3
   },
   "file_extension": ".py",
   "mimetype": "text/x-python",
   "name": "python",
   "nbconvert_exporter": "python",
   "pygments_lexer": "ipython3",
   "version": "3.6.5"
  }
 },
 "nbformat": 4,
 "nbformat_minor": 2
}
