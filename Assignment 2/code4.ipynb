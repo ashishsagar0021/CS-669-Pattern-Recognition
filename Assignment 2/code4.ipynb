{
 "cells": [
  {
   "cell_type": "code",
   "execution_count": 109,
   "metadata": {},
   "outputs": [],
   "source": [
    "import os\n",
    "import numpy as np\n",
    "import matplotlib.pyplot as plt\n",
    "import matplotlib.patches as mpatches\n",
    "from random import shuffle\n",
    "import progressbar\n",
    "import cv2\n",
    "\n",
    "def load_data():\n",
    "    train = np.load('./data4.npy')\n",
    "    return train"
   ]
  },
  {
   "cell_type": "code",
   "execution_count": 110,
   "metadata": {},
   "outputs": [],
   "source": [
    "def get_predictions_gmm(x, mu, cov, pi, prior):\n",
    "    sum_g = 0\n",
    "    l = len(cov)\n",
    "    g = x-mu[0]\n",
    "    for i in range(l):\n",
    "        I = np.identity(cov[i].shape[0], dtype=float)\n",
    "        p = 1e-2\n",
    "        I = p*I\n",
    "        cov[i]+=I\n",
    "        sum_g+=(pi[i]*(np.linalg.det(cov[i])**-.5)*((2 * np.pi)**(-x.shape[0]/2.))* np.exp(-.5 * np.matmul((x - mu[i]),np.matmul(np.linalg.inv(cov[i]),(x- mu[i]).T).T)))\n",
    "    return sum_g*prior"
   ]
  },
  {
   "cell_type": "code",
   "execution_count": 111,
   "metadata": {},
   "outputs": [],
   "source": [
    "def gaussian_normal(x, mu, cov):\n",
    "    I = np.identity(cov.shape[0], dtype=float)\n",
    "    p = 1e-2\n",
    "    I = p*I\n",
    "    cov+=I\n",
    "    inv_cov = np.linalg.inv(cov)\n",
    "    g = (np.linalg.det(cov)**-.5)*((2 * np.pi)**(-x.shape[1]/2.))* np.exp(-.5 * np.einsum('ij, ij -> i',x - mu,np.dot(np.linalg.inv(cov),(x- mu).T).T)) \n",
    "    return g\n",
    "\n",
    "def gmm(cluster, pts, k, dims):\n",
    "    mu = []                    #mean of each cluster\n",
    "    cov = []                   #covaraince matrix for each cluster\n",
    "    pi =  []                   #mixture coefficients for each clusters\n",
    "    n = len(pts)               #total number of points in the given class\n",
    "    gamma = np.ndarray(shape=(n,k),dtype=float)\n",
    "    for i in range(k):\n",
    "        pi.append(cluster[i].shape[0]/n)\n",
    "        mean = np.mean(cluster[i], axis=0)\n",
    "        mu.append(mean)\n",
    "        covariance = np.cov(cluster[i].T)\n",
    "        cov.append(covariance)\n",
    "    \n",
    "    print('Initialization Done')\n",
    "    likelihood = []\n",
    "    for t in range(100):\n",
    "        for j in range(k):\n",
    "            gamma[:,j] = pi[j]*gaussian_normal(pts,mu[j],cov[j])\n",
    "        li = np.sum(np.log(np.sum(gamma, axis = 1)))\n",
    "        \n",
    "        likelihood.append(li)\n",
    "        gamma = (gamma.T / np.sum(gamma, axis = 1)).T\n",
    "        n_eff = np.sum(gamma, axis = 0)\n",
    "        for i in range(k):\n",
    "            mu[i] = (1/n_eff[i])*np.sum(gamma[:, i] * pts.T, axis = 1).T\n",
    "            x_mu = np.matrix(pts - mu[i])\n",
    "            cov[i] = np.array(1/n_eff[i])*np.dot(np.multiply(x_mu.T,  gamma[:, i]), x_mu)\n",
    "            pi[i] = n_eff[i]/n\n",
    "    \n",
    "    plt.plot(likelihood)\n",
    "    plt.title('Log-Likelihood vs Iteration plot')\n",
    "    plt.xlabel('Iterations')\n",
    "    plt.ylabel('log-likelihood')\n",
    "    plt.show()\n",
    "\n",
    "    return mu, cov, pi, gamma"
   ]
  },
  {
   "cell_type": "code",
   "execution_count": 112,
   "metadata": {},
   "outputs": [],
   "source": [
    "def kmeans(data,k, dim):\n",
    "    \n",
    "    l = data.shape[0]\n",
    "    lis = []\n",
    "    for i in range(l):\n",
    "        lis.append(data[i,:])\n",
    "    \n",
    "    shuffle(lis)\n",
    "    cluster = []\n",
    "    mean = []\n",
    "    for i in range(k):\n",
    "        mean.append(lis[i])\n",
    "            \n",
    "    \n",
    "    for i in progressbar.progressbar(range(100)):\n",
    "        cluster[:]=[]\n",
    "        \n",
    "        distance=[]\n",
    "        clust=[]\n",
    "        for j in range(l):\n",
    "            distance.append(1e15)\n",
    "            clust.append(-1)\n",
    "        for j in range(k):\n",
    "            temp=[]\n",
    "            cluster.append(temp)\n",
    "        for j in range(k):\n",
    "            dis = np.linalg.norm(data-mean[j], axis=1)\n",
    "            for p in range(l):\n",
    "                if(dis[p]<distance[p]):\n",
    "                    distance[p]=dis[p]\n",
    "                    clust[p] = j\n",
    "                    \n",
    "        for j in range(l):\n",
    "            cluster[clust[j]].append(data[j])\n",
    "            \n",
    "        for j in range(k):\n",
    "            mean[j]=np.mean(cluster[j], axis=0)\n",
    "            \n",
    "    for i in progressbar.progressbar(range(k)):\n",
    "        cluster[i]=np.array(cluster[i])\n",
    "        \n",
    "    return mean, cluster\n"
   ]
  },
  {
   "cell_type": "code",
   "execution_count": 126,
   "metadata": {},
   "outputs": [],
   "source": [
    "def get_image(mean, img):\n",
    "    new_img = np.ndarray(shape=(img.shape[0],img.shape[1],3),dtype=float)\n",
    "    color = {0:[255,0,0],1:[0,255,0],2:[0,0,255]}\n",
    "    for i in progressbar.progressbar(range(0,img.shape[0]-2)):\n",
    "        for j in range(0,img.shape[1]-2):\n",
    "            data = []\n",
    "            temp = img[i:i+2,j:j+2]\n",
    "            lis = np.reshape(temp,(4,1))\n",
    "            g = np.var(lis.T)\n",
    "            data.append([np.mean(lis), np.asscalar(g)])\n",
    "            l = []\n",
    "            x = np.array(data)\n",
    "            for k in range(3):\n",
    "                mu = mean[k]\n",
    "                mu = np.array(mu)\n",
    "                l.append(np.linalg.norm(x-mu))\n",
    "                \n",
    "                \n",
    "            ind = np.argmin(l)\n",
    "            new_img[i][j][0]=color[ind][0]\n",
    "            new_img[i][j][1]=color[ind][1]\n",
    "            new_img[i][j][2]=color[ind][2]\n",
    "    \n",
    "    return new_img    "
   ]
  },
  {
   "cell_type": "code",
   "execution_count": null,
   "metadata": {},
   "outputs": [
    {
     "name": "stderr",
     "output_type": "stream",
     "text": [
      "\r",
      "                                                                               \r",
      "\r",
      "N/A% (0 of 516) |                        | Elapsed Time: 0:00:00 ETA:  --:--:--"
     ]
    },
    {
     "name": "stdout",
     "output_type": "stream",
     "text": [
      "(443760, 2)\n",
      "[[  197.4962179    403.17779127]\n",
      " [  220.04737355    12.94437693]\n",
      " [  148.05011686  1308.77199976]]\n",
      "60.png\n"
     ]
    },
    {
     "name": "stderr",
     "output_type": "stream",
     "text": [
      "100% (516 of 516) |######################| Elapsed Time: 0:02:53 Time:  0:02:53\n",
      "N/A% (0 of 516) |                        | Elapsed Time: 0:00:00 ETA:  --:--:--"
     ]
    },
    {
     "name": "stdout",
     "output_type": "stream",
     "text": [
      "50.png\n"
     ]
    },
    {
     "name": "stderr",
     "output_type": "stream",
     "text": [
      "100% (516 of 516) |######################| Elapsed Time: 0:01:53 Time:  0:01:53\n",
      "N/A% (0 of 516) |                        | Elapsed Time: 0:00:00 ETA:  --:--:--"
     ]
    },
    {
     "name": "stdout",
     "output_type": "stream",
     "text": [
      "55.png\n"
     ]
    },
    {
     "name": "stderr",
     "output_type": "stream",
     "text": [
      "100% (516 of 516) |######################| Elapsed Time: 0:00:57 Time:  0:00:57\n"
     ]
    },
    {
     "name": "stdout",
     "output_type": "stream",
     "text": [
      "Initialization Done\n"
     ]
    },
    {
     "data": {
      "image/png": "[encoded data removed]",
      "text/plain": [
       "<matplotlib.figure.Figure at 0x7faf32f6aa90>"
      ]
     },
     "metadata": {
      "needs_background": "light"
     },
     "output_type": "display_data"
    },
    {
     "name": "stderr",
     "output_type": "stream",
     "text": [
      "  0% (1 of 516) |                        | Elapsed Time: 0:00:00 ETA:   0:01:16"
     ]
    },
    {
     "name": "stdout",
     "output_type": "stream",
     "text": [
      "60.png\n"
     ]
    },
    {
     "name": "stderr",
     "output_type": "stream",
     "text": [
      "100% (516 of 516) |######################| Elapsed Time: 0:00:52 Time:  0:00:52\n",
      "  0% (1 of 516) |                        | Elapsed Time: 0:00:00 ETA:   0:01:01"
     ]
    },
    {
     "name": "stdout",
     "output_type": "stream",
     "text": [
      "50.png\n"
     ]
    },
    {
     "name": "stderr",
     "output_type": "stream",
     "text": [
      "  5% (26 of 516) |#                      | Elapsed Time: 0:00:02 ETA:   0:00:52"
     ]
    }
   ],
   "source": [
    "def main():\n",
    "    train = load_data()\n",
    "    print(train.shape)\n",
    "#     mean, cluster = kmeans(train, 3, 2)\n",
    "    path_test = './dataset4/Test'\n",
    "#     mean = np.array(mean)\n",
    "#     cluster = np.array(cluster)\n",
    "#     np.save('mean_seg_km.npy',mean)\n",
    "#     np.save('cluster_seg_km.npy',cluster)\n",
    "    \n",
    "    \n",
    "    mean = np.load('mean_seg_km.npy')\n",
    "    cluster = np.load('cluster_seg_km.npy')\n",
    "    print(mean)\n",
    "    for im in os.listdir(path_test):\n",
    "        print(im)\n",
    "        img = cv2.imread(os.path.join(path_test,im),0)\n",
    "        padx = (7-(img.shape[0]%7))%7\n",
    "        pady = (7-(img.shape[1]%7))%7\n",
    "        img = cv2.resize(img,(img.shape[1]+pady, img.shape[0]+padx))\n",
    "        new_img = get_image(mean, img)\n",
    "        cv2.imwrite(im+'_seg_kmean.png',new_img)\n",
    "        \n",
    "        \n",
    "    mu, cov, pi, gamma = gmm(cluster, train, 3, 2)\n",
    "    for im in os.listdir(path_test):\n",
    "        print(im)\n",
    "        img = cv2.imread(os.path.join(path_test,im),0)\n",
    "        padx = (7-(img.shape[0]%7))%7\n",
    "        pady = (7-(img.shape[1]%7))%7\n",
    "        img = cv2.resize(img,(img.shape[1]+pady, img.shape[0]+padx))\n",
    "        new_img = get_image(mu, img)\n",
    "        cv2.imwrite(im+'_seg_gmm.png',new_img)\n",
    "\n",
    "        \n",
    "if __name__==\"__main__\":\n",
    "    main()     \n",
    "        "
   ]
  },
  {
   "cell_type": "code",
   "execution_count": null,
   "metadata": {},
   "outputs": [],
   "source": [
    "data = np.load('data4_1.npy')\n"
   ]
  },
  {
   "cell_type": "code",
   "execution_count": null,
   "metadata": {},
   "outputs": [],
   "source": []
  },
  {
   "cell_type": "code",
   "execution_count": null,
   "metadata": {},
   "outputs": [],
   "source": []
  }
 ],
 "metadata": {
  "kernelspec": {
   "display_name": "Python 3",
   "language": "python",
   "name": "python3"
  },
  "language_info": {
   "codemirror_mode": {
    "name": "ipython",
    "version": 3
   },
   "file_extension": ".py",
   "mimetype": "text/x-python",
   "name": "python",
   "nbconvert_exporter": "python",
   "pygments_lexer": "ipython3",
   "version": "3.6.5"
  }
 },
 "nbformat": 4,
 "nbformat_minor": 2
}
