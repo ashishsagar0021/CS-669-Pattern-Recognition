{
 "cells": [
  {
   "cell_type": "code",
   "execution_count": 156,
   "metadata": {},
   "outputs": [
    {
     "name": "stdout",
     "output_type": "stream",
     "text": [
      "Requirement already satisfied: progressbar2 in /home/knot/.local/lib/python2.7/site-packages\n",
      "Requirement already satisfied: python-utils>=2.3.0 in /home/knot/.local/lib/python2.7/site-packages (from progressbar2)\n",
      "Requirement already satisfied: six in /home/knot/.local/lib/python2.7/site-packages (from progressbar2)\n",
      "\u001b[33mYou are using pip version 9.0.3, however version 18.1 is available.\n",
      "You should consider upgrading via the 'pip install --upgrade pip' command.\u001b[0m\n"
     ]
    }
   ],
   "source": [
    "!pip install progressbar2"
   ]
  },
  {
   "cell_type": "code",
   "execution_count": 157,
   "metadata": {},
   "outputs": [],
   "source": [
    "import os\n",
    "import numpy as np\n",
    "import matplotlib.pyplot as plt\n",
    "import matplotlib.patches as mpatches\n",
    "import random\n",
    "from random import shuffle\n",
    "import progressbar\n",
    "import cv2\n",
    "\n",
    "def load_data():\n",
    "    \n",
    "    path = './'\n",
    "    pctr1 = os.path.join(path,'data_class1_train.npy')\n",
    "    pctr2 = os.path.join(path,'data_class2_train.npy')\n",
    "    pctr3 = os.path.join(path,'data_class3_train.npy')\n",
    "    pcte1 = os.path.join(path,'data_class1_test.npy')\n",
    "    pcte2 = os.path.join(path,'data_class2_test.npy')\n",
    "    pcte3 = os.path.join(path,'data_class3_test.npy')\n",
    "    \n",
    "    \n",
    "    train1 = np.load(pctr1)\n",
    "    train2 = np.load(pctr2)\n",
    "    train3 = np.load(pctr3)\n",
    "    test1 = np.load(pcte1)\n",
    "    test2 = np.load(pcte2)\n",
    "    test3 = np.load(pcte3)\n",
    "    \n",
    "    return train1, train2, train3, test1, test2, test3"
   ]
  },
  {
   "cell_type": "code",
   "execution_count": 176,
   "metadata": {},
   "outputs": [],
   "source": [
    "def get_predictions(x, mu, cov, pi, prior):\n",
    "    sum_g = np.ndarray(shape=(x.shape[0],1),dtype=float)\n",
    "    for i in range(x.shape[0]):\n",
    "        for j in range(1):\n",
    "            sum_g[i][j]=0\n",
    "            \n",
    "    l = len(cov)\n",
    "    for i in range(l):\n",
    "        \n",
    "        cov2 = np.ndarray(shape=(cov[i].shape[0],cov[i].shape[0]), dtype=float)\n",
    "        cov2 = np.copy(cov[i])\n",
    "        for w in range(cov[i].shape[0]):\n",
    "            for z in range(cov[i].shape[0]):\n",
    "                if(w!=z):\n",
    "                    cov2[w][z]=1e-5\n",
    "                else:\n",
    "                    cov2[w][z]+=1e-3\n",
    "            \n",
    "        temp = pi[i]*(np.linalg.det(cov2)**-.5)* np.exp(-.5 * np.einsum('ij, ij -> i',x - mu[i],np.matmul(np.linalg.inv(cov2),(x- mu[i]).T).T))\n",
    "        temp = np.reshape(temp,(x.shape[0],1))\n",
    "        sum_g+=temp\n",
    "    return sum_g*prior"
   ]
  },
  {
   "cell_type": "code",
   "execution_count": 177,
   "metadata": {},
   "outputs": [],
   "source": [
    "def get_confusion_mat(c1, c2, c3, classes):\n",
    "    \n",
    "    lis = []\n",
    "    if(c3!=0):\n",
    "        conf_mat = np.full((3,3),1e-10)\n",
    "        for i in range(c1):\n",
    "            lis.append(0)\n",
    "        for i in range(c2):\n",
    "            lis.append(1)\n",
    "        for i in range(c3):\n",
    "            lis.append(2)\n",
    "        for i in range(len(classes)):\n",
    "            conf_mat[lis[i]][classes[i]]+=1\n",
    "        return np.array(conf_mat)\n",
    "    else:\n",
    "        conf_mat = np.full((2,2),1e-10)\n",
    "        for i in range(c1):\n",
    "            lis.append(0)\n",
    "        for i in range(c2):\n",
    "            lis.append(1)\n",
    "        for i in range(len(classes)):\n",
    "            conf_mat[lis[i]][classes[i]]+=1\n",
    "\n",
    "        return np.array(conf_mat)"
   ]
  },
  {
   "cell_type": "code",
   "execution_count": 178,
   "metadata": {},
   "outputs": [],
   "source": [
    "def metric(conf_matrix):\n",
    "    x = conf_matrix.shape[0]\n",
    "    precision = []\n",
    "    accuracy = []\n",
    "    recall = []\n",
    "    f_measure = []\n",
    "    total_sum = np.sum(conf_matrix)\n",
    "    for i in range(x):\n",
    "        TP = conf_matrix[i][i]\n",
    "        FN = np.sum(conf_matrix[i,:])-conf_matrix[i][i]\n",
    "        FP = np.sum(conf_matrix[:,i])-conf_matrix[i][i]\n",
    "        TN = total_sum-(TP+FP+FN)\n",
    "\n",
    "        recal = TP/(TP+FN)\n",
    "        preci = TP/(TP+FP)\n",
    "        acc = (TP+TN)/(TP+TN+FP+FN)\n",
    "        \n",
    "        precision.append(preci)\n",
    "        recall.append(recal)\n",
    "        accuracy.append(acc)\n",
    "        f_measure.append((2*recal*preci)/(recal+preci))\n",
    "        \n",
    "    return accuracy,precision,recall,f_measure"
   ]
  },
  {
   "cell_type": "code",
   "execution_count": 179,
   "metadata": {},
   "outputs": [],
   "source": [
    "def pair_plot(test1, test2, dc1, dc2, mu1, cov1, pi1, mu2, cov2, pi2, il, jl,k):\n",
    "    le1 = dc1.shape[0]\n",
    "    le2 = dc2.shape[0]\n",
    "    le  = le1+le2\n",
    "    \n",
    "    g1 = []\n",
    "    g2 = []\n",
    "    lw1 = test1.shape[0]\n",
    "    lw2 = test2.shape[0]\n",
    "\n",
    "    p1 = get_predictions(test1, mu1, cov1, pi1, le1/le)\n",
    "    p2 = get_predictions(test1, mu2, cov2, pi2, le2/le)\n",
    "    for i in progressbar.progressbar(range(lw1)):\n",
    "        g1.append(p1[i][0])\n",
    "        g2.append(p2[i][0])\n",
    "    p1 = get_predictions(test2, mu1, cov1, pi1, le1/le)\n",
    "    p2 = get_predictions(test2, mu2, cov2, pi2, le2/le)\n",
    "    for i in progressbar.progressbar(range(lw2)):\n",
    "        g1.append(p1[i][0])\n",
    "        g2.append(p2[i][0])\n",
    "\n",
    "\n",
    "    classes = []\n",
    "    lw = lw1+lw2\n",
    "    for i in progressbar.progressbar(range(lw)):\n",
    "        classes.append(np.argmax([g1[i],g2[i]]))\n",
    "\n",
    "    conf_mat = get_confusion_mat(lw1, lw2, 0, classes)\n",
    "    print(\"Confusion Matrix\")\n",
    "    print(conf_mat)\n",
    "    temp = np.array(metric(conf_mat))\n",
    "    print(\"Accuracy: \",temp[0,:])\n",
    "    print(\"Precision: \",temp[1,:])\n",
    "    print(\"Recall: \",temp[2,:])\n",
    "    print(\"F-Measure: \",temp[3,:])\n",
    "    print(\"Mean F-Measure: \",np.mean(temp[3,:]))\n",
    "    print(\"Mean F-Measure: \",np.mean(temp[3,:]))"
   ]
  },
  {
   "cell_type": "code",
   "execution_count": 180,
   "metadata": {},
   "outputs": [],
   "source": [
    "def total_plot(test1, test2, test3, train1, train2, train3, mu1, cov1, pi1, mu2, cov2, pi2, mu3, cov3, pi3,k):\n",
    "    le1 = train1.shape[0]\n",
    "    le2 = train2.shape[0]\n",
    "    le3 = train3.shape[0]\n",
    "    le  = le1+le2+le3\n",
    "    \n",
    "    g1 = []\n",
    "    g2 = []\n",
    "    g3 = []\n",
    "    lw1 = test1.shape[0]\n",
    "    lw2 = test2.shape[0]\n",
    "    lw3 = test3.shape[0]\n",
    "\n",
    "    p1 = get_predictions(test1, mu1, cov1, pi1, le1/le)\n",
    "    p2 = get_predictions(test1, mu2, cov2, pi2, le2/le)\n",
    "    p3 = get_predictions(test1, mu3, cov3, pi3, le3/le)\n",
    "    for i in progressbar.progressbar(range(lw1)):\n",
    "        g1.append(p1[i][0])\n",
    "        g2.append(p2[i][0])\n",
    "        g3.append(p3[i][0])\n",
    "    p1 = get_predictions(test2, mu1, cov1, pi1, le1/le)\n",
    "    p2 = get_predictions(test2, mu2, cov2, pi2, le2/le)\n",
    "    p3 = get_predictions(test2, mu3, cov3, pi3, le3/le)\n",
    "    for i in progressbar.progressbar(range(lw2)):\n",
    "        g1.append(p1[i][0])\n",
    "        g2.append(p2[i][0])\n",
    "        g3.append(p3[i][0])\n",
    "    p1 = get_predictions(test3, mu1, cov1, pi1, le1/le)\n",
    "    p2 = get_predictions(test3, mu2, cov2, pi2, le2/le)\n",
    "    p3 = get_predictions(test3, mu3, cov3, pi3, le3/le)\n",
    "    for i in progressbar.progressbar(range(lw3)):\n",
    "        g1.append(p1[i][0])\n",
    "        g2.append(p2[i][0])\n",
    "        g3.append(p3[i][0])\n",
    "\n",
    "\n",
    "\n",
    "    classes = []\n",
    "    lw = lw1+lw2+lw3\n",
    "    for i in range(lw):\n",
    "        classes.append(np.argmax([g1[i],g2[i],g3[i]]))\n",
    "\n",
    "    conf_mat = get_confusion_mat(lw1, lw2, lw3, classes)\n",
    "    print(conf_mat)\n",
    "    temp = np.array(metric(conf_mat))\n",
    "    print(\"Accuracy: \",temp[0,:])\n",
    "    print(\"Precision: \",temp[1,:])\n",
    "    print(\"Recall: \",temp[2,:])\n",
    "    print(\"F-Measure: \",temp[3,:])\n",
    "    print(\"Mean F-Measure: \",np.mean(temp[3,:]))"
   ]
  },
  {
   "cell_type": "code",
   "execution_count": 181,
   "metadata": {},
   "outputs": [],
   "source": [
    "def gaussian_normal(x, mu, cov):\n",
    "    \n",
    "    cov2 = np.copy(cov)\n",
    "    for w in range(cov.shape[0]):\n",
    "        for z in range(cov.shape[0]):\n",
    "            if(w!=z):\n",
    "                cov2[w][z]=1e-5\n",
    "            else:\n",
    "                cov2[w][z]+=1e-3\n",
    "    \n",
    "    g = (np.linalg.det(cov2)**-.5)*((2 * np.pi)**(-x.shape[1]/2.))* np.exp(-.5 * np.einsum('ij, ij -> i',x - mu,np.dot(np.linalg.inv(cov2),(x- mu).T).T)) \n",
    "    return g\n",
    "\n",
    "def gmm(cluster, pts, k, dims):\n",
    "    mu = []                    #mean of each cluster\n",
    "    cov = []                   #covaraince matrix for each cluster\n",
    "    pi =  []                   #mixture coefficients for each clusters\n",
    "    n = len(pts)               #total number of points in the given class\n",
    "    gamma = np.ndarray(shape=(n,k),dtype=float)\n",
    "    for i in range(k):\n",
    "        pi.append(cluster[i].shape[0]/n)\n",
    "        mean = np.mean(cluster[i], axis=0)\n",
    "        mu.append(mean)\n",
    "        covariance = np.cov(cluster[i].T)\n",
    "        cov.append(covariance)\n",
    "    \n",
    "    \n",
    "    likelihood = []\n",
    "    for t in progressbar.progressbar(range(100)):\n",
    "        for j in range(k):\n",
    "            gamma[:,j] = pi[j]*gaussian_normal(pts,mu[j],cov[j])\n",
    "        li = np.sum(np.log(np.sum(gamma, axis = 1)))\n",
    "        likelihood.append(li)\n",
    "        gamma = (gamma.T / np.sum(gamma, axis = 1)).T\n",
    "        n_eff = np.sum(gamma, axis = 0)\n",
    "        for i in range(k):\n",
    "            mu[i] = (1/n_eff[i])*np.sum(gamma[:, i] * pts.T, axis = 1).T\n",
    "            x_mu = np.matrix(pts - mu[i])\n",
    "            cov[i] = np.array(1/n_eff[i])*np.matmul(np.multiply(x_mu.T,  gamma[:, i]), x_mu)\n",
    "            pi[i] = n_eff[i]/n\n",
    "    \n",
    "    plt.plot(likelihood)\n",
    "    plt.title('Log-Likelihood vs Iteration plot')\n",
    "    plt.xlabel('Iterations')\n",
    "    plt.ylabel('log-likelihood')\n",
    "    plt.show()\n",
    "\n",
    "    return mu, cov, pi, gamma"
   ]
  },
  {
   "cell_type": "code",
   "execution_count": 182,
   "metadata": {},
   "outputs": [],
   "source": [
    "def find_dist(x,mu):\n",
    "    return ((x[0]-mu[0])*(x[0]-mu[0])+(x[0]-mu[0])*(x[0]-mu[0]))**0.5\n",
    "def kmeans(data,k, dim):\n",
    "    \n",
    "    l = data.shape[0]\n",
    "    lis = []\n",
    "    for i in range(l):\n",
    "        lis.append(data[i,:])\n",
    "    \n",
    "    shuffle(lis)\n",
    "    cluster = []\n",
    "    mean = []\n",
    "    for i in range(k):\n",
    "        mean.append(lis[i])\n",
    "        \n",
    "    for i in progressbar.progressbar(range(500)):\n",
    "        cluster[:]=[]\n",
    "        \n",
    "        distance=[]\n",
    "        clust=[]\n",
    "        for j in range(l):\n",
    "            distance.append(1e15)\n",
    "            clust.append(-1)\n",
    "        for j in range(k):\n",
    "            temp=[]\n",
    "            cluster.append(temp)\n",
    "        for j in range(k):\n",
    "            dis = np.linalg.norm(data-mean[j], axis=1)\n",
    "            for p in range(l):\n",
    "                if(dis[p]<distance[p]):\n",
    "                    distance[p]=dis[p]\n",
    "                    clust[p] = j\n",
    "                    \n",
    "        for j in range(l):\n",
    "            cluster[clust[j]].append(data[j])\n",
    "        for j in range(k):\n",
    "            if(len(cluster[j])==0):\n",
    "                num = random.randint(0,l-1)\n",
    "                cluster[j].append(data[num])\n",
    "                num = random.randint(0,l-1)\n",
    "                cluster[j].append(data[num])\n",
    "            if(len(cluster[j])==1):\n",
    "                num = random.randint(0,l-1)\n",
    "                cluster[j].append(data[num])\n",
    "        \n",
    "        for j in range(k):\n",
    "            mean[j]=np.mean(cluster[j], axis=0)\n",
    "            \n",
    "            \n",
    "    for i in (range(k)):\n",
    "        cluster[i]=np.array(cluster[i])\n",
    "        \n",
    "    return mean, cluster"
   ]
  },
  {
   "cell_type": "code",
   "execution_count": 183,
   "metadata": {},
   "outputs": [],
   "source": [
    "def get_bow(path, train, mean):\n",
    "    kernal = 32\n",
    "    lis = []\n",
    "    prevl = 0\n",
    "    for im in progressbar.progressbar(os.listdir(path)):\n",
    "        image = cv2.imread(os.path.join(path,im))\n",
    "        padx = (32-int(image.shape[0]%kernal))%kernal\n",
    "        pady = (32-int(image.shape[1]%kernal))%kernal\n",
    "        x = int((image.shape[0]+padx)/kernal)\n",
    "        y = int((image.shape[1]+pady)/kernal)\n",
    "        bins = x*y\n",
    "        lis.append(bins+prevl)\n",
    "        prevl+=bins\n",
    "        \n",
    "      \n",
    "    bow = np.ndarray(shape=(len(lis),32), dtype=float)\n",
    "    for i in range(len(lis)):\n",
    "        for j in range(32):\n",
    "            bow[i][j]=0\n",
    "    bn = 0\n",
    "    ln = 0\n",
    "    \n",
    "    distance=[]\n",
    "    clust=[]\n",
    "    l=train.shape[0]\n",
    "    for j in range(l):\n",
    "        distance.append(1e15)\n",
    "        clust.append(-1)\n",
    "    for j in range(32):\n",
    "        dis = np.linalg.norm(train-mean[j], axis=1)\n",
    "        for p in range(l):\n",
    "            if(dis[p]<distance[p]):\n",
    "                distance[p]=dis[p]\n",
    "                clust[p] = j\n",
    "    \n",
    "    for i in range(l):\n",
    "        if(i==lis[ln]):\n",
    "            bn+=1\n",
    "            ln+=1\n",
    "        bow[bn][clust[i]]+=1\n",
    "    \n",
    "    return bow"
   ]
  },
  {
   "cell_type": "code",
   "execution_count": 184,
   "metadata": {},
   "outputs": [
    {
     "name": "stderr",
     "output_type": "stream",
     "text": [
      " 10% (5 of 49) |##                       | Elapsed Time: 0:00:00 ETA:  00:00:00"
     ]
    },
    {
     "name": "stdout",
     "output_type": "stream",
     "text": [
      "Mean Calculated\n"
     ]
    },
    {
     "name": "stderr",
     "output_type": "stream",
     "text": [
      "100% (49 of 49) |########################| Elapsed Time: 0:00:00 Time:  0:00:00\n",
      " 32% (16 of 50) |#######                 | Elapsed Time: 0:00:00 ETA:   0:00:00"
     ]
    },
    {
     "name": "stdout",
     "output_type": "stream",
     "text": [
      "Train 1 BOvW Calcualted\n"
     ]
    },
    {
     "name": "stderr",
     "output_type": "stream",
     "text": [
      "100% (50 of 50) |########################| Elapsed Time: 0:00:00 Time:  0:00:00\n",
      " 16% (8 of 50) |####                     | Elapsed Time: 0:00:00 ETA:   0:00:00"
     ]
    },
    {
     "name": "stdout",
     "output_type": "stream",
     "text": [
      "Train 2 BOvW Calcualted\n"
     ]
    },
    {
     "name": "stderr",
     "output_type": "stream",
     "text": [
      "100% (50 of 50) |########################| Elapsed Time: 0:00:00 Time:  0:00:00\n",
      " 20% (10 of 50) |####                    | Elapsed Time: 0:00:00 ETA:   0:00:00"
     ]
    },
    {
     "name": "stdout",
     "output_type": "stream",
     "text": [
      "Train 3 BOvW Calcualted\n"
     ]
    },
    {
     "name": "stderr",
     "output_type": "stream",
     "text": [
      "100% (50 of 50) |########################| Elapsed Time: 0:00:00 Time:  0:00:00\n",
      " 14% (7 of 50) |###                      | Elapsed Time: 0:00:00 ETA:   0:00:00"
     ]
    },
    {
     "name": "stdout",
     "output_type": "stream",
     "text": [
      "Test 1 BOvW Calcualted\n"
     ]
    },
    {
     "name": "stderr",
     "output_type": "stream",
     "text": [
      "100% (50 of 50) |########################| Elapsed Time: 0:00:00 Time:  0:00:00\n",
      " 10% (5 of 50) |##                       | Elapsed Time: 0:00:00 ETA:   0:00:02"
     ]
    },
    {
     "name": "stdout",
     "output_type": "stream",
     "text": [
      "Test 2 BOvW Calcualted\n"
     ]
    },
    {
     "name": "stderr",
     "output_type": "stream",
     "text": [
      "100% (50 of 50) |########################| Elapsed Time: 0:00:01 Time:  0:00:01\n",
      "100% (500 of 500) |######################| Elapsed Time: 0:00:00 Time:  0:00:00\n",
      "100% (500 of 500) |######################| Elapsed Time: 0:00:00 Time:  0:00:00\n",
      " 71% (355 of 500) |###############       | Elapsed Time: 0:00:00 ETA:  00:00:00"
     ]
    },
    {
     "name": "stdout",
     "output_type": "stream",
     "text": [
      "Test 3 BOvW Calcualted\n"
     ]
    },
    {
     "name": "stderr",
     "output_type": "stream",
     "text": [
      "100% (500 of 500) |######################| Elapsed Time: 0:00:00 Time:  0:00:00\n",
      " 27% (27 of 100) |######                 | Elapsed Time: 0:00:00 ETA:   0:00:00"
     ]
    },
    {
     "name": "stdout",
     "output_type": "stream",
     "text": [
      "kmeans done for  1\n"
     ]
    },
    {
     "name": "stderr",
     "output_type": "stream",
     "text": [
      "100% (100 of 100) |######################| Elapsed Time: 0:00:00 Time:  0:00:00\n"
     ]
    },
    {
     "data": {
      "image/png": "[encoded data removed]",
      "text/plain": [
       "<matplotlib.figure.Figure at 0x7f8ff7e3aef0>"
      ]
     },
     "metadata": {
      "needs_background": "light"
     },
     "output_type": "display_data"
    },
    {
     "name": "stderr",
     "output_type": "stream",
     "text": [
      " 97% (97 of 100) |###################### | Elapsed Time: 0:00:00 ETA:   0:00:00"
     ]
    },
    {
     "name": "stdout",
     "output_type": "stream",
     "text": [
      "***First Cluster Done***\n"
     ]
    },
    {
     "name": "stderr",
     "output_type": "stream",
     "text": [
      "100% (100 of 100) |######################| Elapsed Time: 0:00:00 Time:  0:00:00\n"
     ]
    },
    {
     "data": {
      "image/png": "[encoded data removed]",
      "text/plain": [
       "<matplotlib.figure.Figure at 0x7f8ff334db38>"
      ]
     },
     "metadata": {
      "needs_background": "light"
     },
     "output_type": "display_data"
    },
    {
     "name": "stderr",
     "output_type": "stream",
     "text": [
      "100% (100 of 100) |######################| Elapsed Time: 0:00:00 Time:  0:00:00\n"
     ]
    },
    {
     "name": "stdout",
     "output_type": "stream",
     "text": [
      "***Second Cluster Done***\n"
     ]
    },
    {
     "data": {
      "image/png": "[encoded data removed]",
      "text/plain": [
       "<matplotlib.figure.Figure at 0x7f8ff61740f0>"
      ]
     },
     "metadata": {
      "needs_background": "light"
     },
     "output_type": "display_data"
    },
    {
     "name": "stderr",
     "output_type": "stream",
     "text": [
      "100% (50 of 50) |########################| Elapsed Time: 0:00:00 Time:  0:00:00\n",
      "100% (50 of 50) |########################| Elapsed Time: 0:00:00 Time:  0:00:00\n",
      "100% (100 of 100) |######################| Elapsed Time: 0:00:00 Time:  0:00:00\n",
      "100% (50 of 50) |########################| Elapsed Time: 0:00:00 Time:  0:00:00\n",
      "100% (50 of 50) |########################| Elapsed Time: 0:00:00 Time:  0:00:00\n",
      "100% (100 of 100) |######################| Elapsed Time: 0:00:00 Time:  0:00:00\n",
      "100% (50 of 50) |########################| Elapsed Time: 0:00:00 Time:  0:00:00\n",
      "100% (50 of 50) |########################| Elapsed Time: 0:00:00 Time:  0:00:00\n",
      "100% (100 of 100) |######################| Elapsed Time: 0:00:00 Time:  0:00:00\n",
      "100% (50 of 50) |########################| Elapsed Time: 0:00:00 Time:  0:00:00\n",
      "100% (50 of 50) |########################| Elapsed Time: 0:00:00 Time:  0:00:00\n",
      "100% (50 of 50) |########################| Elapsed Time: 0:00:00 Time:  0:00:00\n",
      "N/A% (0 of 500) |                        | Elapsed Time: 0:00:00 ETA:  --:--:--"
     ]
    },
    {
     "name": "stdout",
     "output_type": "stream",
     "text": [
      "***Third Cluster Done***\n",
      "Confusion Matrix\n",
      "[[ 43.   7.]\n",
      " [ 29.  21.]]\n",
      "Accuracy:  [ 0.64  0.64]\n",
      "Precision:  [ 0.59722222  0.75      ]\n",
      "Recall:  [ 0.86  0.42]\n",
      "F-Measure:  [ 0.70491803  0.53846154]\n",
      "Mean F-Measure:  0.621689785624\n",
      "Mean F-Measure:  0.621689785624\n",
      "Confusion Matrix\n",
      "[[ 38.  12.]\n",
      " [ 31.  19.]]\n",
      "Accuracy:  [ 0.57  0.57]\n",
      "Precision:  [ 0.55072464  0.61290323]\n",
      "Recall:  [ 0.76  0.38]\n",
      "F-Measure:  [ 0.63865546  0.4691358 ]\n",
      "Mean F-Measure:  0.553895632327\n",
      "Mean F-Measure:  0.553895632327\n",
      "Confusion Matrix\n",
      "[[ 12.  38.]\n",
      " [ 13.  37.]]\n",
      "Accuracy:  [ 0.49  0.49]\n",
      "Precision:  [ 0.48        0.49333333]\n",
      "Recall:  [ 0.24  0.74]\n",
      "F-Measure:  [ 0.32   0.592]\n",
      "Mean F-Measure:  0.456\n",
      "Mean F-Measure:  0.456\n",
      "[[ 38.   4.   8.]\n",
      " [ 28.  12.  10.]\n",
      " [ 31.   9.  10.]]\n",
      "Accuracy:  [ 0.52666667  0.66        0.61333333]\n",
      "Precision:  [ 0.39175258  0.48        0.35714286]\n",
      "Recall:  [ 0.76  0.24  0.2 ]\n",
      "F-Measure:  [ 0.5170068   0.32        0.25641026]\n",
      "Mean F-Measure:  0.364472353044\n",
      "Cluster=====>  1 completed\n"
     ]
    },
    {
     "name": "stderr",
     "output_type": "stream",
     "text": [
      "100% (500 of 500) |######################| Elapsed Time: 0:00:00 Time:  0:00:00\n",
      "100% (500 of 500) |######################| Elapsed Time: 0:00:00 Time:  0:00:00\n",
      "100% (500 of 500) |######################| Elapsed Time: 0:00:00 Time:  0:00:00\n",
      " 56% (56 of 100) |############           | Elapsed Time: 0:00:00 ETA:   0:00:00"
     ]
    },
    {
     "name": "stdout",
     "output_type": "stream",
     "text": [
      "kmeans done for  2\n"
     ]
    },
    {
     "name": "stderr",
     "output_type": "stream",
     "text": [
      "100% (100 of 100) |######################| Elapsed Time: 0:00:00 Time:  0:00:00\n"
     ]
    },
    {
     "data": {
      "image/png": "[encoded data removed]",
      "text/plain": [
       "<matplotlib.figure.Figure at 0x7f8ff7141080>"
      ]
     },
     "metadata": {
      "needs_background": "light"
     },
     "output_type": "display_data"
    },
    {
     "name": "stderr",
     "output_type": "stream",
     "text": [
      " 59% (59 of 100) |#############          | Elapsed Time: 0:00:00 ETA:   0:00:00"
     ]
    },
    {
     "name": "stdout",
     "output_type": "stream",
     "text": [
      "***First Cluster Done***\n"
     ]
    },
    {
     "name": "stderr",
     "output_type": "stream",
     "text": [
      "100% (100 of 100) |######################| Elapsed Time: 0:00:00 Time:  0:00:00\n"
     ]
    },
    {
     "data": {
      "image/png": "[encoded data removed]",
      "text/plain": [
       "<matplotlib.figure.Figure at 0x7f8ff5ba5fd0>"
      ]
     },
     "metadata": {
      "needs_background": "light"
     },
     "output_type": "display_data"
    },
    {
     "name": "stderr",
     "output_type": "stream",
     "text": [
      " 22% (22 of 100) |#####                  | Elapsed Time: 0:00:00 ETA:   0:00:00"
     ]
    },
    {
     "name": "stdout",
     "output_type": "stream",
     "text": [
      "***Second Cluster Done***\n"
     ]
    },
    {
     "name": "stderr",
     "output_type": "stream",
     "text": [
      "100% (100 of 100) |######################| Elapsed Time: 0:00:00 Time:  0:00:00\n"
     ]
    },
    {
     "data": {
      "image/png": "[encoded data removed]",
      "text/plain": [
       "<matplotlib.figure.Figure at 0x7f8ff6249358>"
      ]
     },
     "metadata": {
      "needs_background": "light"
     },
     "output_type": "display_data"
    },
    {
     "name": "stderr",
     "output_type": "stream",
     "text": [
      "100% (50 of 50) |########################| Elapsed Time: 0:00:00 Time:  0:00:00\n",
      "100% (50 of 50) |########################| Elapsed Time: 0:00:00 Time:  0:00:00\n",
      "100% (100 of 100) |######################| Elapsed Time: 0:00:00 Time:  0:00:00\n",
      "100% (50 of 50) |########################| Elapsed Time: 0:00:00 Time:  0:00:00\n",
      "100% (50 of 50) |########################| Elapsed Time: 0:00:00 Time:  0:00:00\n",
      "100% (100 of 100) |######################| Elapsed Time: 0:00:00 Time:  0:00:00\n"
     ]
    },
    {
     "name": "stdout",
     "output_type": "stream",
     "text": [
      "***Third Cluster Done***\n",
      "Confusion Matrix\n",
      "[[ 37.  13.]\n",
      " [ 35.  15.]]\n",
      "Accuracy:  [ 0.52  0.52]\n",
      "Precision:  [ 0.51388889  0.53571429]\n",
      "Recall:  [ 0.74  0.3 ]\n",
      "F-Measure:  [ 0.60655738  0.38461538]\n",
      "Mean F-Measure:  0.495586380832\n",
      "Mean F-Measure:  0.495586380832\n",
      "Confusion Matrix\n",
      "[[ 32.  18.]\n",
      " [ 27.  23.]]\n",
      "Accuracy:  [ 0.55  0.55]\n",
      "Precision:  [ 0.54237288  0.56097561]\n",
      "Recall:  [ 0.64  0.46]\n",
      "F-Measure:  [ 0.58715596  0.50549451]\n",
      "Mean F-Measure:  0.546325234398\n",
      "Mean F-Measure:  0.546325234398\n"
     ]
    },
    {
     "name": "stderr",
     "output_type": "stream",
     "text": [
      "100% (50 of 50) |########################| Elapsed Time: 0:00:00 Time:  0:00:00\n",
      "100% (50 of 50) |########################| Elapsed Time: 0:00:00 Time:  0:00:00\n",
      "100% (100 of 100) |######################| Elapsed Time: 0:00:00 Time:  0:00:00\n",
      "100% (50 of 50) |########################| Elapsed Time: 0:00:00 Time:  0:00:00\n",
      "100% (50 of 50) |########################| Elapsed Time: 0:00:00 Time:  0:00:00\n",
      "100% (50 of 50) |########################| Elapsed Time: 0:00:00 Time:  0:00:00\n",
      " 52% (260 of 500) |###########           | Elapsed Time: 0:00:00 ETA:   0:00:00"
     ]
    },
    {
     "name": "stdout",
     "output_type": "stream",
     "text": [
      "Confusion Matrix\n",
      "[[ 35.  15.]\n",
      " [ 31.  19.]]\n",
      "Accuracy:  [ 0.54  0.54]\n",
      "Precision:  [ 0.53030303  0.55882353]\n",
      "Recall:  [ 0.7   0.38]\n",
      "F-Measure:  [ 0.60344828  0.45238095]\n",
      "Mean F-Measure:  0.527914614121\n",
      "Mean F-Measure:  0.527914614121\n",
      "[[ 26.  13.  11.]\n",
      " [ 22.  13.  15.]\n",
      " [ 23.  10.  17.]]\n",
      "Accuracy:  [ 0.54        0.6         0.60666667]\n",
      "Precision:  [ 0.36619718  0.36111111  0.39534884]\n",
      "Recall:  [ 0.52  0.26  0.34]\n",
      "F-Measure:  [ 0.42975207  0.30232558  0.3655914 ]\n",
      "Mean F-Measure:  0.365889681787\n",
      "Cluster=====>  2 completed\n"
     ]
    },
    {
     "name": "stderr",
     "output_type": "stream",
     "text": [
      "100% (500 of 500) |######################| Elapsed Time: 0:00:00 Time:  0:00:00\n",
      "100% (500 of 500) |######################| Elapsed Time: 0:00:00 Time:  0:00:00\n",
      "100% (500 of 500) |######################| Elapsed Time: 0:00:00 Time:  0:00:00\n",
      " 25% (25 of 100) |#####                  | Elapsed Time: 0:00:00 ETA:   0:00:00"
     ]
    },
    {
     "name": "stdout",
     "output_type": "stream",
     "text": [
      "kmeans done for  4\n"
     ]
    },
    {
     "name": "stderr",
     "output_type": "stream",
     "text": [
      "100% (100 of 100) |######################| Elapsed Time: 0:00:00 Time:  0:00:00\n"
     ]
    },
    {
     "data": {
      "image/png": "[encoded data removed]",
      "text/plain": [
       "<matplotlib.figure.Figure at 0x7f8ff5ba05f8>"
      ]
     },
     "metadata": {
      "needs_background": "light"
     },
     "output_type": "display_data"
    },
    {
     "name": "stderr",
     "output_type": "stream",
     "text": [
      " 28% (28 of 100) |######                 | Elapsed Time: 0:00:00 ETA:   0:00:00"
     ]
    },
    {
     "name": "stdout",
     "output_type": "stream",
     "text": [
      "***First Cluster Done***\n"
     ]
    },
    {
     "name": "stderr",
     "output_type": "stream",
     "text": [
      "100% (100 of 100) |######################| Elapsed Time: 0:00:00 Time:  0:00:00\n"
     ]
    },
    {
     "data": {
      "image/png": "[encoded data removed]",
      "text/plain": [
       "<matplotlib.figure.Figure at 0x7f8ff5b7ee80>"
      ]
     },
     "metadata": {
      "needs_background": "light"
     },
     "output_type": "display_data"
    },
    {
     "name": "stderr",
     "output_type": "stream",
     "text": [
      " 37% (37 of 100) |########               | Elapsed Time: 0:00:00 ETA:   0:00:00"
     ]
    },
    {
     "name": "stdout",
     "output_type": "stream",
     "text": [
      "***Second Cluster Done***\n"
     ]
    },
    {
     "name": "stderr",
     "output_type": "stream",
     "text": [
      "100% (100 of 100) |######################| Elapsed Time: 0:00:00 Time:  0:00:00\n"
     ]
    },
    {
     "data": {
      "image/png": "[encoded data removed]",
      "text/plain": [
       "<matplotlib.figure.Figure at 0x7f8ff33b0588>"
      ]
     },
     "metadata": {
      "needs_background": "light"
     },
     "output_type": "display_data"
    },
    {
     "name": "stderr",
     "output_type": "stream",
     "text": [
      "100% (50 of 50) |########################| Elapsed Time: 0:00:00 Time:  0:00:00\n",
      "100% (50 of 50) |########################| Elapsed Time: 0:00:00 Time:  0:00:00\n",
      "100% (100 of 100) |######################| Elapsed Time: 0:00:00 Time:  0:00:00\n",
      "100% (50 of 50) |########################| Elapsed Time: 0:00:00 Time:  0:00:00\n",
      "100% (50 of 50) |########################| Elapsed Time: 0:00:00 Time:  0:00:00\n",
      "100% (100 of 100) |######################| Elapsed Time: 0:00:00 Time:  0:00:00\n",
      "100% (50 of 50) |########################| Elapsed Time: 0:00:00 Time:  0:00:00\n",
      "100% (50 of 50) |########################| Elapsed Time: 0:00:00 Time:  0:00:00\n",
      "100% (100 of 100) |######################| Elapsed Time: 0:00:00 Time:  0:00:00\n"
     ]
    },
    {
     "name": "stdout",
     "output_type": "stream",
     "text": [
      "***Third Cluster Done***\n",
      "Confusion Matrix\n",
      "[[ 25.  25.]\n",
      " [ 13.  37.]]\n",
      "Accuracy:  [ 0.62  0.62]\n",
      "Precision:  [ 0.65789474  0.59677419]\n",
      "Recall:  [ 0.5   0.74]\n",
      "F-Measure:  [ 0.56818182  0.66071429]\n",
      "Mean F-Measure:  0.614448051948\n",
      "Mean F-Measure:  0.614448051948\n",
      "Confusion Matrix\n",
      "[[ 27.  23.]\n",
      " [ 23.  27.]]\n",
      "Accuracy:  [ 0.54  0.54]\n",
      "Precision:  [ 0.54  0.54]\n",
      "Recall:  [ 0.54  0.54]\n",
      "F-Measure:  [ 0.54  0.54]\n",
      "Mean F-Measure:  0.54\n",
      "Mean F-Measure:  0.54\n",
      "Confusion Matrix\n",
      "[[ 32.  18.]\n",
      " [ 20.  30.]]\n",
      "Accuracy:  [ 0.62  0.62]\n",
      "Precision:  [ 0.61538462  0.625     ]\n",
      "Recall:  [ 0.64  0.6 ]\n",
      "F-Measure:  [ 0.62745098  0.6122449 ]\n",
      "Mean F-Measure:  0.619847939175\n",
      "Mean F-Measure:  0.619847939175\n"
     ]
    },
    {
     "name": "stderr",
     "output_type": "stream",
     "text": [
      "100% (50 of 50) |########################| Elapsed Time: 0:00:00 Time:  0:00:00\n",
      "100% (50 of 50) |########################| Elapsed Time: 0:00:00 Time:  0:00:00\n",
      "100% (50 of 50) |########################| Elapsed Time: 0:00:00 Time:  0:00:00\n",
      " 56% (285 of 500) |############          | Elapsed Time: 0:00:00 ETA:   0:00:00"
     ]
    },
    {
     "name": "stdout",
     "output_type": "stream",
     "text": [
      "[[ 17.  20.  13.]\n",
      " [  6.  29.  15.]\n",
      " [ 18.  14.  18.]]\n",
      "Accuracy:  [ 0.62        0.63333333  0.6       ]\n",
      "Precision:  [ 0.41463415  0.46031746  0.39130435]\n",
      "Recall:  [ 0.34  0.58  0.36]\n",
      "F-Measure:  [ 0.37362637  0.51327434  0.375     ]\n",
      "Mean F-Measure:  0.420633569969\n",
      "Cluster=====>  4 completed\n"
     ]
    },
    {
     "name": "stderr",
     "output_type": "stream",
     "text": [
      "100% (500 of 500) |######################| Elapsed Time: 0:00:00 Time:  0:00:00\n",
      "100% (500 of 500) |######################| Elapsed Time: 0:00:00 Time:  0:00:00\n",
      "100% (500 of 500) |######################| Elapsed Time: 0:00:00 Time:  0:00:00\n",
      " 23% (23 of 100) |#####                  | Elapsed Time: 0:00:00 ETA:   0:00:00"
     ]
    },
    {
     "name": "stdout",
     "output_type": "stream",
     "text": [
      "kmeans done for  8\n"
     ]
    },
    {
     "name": "stderr",
     "output_type": "stream",
     "text": [
      "100% (100 of 100) |######################| Elapsed Time: 0:00:00 Time:  0:00:00\n"
     ]
    },
    {
     "data": {
      "image/png": "[encoded data removed]",
      "text/plain": [
       "<matplotlib.figure.Figure at 0x7f8ff336abe0>"
      ]
     },
     "metadata": {
      "needs_background": "light"
     },
     "output_type": "display_data"
    },
    {
     "name": "stderr",
     "output_type": "stream",
     "text": [
      " 21% (21 of 100) |####                   | Elapsed Time: 0:00:00 ETA:   0:00:00"
     ]
    },
    {
     "name": "stdout",
     "output_type": "stream",
     "text": [
      "***First Cluster Done***\n"
     ]
    },
    {
     "name": "stderr",
     "output_type": "stream",
     "text": [
      "100% (100 of 100) |######################| Elapsed Time: 0:00:00 Time:  0:00:00\n"
     ]
    },
    {
     "data": {
      "image/png": "[encoded data removed]",
      "text/plain": [
       "<matplotlib.figure.Figure at 0x7f8ff7e5e908>"
      ]
     },
     "metadata": {
      "needs_background": "light"
     },
     "output_type": "display_data"
    },
    {
     "name": "stderr",
     "output_type": "stream",
     "text": [
      "  3% (3 of 100) |                        | Elapsed Time: 0:00:00 ETA:   0:00:10"
     ]
    },
    {
     "name": "stdout",
     "output_type": "stream",
     "text": [
      "***Second Cluster Done***\n"
     ]
    },
    {
     "name": "stderr",
     "output_type": "stream",
     "text": [
      "100% (100 of 100) |######################| Elapsed Time: 0:00:01 Time:  0:00:01\n"
     ]
    },
    {
     "data": {
      "image/png": "[encoded data removed]",
      "text/plain": [
       "<matplotlib.figure.Figure at 0x7f90583e6a58>"
      ]
     },
     "metadata": {
      "needs_background": "light"
     },
     "output_type": "display_data"
    },
    {
     "name": "stderr",
     "output_type": "stream",
     "text": [
      "100% (50 of 50) |########################| Elapsed Time: 0:00:00 Time:  0:00:00\n",
      "100% (50 of 50) |########################| Elapsed Time: 0:00:00 Time:  0:00:00\n",
      "100% (100 of 100) |######################| Elapsed Time: 0:00:00 Time:  0:00:00\n",
      "100% (50 of 50) |########################| Elapsed Time: 0:00:00 Time:  0:00:00\n",
      "100% (50 of 50) |########################| Elapsed Time: 0:00:00 Time:  0:00:00\n",
      "100% (100 of 100) |######################| Elapsed Time: 0:00:00 Time:  0:00:00\n",
      "100% (50 of 50) |########################| Elapsed Time: 0:00:00 Time:  0:00:00\n",
      "N/A% (0 of 50) |                         | Elapsed Time: 0:00:00 ETA:  --:--:--"
     ]
    },
    {
     "name": "stdout",
     "output_type": "stream",
     "text": [
      "***Third Cluster Done***\n",
      "Confusion Matrix\n",
      "[[ 21.  29.]\n",
      " [ 17.  33.]]\n",
      "Accuracy:  [ 0.54  0.54]\n",
      "Precision:  [ 0.55263158  0.53225806]\n",
      "Recall:  [ 0.42  0.66]\n",
      "F-Measure:  [ 0.47727273  0.58928571]\n",
      "Mean F-Measure:  0.533279220779\n",
      "Mean F-Measure:  0.533279220779\n",
      "Confusion Matrix\n",
      "[[ 24.  26.]\n",
      " [ 24.  26.]]\n",
      "Accuracy:  [ 0.5  0.5]\n",
      "Precision:  [ 0.5  0.5]\n",
      "Recall:  [ 0.48  0.52]\n",
      "F-Measure:  [ 0.48979592  0.50980392]\n",
      "Mean F-Measure:  0.499799919968\n",
      "Mean F-Measure:  0.499799919968\n"
     ]
    },
    {
     "name": "stderr",
     "output_type": "stream",
     "text": [
      "100% (50 of 50) |########################| Elapsed Time: 0:00:00 Time:  0:00:00\n",
      "100% (100 of 100) |######################| Elapsed Time: 0:00:00 Time:  0:00:00\n",
      "100% (50 of 50) |########################| Elapsed Time: 0:00:00 Time:  0:00:00\n",
      "100% (50 of 50) |########################| Elapsed Time: 0:00:00 Time:  0:00:00\n",
      "100% (50 of 50) |########################| Elapsed Time: 0:00:00 Time:  0:00:00\n",
      "  6% (32 of 500) |#                      | Elapsed Time: 0:00:00 ETA:  00:00:00"
     ]
    },
    {
     "name": "stdout",
     "output_type": "stream",
     "text": [
      "Confusion Matrix\n",
      "[[ 38.  12.]\n",
      " [ 27.  23.]]\n",
      "Accuracy:  [ 0.61  0.61]\n",
      "Precision:  [ 0.58461538  0.65714286]\n",
      "Recall:  [ 0.76  0.46]\n",
      "F-Measure:  [ 0.66086957  0.54117647]\n",
      "Mean F-Measure:  0.601023017902\n",
      "Mean F-Measure:  0.601023017902\n",
      "[[ 16.  22.  12.]\n",
      " [ 14.  27.   9.]\n",
      " [ 12.  22.  16.]]\n",
      "Accuracy:  [ 0.6         0.55333333  0.63333333]\n",
      "Precision:  [ 0.38095238  0.38028169  0.43243243]\n",
      "Recall:  [ 0.32  0.54  0.32]\n",
      "F-Measure:  [ 0.34782609  0.44628099  0.36781609]\n",
      "Mean F-Measure:  0.387307723548\n",
      "Cluster=====>  8 completed\n"
     ]
    },
    {
     "name": "stderr",
     "output_type": "stream",
     "text": [
      "100% (500 of 500) |######################| Elapsed Time: 0:00:00 Time:  0:00:00\n",
      "100% (500 of 500) |######################| Elapsed Time: 0:00:00 Time:  0:00:00\n",
      "100% (500 of 500) |######################| Elapsed Time: 0:00:00 Time:  0:00:00\n",
      " 11% (11 of 100) |##                     | Elapsed Time: 0:00:00 ETA:   0:00:01"
     ]
    },
    {
     "name": "stdout",
     "output_type": "stream",
     "text": [
      "kmeans done for  16\n"
     ]
    },
    {
     "name": "stderr",
     "output_type": "stream",
     "text": [
      "100% (100 of 100) |######################| Elapsed Time: 0:00:04 Time:  0:00:04\n"
     ]
    },
    {
     "data": {
      "image/png": "[encoded data removed]",
      "text/plain": [
       "<matplotlib.figure.Figure at 0x7f8ff7c4ca20>"
      ]
     },
     "metadata": {
      "needs_background": "light"
     },
     "output_type": "display_data"
    },
    {
     "name": "stderr",
     "output_type": "stream",
     "text": [
      "  3% (3 of 100) |                        | Elapsed Time: 0:00:00 ETA:   0:00:10"
     ]
    },
    {
     "name": "stdout",
     "output_type": "stream",
     "text": [
      "***First Cluster Done***\n"
     ]
    },
    {
     "name": "stderr",
     "output_type": "stream",
     "text": [
      "100% (100 of 100) |######################| Elapsed Time: 0:00:01 Time:  0:00:01\n"
     ]
    },
    {
     "data": {
      "image/png": "[encoded data removed]",
      "text/plain": [
       "<matplotlib.figure.Figure at 0x7f8ff6230b00>"
      ]
     },
     "metadata": {
      "needs_background": "light"
     },
     "output_type": "display_data"
    },
    {
     "name": "stderr",
     "output_type": "stream",
     "text": [
      "  9% (9 of 100) |##                      | Elapsed Time: 0:00:00 ETA:   0:00:01"
     ]
    },
    {
     "name": "stdout",
     "output_type": "stream",
     "text": [
      "***Second Cluster Done***\n"
     ]
    },
    {
     "name": "stderr",
     "output_type": "stream",
     "text": [
      "100% (100 of 100) |######################| Elapsed Time: 0:00:04 Time:  0:00:04\n"
     ]
    },
    {
     "data": {
      "image/png": "[encoded data removed]",
      "text/plain": [
       "<matplotlib.figure.Figure at 0x7f8ff42e5a20>"
      ]
     },
     "metadata": {
      "needs_background": "light"
     },
     "output_type": "display_data"
    },
    {
     "name": "stdout",
     "output_type": "stream",
     "text": [
      "***Third Cluster Done***\n"
     ]
    },
    {
     "name": "stderr",
     "output_type": "stream",
     "text": [
      "100% (50 of 50) |########################| Elapsed Time: 0:00:00 Time:  0:00:00\n",
      "100% (50 of 50) |########################| Elapsed Time: 0:00:00 Time:  0:00:00\n",
      "100% (100 of 100) |######################| Elapsed Time: 0:00:00 Time:  0:00:00\n",
      "100% (50 of 50) |########################| Elapsed Time: 0:00:00 Time:  0:00:00\n"
     ]
    },
    {
     "name": "stdout",
     "output_type": "stream",
     "text": [
      "Confusion Matrix\n",
      "[[ 22.  28.]\n",
      " [ 16.  34.]]\n",
      "Accuracy:  [ 0.56  0.56]\n",
      "Precision:  [ 0.57894737  0.5483871 ]\n",
      "Recall:  [ 0.44  0.68]\n",
      "F-Measure:  [ 0.5         0.60714286]\n",
      "Mean F-Measure:  0.553571428571\n",
      "Mean F-Measure:  0.553571428571\n"
     ]
    },
    {
     "name": "stderr",
     "output_type": "stream",
     "text": [
      "100% (50 of 50) |########################| Elapsed Time: 0:00:00 Time:  0:00:00\n",
      "100% (100 of 100) |######################| Elapsed Time: 0:00:00 Time:  0:00:00\n",
      "100% (50 of 50) |########################| Elapsed Time: 0:00:00 Time:  0:00:00\n",
      "100% (50 of 50) |########################| Elapsed Time: 0:00:00 Time:  0:00:00\n",
      "N/A% (0 of 100) |                        | Elapsed Time: 0:00:00 ETA:  --:--:--"
     ]
    },
    {
     "name": "stdout",
     "output_type": "stream",
     "text": [
      "Confusion Matrix\n",
      "[[ 21.  29.]\n",
      " [ 12.  38.]]\n",
      "Accuracy:  [ 0.59  0.59]\n",
      "Precision:  [ 0.63636364  0.56716418]\n",
      "Recall:  [ 0.42  0.76]\n",
      "F-Measure:  [ 0.5060241   0.64957265]\n",
      "Mean F-Measure:  0.577798372979\n",
      "Mean F-Measure:  0.577798372979\n"
     ]
    },
    {
     "name": "stderr",
     "output_type": "stream",
     "text": [
      "100% (100 of 100) |######################| Elapsed Time: 0:00:00 Time:  0:00:00\n",
      "100% (50 of 50) |########################| Elapsed Time: 0:00:00 Time:  0:00:00\n"
     ]
    },
    {
     "name": "stdout",
     "output_type": "stream",
     "text": [
      "Confusion Matrix\n",
      "[[ 33.  17.]\n",
      " [ 28.  22.]]\n",
      "Accuracy:  [ 0.55  0.55]\n",
      "Precision:  [ 0.54098361  0.56410256]\n",
      "Recall:  [ 0.66  0.44]\n",
      "F-Measure:  [ 0.59459459  0.49438202]\n",
      "Mean F-Measure:  0.544488308533\n",
      "Mean F-Measure:  0.544488308533\n"
     ]
    },
    {
     "name": "stderr",
     "output_type": "stream",
     "text": [
      "100% (50 of 50) |########################| Elapsed Time: 0:00:00 Time:  0:00:00\n",
      "100% (50 of 50) |########################| Elapsed Time: 0:00:00 Time:  0:00:00\n"
     ]
    },
    {
     "name": "stdout",
     "output_type": "stream",
     "text": [
      "[[ 16.  18.  16.]\n",
      " [ 14.  27.   9.]\n",
      " [  6.  23.  21.]]\n",
      "Accuracy:  [ 0.64        0.57333333  0.64      ]\n",
      "Precision:  [ 0.44444444  0.39705882  0.45652174]\n",
      "Recall:  [ 0.32  0.54  0.42]\n",
      "F-Measure:  [ 0.37209302  0.45762712  0.4375    ]\n",
      "Mean F-Measure:  0.422406713966\n",
      "Cluster=====>  16 completed\n"
     ]
    }
   ],
   "source": [
    "def main():\n",
    "    train1, train2, train3, test1, test2, test3 = load_data()\n",
    "    K = [1,2,4,8,16]\n",
    "    dims = 24\n",
    "    \n",
    "        \n",
    "    ##Bag of visual words###\n",
    "    lis = []\n",
    "    for i in range(train1.shape[0]):\n",
    "        lis.append(train1[i])\n",
    "    for i in range(train2.shape[0]):\n",
    "        lis.append(train2[i])\n",
    "    for i in range(train3.shape[0]):\n",
    "        lis.append(train3[i])\n",
    "\n",
    "#     lis = np.array(lis)\n",
    "#     mean, cluster = kmeans(lis, 32, 24)\n",
    "#     mean = np.array(mean)\n",
    "#     print(mean)\n",
    "    \n",
    "#     np.save('bow_kmean_mean.npy',mean)\n",
    "    print('Mean Calculated')\n",
    "    mean = np.load('bow_kmean_mean.npy')\n",
    "#     print(mean.shape)\n",
    "\n",
    "\n",
    "\n",
    "    path = 'dataset3/train/assembly_line'\n",
    "    bow1 = get_bow(path, train1, mean)\n",
    "    np.save('bow_1.npy',bow1)\n",
    "    print('Train 1 BOvW Calcualted')\n",
    "    \n",
    "    path = 'dataset3/train/general_store_indoor'\n",
    "    bow2 = get_bow(path, train2, mean)\n",
    "    np.save('bow_2.npy',bow2)\n",
    "    print('Train 2 BOvW Calcualted')\n",
    "    \n",
    "    path = 'dataset3/train/schoolhouse'\n",
    "    bow3 = get_bow(path, train3, mean)\n",
    "    np.save('bow_3.npy',bow3)\n",
    "    print('Train 3 BOvW Calcualted')\n",
    "    \n",
    "    path = 'dataset3/test/assembly_line'\n",
    "    bow_t1 = get_bow(path, test1, mean)\n",
    "    np.save('bow_t1.npy',bow_t1)\n",
    "    print('Test 1 BOvW Calcualted')\n",
    "    \n",
    "    path = 'dataset3/test/general_store_indoor'\n",
    "    bow_t2 = get_bow(path, test2, mean)\n",
    "    np.save('bow_t2.npy',bow_t2)\n",
    "    print('Test 2 BOvW Calcualted')\n",
    "\n",
    "    path = 'dataset3/test/schoolhouse'\n",
    "    bow_t3 = get_bow(path, test3, mean)\n",
    "    np.save('bow_t3.npy',bow_t3)\n",
    "    print('Test 3 BOvW Calcualted')\n",
    "    \n",
    "    bow1=np.load('bow_1.npy')\n",
    "    bow2=np.load('bow_2.npy')\n",
    "    bow3=np.load('bow_3.npy')\n",
    "    \n",
    "    bow_t1=np.load('bow_t1.npy')\n",
    "    bow_t2=np.load('bow_t2.npy')\n",
    "    bow_t3=np.load('bow_t3.npy')\n",
    "    dims = 32\n",
    "    \n",
    "    for k in K:\n",
    "        disc = 3\n",
    "        mean, cluster1 = kmeans(bow1,k,dims)\n",
    "        mean, cluster2 = kmeans(bow2,k,dims)\n",
    "        mean, cluster3 = kmeans(bow3,k,dims)\n",
    "\n",
    "                \n",
    "        print('kmeans done for ',k)\n",
    "    \n",
    "\n",
    "        mu1, cov1, pi1, gamma = gmm(cluster1, bow1, k, dims)\n",
    "        print('***First Cluster Done***')\n",
    "        mu2, cov2, pi2, gamma = gmm(cluster2, bow2, k, dims)\n",
    "        print('***Second Cluster Done***')\n",
    "        mu3, cov3, pi3, gamma = gmm(cluster3, bow3, k, dims)\n",
    "        print('***Third Cluster Done***')\n",
    "\n",
    "        pair_plot(bow_t1, bow_t2, bow1, bow2, mu1, cov1, pi1, mu2, cov2, pi2, 1, 2,k)\n",
    "\n",
    "        pair_plot(bow_t1, bow_t3, bow1, bow3, mu1, cov1, pi1, mu3, cov3, pi3, 1, 3,k)\n",
    "        pair_plot(bow_t2, bow_t3, bow2, bow3, mu2, cov2, pi2, mu3, cov3, pi3, 2, 3,k)\n",
    "        \n",
    "        \n",
    "        total_plot(bow_t1, bow_t2, bow_t3, bow1, bow2, bow3, mu1, cov1, pi1, mu2, cov2, \n",
    "                   pi2, mu3, cov3, pi3,k)\n",
    "#         TP = conf_matrix[i][i]\n",
    "#         FN = np.sum(conf_matrix[i,:])-conf_matrix[i][i]\n",
    "#         FP = np.sum(conf_matrix[:,i])-conf_matrix[i][i]\n",
    "#         TN = total_sum-(TP+FP+FN)\n",
    "\n",
    "#         recal = TP/(TP+FN)\n",
    "#         preci = TP/(TP+FP)\n",
    "#         acc = (TP+TN)/(TP+TN+FP+FN)\n",
    "        \n",
    "        print('Cluster=====> ',k, 'completed')\n",
    "if(__name__==\"__main__\"):    \n",
    "    main()    "
   ]
  },
  {
   "cell_type": "code",
   "execution_count": null,
   "metadata": {},
   "outputs": [],
   "source": []
  },
  {
   "cell_type": "code",
   "execution_count": null,
   "metadata": {},
   "outputs": [],
   "source": []
  },
  {
   "cell_type": "code",
   "execution_count": null,
   "metadata": {},
   "outputs": [],
   "source": []
  },
  {
   "cell_type": "code",
   "execution_count": null,
   "metadata": {},
   "outputs": [],
   "source": []
  },
  {
   "cell_type": "code",
   "execution_count": null,
   "metadata": {},
   "outputs": [],
   "source": []
  }
 ],
 "metadata": {
  "kernelspec": {
   "display_name": "Python 3",
   "language": "python",
   "name": "python3"
  },
  "language_info": {
   "codemirror_mode": {
    "name": "ipython",
    "version": 3
   },
   "file_extension": ".py",
   "mimetype": "text/x-python",
   "name": "python",
   "nbconvert_exporter": "python",
   "pygments_lexer": "ipython3",
   "version": "3.6.5"
  }
 },
 "nbformat": 4,
 "nbformat_minor": 2
}
