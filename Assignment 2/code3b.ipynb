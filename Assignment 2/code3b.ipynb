{
 "cells": [
  {
   "cell_type": "code",
   "execution_count": 172,
   "metadata": {},
   "outputs": [
    {
     "name": "stdout",
     "output_type": "stream",
     "text": [
      "Requirement already satisfied: progressbar2 in /home/knot/.local/lib/python2.7/site-packages\n",
      "Requirement already satisfied: python-utils>=2.3.0 in /home/knot/.local/lib/python2.7/site-packages (from progressbar2)\n",
      "Requirement already satisfied: six in /home/knot/.local/lib/python2.7/site-packages (from progressbar2)\n",
      "\u001b[33mYou are using pip version 9.0.3, however version 18.1 is available.\n",
      "You should consider upgrading via the 'pip install --upgrade pip' command.\u001b[0m\n"
     ]
    }
   ],
   "source": [
    "!pip install progressbar2"
   ]
  },
  {
   "cell_type": "code",
   "execution_count": 335,
   "metadata": {},
   "outputs": [],
   "source": [
    "import os\n",
    "import numpy as np\n",
    "import matplotlib.pyplot as plt\n",
    "import matplotlib.patches as mpatches\n",
    "import random\n",
    "from random import shuffle\n",
    "import progressbar\n",
    "import cv2\n",
    "\n",
    "def load_data():\n",
    "    \n",
    "    path = './'\n",
    "    pctr1 = os.path.join(path,'data_class1_train.npy')\n",
    "    pctr2 = os.path.join(path,'data_class2_train.npy')\n",
    "    pctr3 = os.path.join(path,'data_class3_train.npy')\n",
    "    pcte1 = os.path.join(path,'data_class1_test.npy')\n",
    "    pcte2 = os.path.join(path,'data_class2_test.npy')\n",
    "    pcte3 = os.path.join(path,'data_class3_test.npy')\n",
    "    \n",
    "    \n",
    "    train1 = np.load(pctr1)\n",
    "    train2 = np.load(pctr2)\n",
    "    train3 = np.load(pctr3)\n",
    "    test1 = np.load(pcte1)\n",
    "    test2 = np.load(pcte2)\n",
    "    test3 = np.load(pcte3)\n",
    "    \n",
    "    return train1, train2, train3, test1, test2, test3"
   ]
  },
  {
   "cell_type": "code",
   "execution_count": 336,
   "metadata": {},
   "outputs": [],
   "source": [
    "def get_predictions(x, mu, cov, pi, prior):\n",
    "    sum_g = np.ndarray(shape=(x.shape[0],1),dtype=float)\n",
    "    for i in range(x.shape[0]):\n",
    "        for j in range(1):\n",
    "            sum_g[i][j]=0\n",
    "    l = len(cov)\n",
    "    I = np.identity(cov[0].shape[0], dtype=float)\n",
    "    p = 1e-2\n",
    "    I = p*I\n",
    "    for i in range(l):\n",
    "        cov[i]+=I\n",
    "        temp = pi[i]*(np.linalg.det(cov[i])**-.5)* np.exp(-.5 * np.einsum('ij, ij -> i',x - mu[i],np.matmul(np.linalg.inv(cov[i]),(x- mu[i]).T).T))\n",
    "        temp = np.reshape(temp,(x.shape[0],1))\n",
    "        sum_g+=temp\n",
    "    return sum_g*prior"
   ]
  },
  {
   "cell_type": "code",
   "execution_count": 337,
   "metadata": {},
   "outputs": [],
   "source": [
    "def get_confusion_mat(c1, c2, c3, classes):\n",
    "    \n",
    "    lis = []\n",
    "    if(c3!=0):\n",
    "        conf_mat = np.full((3,3),1e-10)\n",
    "        for i in range(c1):\n",
    "            lis.append(0)\n",
    "        for i in range(c2):\n",
    "            lis.append(1)\n",
    "        for i in range(c3):\n",
    "            lis.append(2)\n",
    "        for i in range(len(classes)):\n",
    "            conf_mat[lis[i]][classes[i]]+=1\n",
    "        return np.array(conf_mat)\n",
    "    else:\n",
    "        conf_mat = np.full((2,2),1e-10)\n",
    "        for i in range(c1):\n",
    "            lis.append(0)\n",
    "        for i in range(c2):\n",
    "            lis.append(1)\n",
    "        for i in range(len(classes)):\n",
    "            conf_mat[lis[i]][classes[i]]+=1\n",
    "\n",
    "        return np.array(conf_mat)"
   ]
  },
  {
   "cell_type": "code",
   "execution_count": 338,
   "metadata": {},
   "outputs": [],
   "source": [
    "def metric(conf_matrix):\n",
    "    x = conf_matrix.shape[0]\n",
    "    precision = []\n",
    "    accuracy = []\n",
    "    recall = []\n",
    "    f_measure = []\n",
    "    total_sum = np.sum(conf_matrix)\n",
    "    for i in range(x):\n",
    "        TP = conf_matrix[i][i]\n",
    "        FN = np.sum(conf_matrix[i,:])-conf_matrix[i][i]\n",
    "        FP = np.sum(conf_matrix[:,i])-conf_matrix[i][i]\n",
    "        TN = total_sum-(TP+FP+FN)\n",
    "\n",
    "        recal = TP/(TP+FN)\n",
    "        preci = TP/(TP+FP)\n",
    "        acc = (TP+TN)/(TP+TN+FP+FN)\n",
    "        \n",
    "        precision.append(preci)\n",
    "        recall.append(recal)\n",
    "        accuracy.append(acc)\n",
    "        f_measure.append((2*recal*preci)/(recal+preci))\n",
    "        \n",
    "    return accuracy,precision,recall,f_measure"
   ]
  },
  {
   "cell_type": "code",
   "execution_count": 339,
   "metadata": {},
   "outputs": [],
   "source": [
    "def pair_plot(test1, test2, dc1, dc2, mu1, cov1, pi1, mu2, cov2, pi2, il, jl,k):\n",
    "    le1 = dc1.shape[0]\n",
    "    le2 = dc2.shape[0]\n",
    "    le  = le1+le2\n",
    "    \n",
    "    g1 = []\n",
    "    g2 = []\n",
    "    lw1 = test1.shape[0]\n",
    "    lw2 = test2.shape[0]\n",
    "\n",
    "    p1 = get_predictions(test1, mu1, cov1, pi1, le1/le)\n",
    "    p2 = get_predictions(test1, mu2, cov2, pi2, le2/le)\n",
    "    for i in progressbar.progressbar(range(lw1)):\n",
    "        g1.append(p1[i][0])\n",
    "        g2.append(p2[i][0])\n",
    "    p1 = get_predictions(test2, mu1, cov1, pi1, le1/le)\n",
    "    p2 = get_predictions(test2, mu2, cov2, pi2, le2/le)\n",
    "    for i in progressbar.progressbar(range(lw2)):\n",
    "        g1.append(p1[i][0])\n",
    "        g2.append(p2[i][0])\n",
    "\n",
    "\n",
    "    classes = []\n",
    "    lw = lw1+lw2\n",
    "    for i in progressbar.progressbar(range(lw)):\n",
    "        classes.append(np.argmax([g1[i],g2[i]]))\n",
    "\n",
    "    conf_mat = get_confusion_mat(lw1, lw2, 0, classes)\n",
    "    print(\"Confusion Matrix\")\n",
    "    print(conf_mat)\n",
    "    temp = np.array(metric(conf_mat))\n",
    "    print(\"Accuracy: \",temp[0,:])\n",
    "    print(\"Precision: \",temp[1,:])\n",
    "    print(\"Recall: \",temp[2,:])\n",
    "    print(\"F-Measure: \",temp[3,:])\n",
    "    print(\"Mean F-Measure: \",np.mean(temp[3,:]))\n",
    "    print(\"Mean F-Measure: \",np.mean(temp[3,:]))"
   ]
  },
  {
   "cell_type": "code",
   "execution_count": 340,
   "metadata": {},
   "outputs": [],
   "source": [
    "def total_plot(test1, test2, test3, train1, train2, train3, mu1, cov1, pi1, mu2, cov2, pi2, mu3, cov3, pi3,k):\n",
    "    le1 = train1.shape[0]\n",
    "    le2 = train2.shape[0]\n",
    "    le3 = train3.shape[0]\n",
    "    le  = le1+le2+le3\n",
    "    \n",
    "    g1 = []\n",
    "    g2 = []\n",
    "    g3 = []\n",
    "    lw1 = test1.shape[0]\n",
    "    lw2 = test2.shape[0]\n",
    "    lw3 = test3.shape[0]\n",
    "\n",
    "    p1 = get_predictions(test1, mu1, cov1, pi1, le1/le)\n",
    "    p2 = get_predictions(test1, mu2, cov2, pi2, le2/le)\n",
    "    p3 = get_predictions(test1, mu3, cov3, pi3, le3/le)\n",
    "    for i in progressbar.progressbar(range(lw1)):\n",
    "        g1.append(p1[i][0])\n",
    "        g2.append(p2[i][0])\n",
    "        g3.append(p3[i][0])\n",
    "    p1 = get_predictions(test2, mu1, cov1, pi1, le1/le)\n",
    "    p2 = get_predictions(test2, mu2, cov2, pi2, le2/le)\n",
    "    p3 = get_predictions(test2, mu3, cov3, pi3, le3/le)\n",
    "    for i in progressbar.progressbar(range(lw2)):\n",
    "        g1.append(p1[i][0])\n",
    "        g2.append(p2[i][0])\n",
    "        g3.append(p3[i][0])\n",
    "    p1 = get_predictions(test3, mu1, cov1, pi1, le1/le)\n",
    "    p2 = get_predictions(test3, mu2, cov2, pi2, le2/le)\n",
    "    p3 = get_predictions(test3, mu3, cov3, pi3, le3/le)\n",
    "    for i in progressbar.progressbar(range(lw3)):\n",
    "        g1.append(p1[i][0])\n",
    "        g2.append(p2[i][0])\n",
    "        g3.append(p3[i][0])\n",
    "\n",
    "\n",
    "\n",
    "    classes = []\n",
    "    lw = lw1+lw2+lw3\n",
    "    for i in range(lw):\n",
    "        classes.append(np.argmax([g1[i],g2[i],g3[i]]))\n",
    "\n",
    "    conf_mat = get_confusion_mat(lw1, lw2, lw3, classes)\n",
    "    print(conf_mat)\n",
    "    temp = np.array(metric(conf_mat))\n",
    "    print(\"Accuracy: \",temp[0,:])\n",
    "    print(\"Precision: \",temp[1,:])\n",
    "    print(\"Recall: \",temp[2,:])\n",
    "    print(\"F-Measure: \",temp[3,:])\n",
    "    print(\"Mean F-Measure: \",np.mean(temp[3,:]))"
   ]
  },
  {
   "cell_type": "code",
   "execution_count": 341,
   "metadata": {},
   "outputs": [],
   "source": [
    "def gaussian_normal(x, mu, cov):\n",
    "    I = np.identity(cov.shape[0], dtype=float)\n",
    "    p = 1e-2\n",
    "    I = p*I\n",
    "    cov+=I\n",
    "    inv_cov = np.linalg.inv(cov)\n",
    "    g = (np.linalg.det(cov)**-.5)*((2 * np.pi)**(-x.shape[1]/2.))* np.exp(-.5 * np.einsum('ij, ij -> i',x - mu,np.dot(np.linalg.inv(cov),(x- mu).T).T)) \n",
    "    return g\n",
    "def gmm(cluster, pts, k, dims):\n",
    "    mu = []                    #mean of each cluster\n",
    "    cov = []                   #covaraince matrix for each cluster\n",
    "    pi =  []                   #mixture coefficients for each clusters\n",
    "    n = len(pts)               #total number of points in the given class\n",
    "    gamma = np.ndarray(shape=(n,k),dtype=float)\n",
    "    for i in range(k):\n",
    "        pi.append(cluster[i].shape[0]/n)\n",
    "        mean = np.mean(cluster[i], axis=0)\n",
    "        mu.append(mean)\n",
    "        covariance = np.cov(cluster[i].T)\n",
    "        cov.append(covariance)\n",
    "    \n",
    "    \n",
    "    likelihood = []\n",
    "    for t in range(100):\n",
    "        for j in range(k):\n",
    "            gamma[:,j] = pi[j]*gaussian_normal(pts,mu[j],cov[j])\n",
    "        li = np.sum(np.log(np.sum(gamma, axis = 1)))\n",
    "        likelihood.append(li)\n",
    "        gamma = (gamma.T / np.sum(gamma, axis = 1)).T\n",
    "        n_eff = np.sum(gamma, axis = 0)\n",
    "        for i in range(k):\n",
    "            mu[i] = (1/n_eff[i])*np.sum(gamma[:, i] * pts.T, axis = 1).T\n",
    "            x_mu = np.matrix(pts - mu[i])\n",
    "            cov[i] = np.array(1/n_eff[i])*np.matmul(np.multiply(x_mu.T,  gamma[:, i]), x_mu)\n",
    "            pi[i] = n_eff[i]/n\n",
    "    \n",
    "    plt.plot(likelihood)\n",
    "    plt.title('Log-Likelihood vs Iteration plot')\n",
    "    plt.xlabel('Iterations')\n",
    "    plt.ylabel('log-likelihood')\n",
    "    plt.show()\n",
    "\n",
    "    return mu, cov, pi, gamma"
   ]
  },
  {
   "cell_type": "code",
   "execution_count": 342,
   "metadata": {},
   "outputs": [],
   "source": [
    "def find_dist(x,mu):\n",
    "    return ((x[0]-mu[0])*(x[0]-mu[0])+(x[0]-mu[0])*(x[0]-mu[0]))**0.5\n",
    "def kmeans(data,k, dim):\n",
    "    \n",
    "    l = data.shape[0]\n",
    "    lis = []\n",
    "    for i in range(l):\n",
    "        lis.append(data[i,:])\n",
    "    \n",
    "    shuffle(lis)\n",
    "    cluster = []\n",
    "    mean = []\n",
    "    for i in range(k):\n",
    "        mean.append(lis[i])\n",
    "        \n",
    "    for i in range(500):\n",
    "        cluster[:]=[]\n",
    "        \n",
    "        distance=[]\n",
    "        clust=[]\n",
    "        for j in range(l):\n",
    "            distance.append(1e15)\n",
    "            clust.append(-1)\n",
    "        for j in range(k):\n",
    "            temp=[]\n",
    "            cluster.append(temp)\n",
    "        for j in range(k):\n",
    "            dis = np.linalg.norm(data-mean[j], axis=1)\n",
    "            for p in range(l):\n",
    "                if(dis[p]<distance[p]):\n",
    "                    distance[p]=dis[p]\n",
    "                    clust[p] = j\n",
    "                    \n",
    "        for j in range(l):\n",
    "            cluster[clust[j]].append(data[j])\n",
    "        for j in range(k):\n",
    "            if(len(cluster[j])==0):\n",
    "                num = random.randint(0,l-1)\n",
    "                cluster[j].append(data[num])\n",
    "                num = random.randint(0,l-1)\n",
    "                cluster[j].append(data[num])\n",
    "            if(len(cluster[j])==1):\n",
    "                num = random.randint(0,l-1)\n",
    "                cluster[j].append(data[num])\n",
    "        \n",
    "        for j in range(k):\n",
    "            mean[j]=np.mean(cluster[j], axis=0)\n",
    "            \n",
    "            \n",
    "    for i in (range(k)):\n",
    "        cluster[i]=np.array(cluster[i])\n",
    "        \n",
    "    return mean, cluster"
   ]
  },
  {
   "cell_type": "code",
   "execution_count": 343,
   "metadata": {},
   "outputs": [],
   "source": [
    "def get_bow(path, train, mean):\n",
    "    kernal = 32\n",
    "    lis = []\n",
    "    prevl = 0\n",
    "    for im in progressbar.progressbar(os.listdir(path)):\n",
    "        image = cv2.imread(os.path.join(path,im))\n",
    "        padx = (32-int(image.shape[0]%kernal))%kernal\n",
    "        pady = (32-int(image.shape[1]%kernal))%kernal\n",
    "        x = int((image.shape[0]+padx)/kernal)\n",
    "        y = int((image.shape[1]+pady)/kernal)\n",
    "        bins = x*y\n",
    "        lis.append(bins+prevl)\n",
    "        prevl+=bins\n",
    "        \n",
    "      \n",
    "    bow = np.ndarray(shape=(len(lis),32), dtype=float)\n",
    "    for i in range(len(lis)):\n",
    "        for j in range(32):\n",
    "            bow[i][j]=0\n",
    "    bn = 0\n",
    "    ln = 0\n",
    "    \n",
    "    distance=[]\n",
    "    clust=[]\n",
    "    l=train.shape[0]\n",
    "    for j in range(l):\n",
    "        distance.append(1e15)\n",
    "        clust.append(-1)\n",
    "    for j in range(32):\n",
    "        dis = np.linalg.norm(train-mean[j], axis=1)\n",
    "        for p in range(l):\n",
    "            if(dis[p]<distance[p]):\n",
    "                distance[p]=dis[p]\n",
    "                clust[p] = j\n",
    "    \n",
    "    for i in range(l):\n",
    "        if(i==lis[ln]):\n",
    "            bn+=1\n",
    "            ln+=1\n",
    "        bow[bn][clust[i]]+=1\n",
    "    \n",
    "    return bow"
   ]
  },
  {
   "cell_type": "code",
   "execution_count": 345,
   "metadata": {},
   "outputs": [
    {
     "name": "stderr",
     "output_type": "stream",
     "text": [
      "  2% (1 of 49) |                         | Elapsed Time: 0:00:00 ETA:   0:00:06"
     ]
    },
    {
     "name": "stdout",
     "output_type": "stream",
     "text": [
      "[[  1.89595897e+03   1.00053296e+03   1.23697085e+02   2.87663677e+01\n",
      "    1.23094170e+01   5.59865471e+00   2.82892377e+00   2.30762332e+00\n",
      "    1.89595897e+03   1.00053296e+03   1.23697085e+02   2.87663677e+01\n",
      "    1.23094170e+01   5.59865471e+00   2.82892377e+00   2.30762332e+00\n",
      "    1.89595897e+03   1.00053296e+03   1.23697085e+02   2.87663677e+01\n",
      "    1.23094170e+01   5.59865471e+00   2.82892377e+00   2.30762332e+00]\n",
      " [  7.74464371e+02   2.02081853e+03   2.02701900e+02   3.53710214e+01\n",
      "    1.68919240e+01   1.22090261e+01   5.58076010e+00   3.96247031e+00\n",
      "    7.74464371e+02   2.02081853e+03   2.02701900e+02   3.53710214e+01\n",
      "    1.68919240e+01   1.22090261e+01   5.58076010e+00   3.96247031e+00\n",
      "    7.74464371e+02   2.02081853e+03   2.02701900e+02   3.53710214e+01\n",
      "    1.68919240e+01   1.22090261e+01   5.58076010e+00   3.96247031e+00]\n",
      " [  2.25433612e+01   8.31205200e+01   9.16005571e+01   1.71467967e+02\n",
      "    1.02329118e+03   1.43885292e+03   1.57275580e+02   8.38479109e+01\n",
      "    2.25433612e+01   8.31205200e+01   9.16005571e+01   1.71467967e+02\n",
      "    1.02329118e+03   1.43885292e+03   1.57275580e+02   8.38479109e+01\n",
      "    2.25433612e+01   8.31205200e+01   9.16005571e+01   1.71467967e+02\n",
      "    1.02329118e+03   1.43885292e+03   1.57275580e+02   8.38479109e+01]\n",
      " [  1.41974733e+02   2.01633804e+03   7.52930477e+02   1.07078154e+02\n",
      "    2.65076899e+01   1.36743566e+01   7.11409291e+00   6.38245449e+00\n",
      "    1.41974733e+02   2.01633804e+03   7.52930477e+02   1.07078154e+02\n",
      "    2.65076899e+01   1.36743566e+01   7.11409291e+00   6.38245449e+00\n",
      "    1.41974733e+02   2.01633804e+03   7.52930477e+02   1.07078154e+02\n",
      "    2.65076899e+01   1.36743566e+01   7.11409291e+00   6.38245449e+00]\n",
      " [  2.32256967e+03   4.68484934e+02   1.17176542e+02   6.09682508e+01\n",
      "    3.95464105e+01   1.92831143e+01   1.59832154e+01   2.79878665e+01\n",
      "    2.32256967e+03   4.68484934e+02   1.17176542e+02   6.09682508e+01\n",
      "    3.95464105e+01   1.92831143e+01   1.59832154e+01   2.79878665e+01\n",
      "    2.32256967e+03   4.68484934e+02   1.17176542e+02   6.09682508e+01\n",
      "    3.95464105e+01   1.92831143e+01   1.59832154e+01   2.79878665e+01]\n",
      " [  7.42474043e+02   4.58501661e+02   3.38405349e+02   3.53930257e+02\n",
      "    5.17266737e+02   3.65623842e+02   1.89066422e+02   1.06731690e+02\n",
      "    7.42474043e+02   4.58501661e+02   3.38405349e+02   3.53930257e+02\n",
      "    5.17266737e+02   3.65623842e+02   1.89066422e+02   1.06731690e+02\n",
      "    7.42474043e+02   4.58501661e+02   3.38405349e+02   3.53930257e+02\n",
      "    5.17266737e+02   3.65623842e+02   1.89066422e+02   1.06731690e+02]\n",
      " [  1.95002393e+01   2.23460201e+02   1.52326974e+03   1.01464508e+03\n",
      "    1.77632637e+02   6.43159994e+01   2.70248844e+01   2.21512203e+01\n",
      "    1.95002393e+01   2.23460201e+02   1.52326974e+03   1.01464508e+03\n",
      "    1.77632637e+02   6.43159994e+01   2.70248844e+01   2.21512203e+01\n",
      "    1.95002393e+01   2.23460201e+02   1.52326974e+03   1.01464508e+03\n",
      "    1.77632637e+02   6.43159994e+01   2.70248844e+01   2.21512203e+01]\n",
      " [  9.47159404e+00   2.90650855e+01   4.03485935e+01   8.08008825e+01\n",
      "    2.53072532e+02   2.44029730e+03   1.53921953e+02   6.50220629e+01\n",
      "    9.47159404e+00   2.90650855e+01   4.03485935e+01   8.08008825e+01\n",
      "    2.53072532e+02   2.44029730e+03   1.53921953e+02   6.50220629e+01\n",
      "    9.47159404e+00   2.90650855e+01   4.03485935e+01   8.08008825e+01\n",
      "    2.53072532e+02   2.44029730e+03   1.53921953e+02   6.50220629e+01]\n",
      " [  1.33940649e+01   2.98435703e+01   7.63151599e+01   1.99345526e+02\n",
      "    2.17596112e+03   5.28660225e+02   3.69661836e+01   1.15141477e+01\n",
      "    1.33940649e+01   2.98435703e+01   7.63151599e+01   1.99345526e+02\n",
      "    2.17596112e+03   5.28660225e+02   3.69661836e+01   1.15141477e+01\n",
      "    1.33940649e+01   2.98435703e+01   7.63151599e+01   1.99345526e+02\n",
      "    2.17596112e+03   5.28660225e+02   3.69661836e+01   1.15141477e+01]\n",
      " [  8.92224953e+01   8.84293195e+02   1.74252250e+03   2.53276749e+02\n",
      "    4.60253308e+01   2.83376181e+01   1.48824197e+01   1.34396975e+01\n",
      "    8.92224953e+01   8.84293195e+02   1.74252250e+03   2.53276749e+02\n",
      "    4.60253308e+01   2.83376181e+01   1.48824197e+01   1.34396975e+01\n",
      "    8.92224953e+01   8.84293195e+02   1.74252250e+03   2.53276749e+02\n",
      "    4.60253308e+01   2.83376181e+01   1.48824197e+01   1.34396975e+01]\n",
      " [  8.17051117e+02   1.19151424e+03   7.25174967e+02   2.11957061e+02\n",
      "    6.94217906e+01   2.89168979e+01   1.51340733e+01   1.28298525e+01\n",
      "    8.17051117e+02   1.19151424e+03   7.25174967e+02   2.11957061e+02\n",
      "    6.94217906e+01   2.89168979e+01   1.51340733e+01   1.28298525e+01\n",
      "    8.17051117e+02   1.19151424e+03   7.25174967e+02   2.11957061e+02\n",
      "    6.94217906e+01   2.89168979e+01   1.51340733e+01   1.28298525e+01]\n",
      " [  7.31151394e+01   3.47169124e+02   6.61192231e+02   9.11237450e+02\n",
      "    7.71923207e+02   2.23998904e+02   5.57629482e+01   2.76009960e+01\n",
      "    7.31151394e+01   3.47169124e+02   6.61192231e+02   9.11237450e+02\n",
      "    7.71923207e+02   2.23998904e+02   5.57629482e+01   2.76009960e+01\n",
      "    7.31151394e+01   3.47169124e+02   6.61192231e+02   9.11237450e+02\n",
      "    7.71923207e+02   2.23998904e+02   5.57629482e+01   2.76009960e+01]\n",
      " [  3.25087668e+01   1.08505552e+02   1.67054354e+02   2.99573641e+02\n",
      "    5.44844097e+02   7.91039451e+02   9.32398743e+02   1.96075395e+02\n",
      "    3.25087668e+01   1.08505552e+02   1.67054354e+02   2.99573641e+02\n",
      "    5.44844097e+02   7.91039451e+02   9.32398743e+02   1.96075395e+02\n",
      "    3.25087668e+01   1.08505552e+02   1.67054354e+02   2.99573641e+02\n",
      "    5.44844097e+02   7.91039451e+02   9.32398743e+02   1.96075395e+02]\n",
      " [  9.99406489e+01   3.67076064e+02   5.39802299e+02   5.10481331e+02\n",
      "    4.90472526e+02   5.07821865e+02   3.48652535e+02   2.07752731e+02\n",
      "    9.99406489e+01   3.67076064e+02   5.39802299e+02   5.10481331e+02\n",
      "    4.90472526e+02   5.07821865e+02   3.48652535e+02   2.07752731e+02\n",
      "    9.99406489e+01   3.67076064e+02   5.39802299e+02   5.10481331e+02\n",
      "    4.90472526e+02   5.07821865e+02   3.48652535e+02   2.07752731e+02]\n",
      " [  1.96877907e+02   1.32829070e+03   4.38715971e+02   4.36948358e+02\n",
      "    2.96826607e+02   2.03599008e+02   1.06008037e+02   6.47334131e+01\n",
      "    1.96877907e+02   1.32829070e+03   4.38715971e+02   4.36948358e+02\n",
      "    2.96826607e+02   2.03599008e+02   1.06008037e+02   6.47334131e+01\n",
      "    1.96877907e+02   1.32829070e+03   4.38715971e+02   4.36948358e+02\n",
      "    2.96826607e+02   2.03599008e+02   1.06008037e+02   6.47334131e+01]\n",
      " [  3.73391421e+00   1.31711349e+01   2.04696157e+01   2.80084897e+01\n",
      "    1.62092493e+02   1.58089209e+03   1.16811618e+03   9.55160858e+01\n",
      "    3.73391421e+00   1.31711349e+01   2.04696157e+01   2.80084897e+01\n",
      "    1.62092493e+02   1.58089209e+03   1.16811618e+03   9.55160858e+01\n",
      "    3.73391421e+00   1.31711349e+01   2.04696157e+01   2.80084897e+01\n",
      "    1.62092493e+02   1.58089209e+03   1.16811618e+03   9.55160858e+01]\n",
      " [  1.24372318e+02   1.43812474e+03   1.19661878e+03   2.20378993e+02\n",
      "    4.69291276e+01   2.53421262e+01   9.38010488e+00   1.08538058e+01\n",
      "    1.24372318e+02   1.43812474e+03   1.19661878e+03   2.20378993e+02\n",
      "    4.69291276e+01   2.53421262e+01   9.38010488e+00   1.08538058e+01\n",
      "    1.24372318e+02   1.43812474e+03   1.19661878e+03   2.20378993e+02\n",
      "    4.69291276e+01   2.53421262e+01   9.38010488e+00   1.08538058e+01]\n",
      " [  1.41518107e+03   6.14783100e+02   4.11883503e+02   2.78361372e+02\n",
      "    1.66470588e+02   9.37911477e+01   4.99589960e+01   4.15702242e+01\n",
      "    1.41518107e+03   6.14783100e+02   4.11883503e+02   2.78361372e+02\n",
      "    1.66470588e+02   9.37911477e+01   4.99589960e+01   4.15702242e+01\n",
      "    1.41518107e+03   6.14783100e+02   4.11883503e+02   2.78361372e+02\n",
      "    1.66470588e+02   9.37911477e+01   4.99589960e+01   4.15702242e+01]\n",
      " [  1.31737284e+03   1.44000443e+03   2.13738451e+02   4.98443770e+01\n",
      "    2.24451703e+01   1.31395240e+01   7.03663089e+00   8.41857210e+00\n",
      "    1.31737284e+03   1.44000443e+03   2.13738451e+02   4.98443770e+01\n",
      "    2.24451703e+01   1.31395240e+01   7.03663089e+00   8.41857210e+00\n",
      "    1.31737284e+03   1.44000443e+03   2.13738451e+02   4.98443770e+01\n",
      "    2.24451703e+01   1.31395240e+01   7.03663089e+00   8.41857210e+00]\n",
      " [  4.40900644e+01   9.90664133e+01   1.47054904e+02   2.32431211e+02\n",
      "    3.29905923e+02   5.08497730e+02   6.98388132e+02   1.01256562e+03\n",
      "    4.40900644e+01   9.90664133e+01   1.47054904e+02   2.32431211e+02\n",
      "    3.29905923e+02   5.08497730e+02   6.98388132e+02   1.01256562e+03\n",
      "    4.40900644e+01   9.90664133e+01   1.47054904e+02   2.32431211e+02\n",
      "    3.29905923e+02   5.08497730e+02   6.98388132e+02   1.01256562e+03]\n",
      " [  1.61184677e+01   4.98573959e+01   1.52969663e+02   1.05848605e+03\n",
      "    1.57877901e+03   1.40622675e+02   3.95814880e+01   3.55852524e+01\n",
      "    1.61184677e+01   4.98573959e+01   1.52969663e+02   1.05848605e+03\n",
      "    1.57877901e+03   1.40622675e+02   3.95814880e+01   3.55852524e+01\n",
      "    1.61184677e+01   4.98573959e+01   1.52969663e+02   1.05848605e+03\n",
      "    1.57877901e+03   1.40622675e+02   3.95814880e+01   3.55852524e+01]\n",
      " [  4.14209700e+01   1.61356773e+02   6.33604929e+02   1.71638346e+03\n",
      "    3.90480929e+02   7.75350808e+01   2.89827343e+01   2.22351279e+01\n",
      "    4.14209700e+01   1.61356773e+02   6.33604929e+02   1.71638346e+03\n",
      "    3.90480929e+02   7.75350808e+01   2.89827343e+01   2.22351279e+01\n",
      "    4.14209700e+01   1.61356773e+02   6.33604929e+02   1.71638346e+03\n",
      "    3.90480929e+02   7.75350808e+01   2.89827343e+01   2.22351279e+01]\n",
      " [  7.93734867e+00   2.13743039e+02   2.49012379e+03   2.95152240e+02\n",
      "    3.50009080e+01   1.48241525e+01   8.62651332e+00   6.59200969e+00\n",
      "    7.93734867e+00   2.13743039e+02   2.49012379e+03   2.95152240e+02\n",
      "    3.50009080e+01   1.48241525e+01   8.62651332e+00   6.59200969e+00\n",
      "    7.93734867e+00   2.13743039e+02   2.49012379e+03   2.95152240e+02\n",
      "    3.50009080e+01   1.48241525e+01   8.62651332e+00   6.59200969e+00]\n",
      " [  1.21109009e+01   4.14428759e+01   6.41769757e+01   7.91280745e+01\n",
      "    1.06822006e+02   1.69735701e+02   6.90592781e+02   1.90799069e+03\n",
      "    1.21109009e+01   4.14428759e+01   6.41769757e+01   7.91280745e+01\n",
      "    1.06822006e+02   1.69735701e+02   6.90592781e+02   1.90799069e+03\n",
      "    1.21109009e+01   4.14428759e+01   6.41769757e+01   7.91280745e+01\n",
      "    1.06822006e+02   1.69735701e+02   6.90592781e+02   1.90799069e+03]\n",
      " [  2.96840341e+03   8.83281508e+01   8.85345683e+00   3.24793252e+00\n",
      "    1.61875620e+00   8.79093616e-01   4.59146543e-01   2.10056236e-01\n",
      "    2.96840341e+03   8.83281508e+01   8.85345683e+00   3.24793252e+00\n",
      "    1.61875620e+00   8.79093616e-01   4.59146543e-01   2.10056236e-01\n",
      "    2.96840341e+03   8.83281508e+01   8.85345683e+00   3.24793252e+00\n",
      "    1.61875620e+00   8.79093616e-01   4.59146543e-01   2.10056236e-01]\n",
      " [  3.67720639e+00   1.18888117e+01   1.69538916e+02   2.68561466e+03\n",
      "    1.70881167e+02   2.46396803e+01   2.81619180e+00   2.94336345e+00\n",
      "    3.67720639e+00   1.18888117e+01   1.69538916e+02   2.68561466e+03\n",
      "    1.70881167e+02   2.46396803e+01   2.81619180e+00   2.94336345e+00\n",
      "    3.67720639e+00   1.18888117e+01   1.69538916e+02   2.68561466e+03\n",
      "    1.70881167e+02   2.46396803e+01   2.81619180e+00   2.94336345e+00]\n",
      " [  4.92139105e+00   1.36647346e+01   2.18480348e+01   2.62137294e+01\n",
      "    4.94493751e+01   2.88537222e+02   2.26352853e+03   4.03836986e+02\n",
      "    4.92139105e+00   1.36647346e+01   2.18480348e+01   2.62137294e+01\n",
      "    4.94493751e+01   2.88537222e+02   2.26352853e+03   4.03836986e+02\n",
      "    4.92139105e+00   1.36647346e+01   2.18480348e+01   2.62137294e+01\n",
      "    4.94493751e+01   2.88537222e+02   2.26352853e+03   4.03836986e+02]\n",
      " [  4.63081037e-01   2.20865899e+00   4.37926779e+00   6.69354175e+00\n",
      "    1.01928219e+01   1.66262855e+01   7.02066022e+01   2.96122974e+03\n",
      "    4.63081037e-01   2.20865899e+00   4.37926779e+00   6.69354175e+00\n",
      "    1.01928219e+01   1.66262855e+01   7.02066022e+01   2.96122974e+03\n",
      "    4.63081037e-01   2.20865899e+00   4.37926779e+00   6.69354175e+00\n",
      "    1.01928219e+01   1.66262855e+01   7.02066022e+01   2.96122974e+03]\n",
      " [  1.99100125e+01   6.12281628e+01   2.06998334e+02   7.71335787e+02\n",
      "    9.86192196e+02   7.86133454e+02   1.83656020e+02   5.65460353e+01\n",
      "    1.99100125e+01   6.12281628e+01   2.06998334e+02   7.71335787e+02\n",
      "    9.86192196e+02   7.86133454e+02   1.83656020e+02   5.65460353e+01\n",
      "    1.99100125e+01   6.12281628e+01   2.06998334e+02   7.71335787e+02\n",
      "    9.86192196e+02   7.86133454e+02   1.83656020e+02   5.65460353e+01]\n",
      " [  1.42725800e+02   8.12457032e+02   9.98473327e+02   6.69155674e+02\n",
      "    2.70052861e+02   1.02074588e+02   4.37936954e+01   3.32670223e+01\n",
      "    1.42725800e+02   8.12457032e+02   9.98473327e+02   6.69155674e+02\n",
      "    2.70052861e+02   1.02074588e+02   4.37936954e+01   3.32670223e+01\n",
      "    1.42725800e+02   8.12457032e+02   9.98473327e+02   6.69155674e+02\n",
      "    2.70052861e+02   1.02074588e+02   4.37936954e+01   3.32670223e+01]\n",
      " [  6.76656943e+02   6.91041738e+02   6.45238169e+02   6.01983553e+02\n",
      "    2.80390070e+02   1.00518542e+02   4.59250582e+01   3.02459271e+01\n",
      "    6.76656943e+02   6.91041738e+02   6.45238169e+02   6.01983553e+02\n",
      "    2.80390070e+02   1.00518542e+02   4.59250582e+01   3.02459271e+01\n",
      "    6.76656943e+02   6.91041738e+02   6.45238169e+02   6.01983553e+02\n",
      "    2.80390070e+02   1.00518542e+02   4.59250582e+01   3.02459271e+01]\n",
      " [  1.44275772e+02   2.76189395e+03   1.32293564e+02   1.45009594e+01\n",
      "    8.41810570e+00   7.69457527e+00   1.81039595e+00   1.11268097e+00\n",
      "    1.44275772e+02   2.76189395e+03   1.32293564e+02   1.45009594e+01\n",
      "    8.41810570e+00   7.69457527e+00   1.81039595e+00   1.11268097e+00\n",
      "    1.44275772e+02   2.76189395e+03   1.32293564e+02   1.45009594e+01\n",
      "    8.41810570e+00   7.69457527e+00   1.81039595e+00   1.11268097e+00]]\n",
      "Mean Calculated\n"
     ]
    },
    {
     "name": "stderr",
     "output_type": "stream",
     "text": [
      "100% (49 of 49) |########################| Elapsed Time: 0:00:04 Time:  0:00:04\n",
      " 10% (5 of 50) |##                       | Elapsed Time: 0:00:00 ETA:   0:00:02"
     ]
    },
    {
     "name": "stdout",
     "output_type": "stream",
     "text": [
      "Train 1 BOvW Calcualted\n"
     ]
    },
    {
     "name": "stderr",
     "output_type": "stream",
     "text": [
      "100% (50 of 50) |########################| Elapsed Time: 0:00:05 Time:  0:00:05\n",
      "  6% (3 of 50) |#                        | Elapsed Time: 0:00:00 ETA:   0:00:02"
     ]
    },
    {
     "name": "stdout",
     "output_type": "stream",
     "text": [
      "Train 2 BOvW Calcualted\n"
     ]
    },
    {
     "name": "stderr",
     "output_type": "stream",
     "text": [
      "100% (50 of 50) |########################| Elapsed Time: 0:00:04 Time:  0:00:04\n",
      "  4% (2 of 50) |#                        | Elapsed Time: 0:00:00 ETA:   0:00:02"
     ]
    },
    {
     "name": "stdout",
     "output_type": "stream",
     "text": [
      "Train 3 BOvW Calcualted\n"
     ]
    },
    {
     "name": "stderr",
     "output_type": "stream",
     "text": [
      "100% (50 of 50) |########################| Elapsed Time: 0:00:04 Time:  0:00:04\n",
      "N/A% (0 of 50) |                         | Elapsed Time: 0:00:00 ETA:  --:--:--"
     ]
    },
    {
     "name": "stdout",
     "output_type": "stream",
     "text": [
      "Test 1 BOvW Calcualted\n"
     ]
    },
    {
     "name": "stderr",
     "output_type": "stream",
     "text": [
      "100% (50 of 50) |########################| Elapsed Time: 0:00:05 Time:  0:00:05\n",
      "N/A% (0 of 50) |                         | Elapsed Time: 0:00:00 ETA:  --:--:--"
     ]
    },
    {
     "name": "stdout",
     "output_type": "stream",
     "text": [
      "Test 2 BOvW Calcualted\n"
     ]
    },
    {
     "name": "stderr",
     "output_type": "stream",
     "text": [
      "100% (50 of 50) |########################| Elapsed Time: 0:00:05 Time:  0:00:05\n"
     ]
    },
    {
     "name": "stdout",
     "output_type": "stream",
     "text": [
      "Test 3 BOvW Calcualted\n",
      "kmeans done for  1\n"
     ]
    },
    {
     "data": {
      "image/png": "[encoded data removed]",
      "text/plain": [
       "<matplotlib.figure.Figure at 0x7fd1456385c0>"
      ]
     },
     "metadata": {
      "needs_background": "light"
     },
     "output_type": "display_data"
    },
    {
     "name": "stdout",
     "output_type": "stream",
     "text": [
      "***First Cluster Done***\n"
     ]
    },
    {
     "data": {
      "image/png": "[encoded data removed]",
      "text/plain": [
       "<matplotlib.figure.Figure at 0x7fd1345631d0>"
      ]
     },
     "metadata": {
      "needs_background": "light"
     },
     "output_type": "display_data"
    },
    {
     "name": "stdout",
     "output_type": "stream",
     "text": [
      "***Second Cluster Done***\n"
     ]
    },
    {
     "data": {
      "image/png": "[encoded data removed]",
      "text/plain": [
       "<matplotlib.figure.Figure at 0x7fd14567c5f8>"
      ]
     },
     "metadata": {
      "needs_background": "light"
     },
     "output_type": "display_data"
    },
    {
     "name": "stderr",
     "output_type": "stream",
     "text": [
      "100% (50 of 50) |########################| Elapsed Time: 0:00:00 Time:  0:00:00\n",
      "100% (50 of 50) |########################| Elapsed Time: 0:00:00 Time:  0:00:00\n",
      "N/A% (0 of 100) |                        | Elapsed Time: 0:00:00 ETA:  --:--:--"
     ]
    },
    {
     "name": "stdout",
     "output_type": "stream",
     "text": [
      "***Third Cluster Done***\n"
     ]
    },
    {
     "name": "stderr",
     "output_type": "stream",
     "text": [
      "100% (100 of 100) |######################| Elapsed Time: 0:00:00 Time:  0:00:00\n",
      "100% (50 of 50) |########################| Elapsed Time: 0:00:00 Time:  0:00:00\n",
      "100% (50 of 50) |########################| Elapsed Time: 0:00:00 Time:  0:00:00\n"
     ]
    },
    {
     "name": "stdout",
     "output_type": "stream",
     "text": [
      "Confusion Matrix\n",
      "[[ 35.  15.]\n",
      " [ 33.  17.]]\n",
      "Accuracy:  [ 0.52  0.52]\n",
      "Precision:  [ 0.51470588  0.53125   ]\n",
      "Recall:  [ 0.7   0.34]\n",
      "F-Measure:  [ 0.59322034  0.41463415]\n",
      "Mean F-Measure:  0.503927242662\n",
      "Mean F-Measure:  0.503927242662\n"
     ]
    },
    {
     "name": "stderr",
     "output_type": "stream",
     "text": [
      "100% (100 of 100) |######################| Elapsed Time: 0:00:00 Time:  0:00:00\n",
      "100% (50 of 50) |########################| Elapsed Time: 0:00:00 Time:  0:00:00\n"
     ]
    },
    {
     "name": "stdout",
     "output_type": "stream",
     "text": [
      "Confusion Matrix\n",
      "[[ 20.  30.]\n",
      " [ 22.  28.]]\n",
      "Accuracy:  [ 0.48  0.48]\n",
      "Precision:  [ 0.47619048  0.48275862]\n",
      "Recall:  [ 0.4   0.56]\n",
      "F-Measure:  [ 0.43478261  0.51851852]\n",
      "Mean F-Measure:  0.476650563607\n",
      "Mean F-Measure:  0.476650563607\n"
     ]
    },
    {
     "name": "stderr",
     "output_type": "stream",
     "text": [
      "100% (50 of 50) |########################| Elapsed Time: 0:00:00 Time:  0:00:00\n",
      "100% (100 of 100) |######################| Elapsed Time: 0:00:00 Time:  0:00:00\n",
      "100% (50 of 50) |########################| Elapsed Time: 0:00:00 Time:  0:00:00\n",
      "100% (50 of 50) |########################| Elapsed Time: 0:00:00 Time:  0:00:00\n"
     ]
    },
    {
     "name": "stdout",
     "output_type": "stream",
     "text": [
      "Confusion Matrix\n",
      "[[ 24.  26.]\n",
      " [ 25.  25.]]\n",
      "Accuracy:  [ 0.49  0.49]\n",
      "Precision:  [ 0.48979592  0.49019608]\n",
      "Recall:  [ 0.48  0.5 ]\n",
      "F-Measure:  [ 0.48484848  0.4950495 ]\n",
      "Mean F-Measure:  0.4899489949\n",
      "Mean F-Measure:  0.4899489949\n"
     ]
    },
    {
     "name": "stderr",
     "output_type": "stream",
     "text": [
      "100% (50 of 50) |########################| Elapsed Time: 0:00:00 Time:  0:00:00\n"
     ]
    },
    {
     "name": "stdout",
     "output_type": "stream",
     "text": [
      "[[ 18.   8.  24.]\n",
      " [ 19.   7.  24.]\n",
      " [ 21.   6.  23.]]\n",
      "Accuracy:  [ 0.52  0.62  0.5 ]\n",
      "Precision:  [ 0.31034483  0.33333333  0.32394366]\n",
      "Recall:  [ 0.36  0.14  0.46]\n",
      "F-Measure:  [ 0.33333333  0.1971831   0.38016529]\n",
      "Mean F-Measure:  0.303560573727\n",
      "Cluster=====>  1 completed\n",
      "kmeans done for  2\n"
     ]
    },
    {
     "data": {
      "image/png": "[encoded data removed]",
      "text/plain": [
       "<matplotlib.figure.Figure at 0x7fd1344ca828>"
      ]
     },
     "metadata": {
      "needs_background": "light"
     },
     "output_type": "display_data"
    },
    {
     "name": "stdout",
     "output_type": "stream",
     "text": [
      "***First Cluster Done***\n"
     ]
    },
    {
     "data": {
      "image/png": "[encoded data removed]",
      "text/plain": [
       "<matplotlib.figure.Figure at 0x7fd13455e0b8>"
      ]
     },
     "metadata": {
      "needs_background": "light"
     },
     "output_type": "display_data"
    },
    {
     "name": "stdout",
     "output_type": "stream",
     "text": [
      "***Second Cluster Done***\n"
     ]
    },
    {
     "data": {
      "image/png": "[encoded data removed]",
      "text/plain": [
       "<matplotlib.figure.Figure at 0x7fd144cf2898>"
      ]
     },
     "metadata": {
      "needs_background": "light"
     },
     "output_type": "display_data"
    },
    {
     "name": "stderr",
     "output_type": "stream",
     "text": [
      "100% (50 of 50) |########################| Elapsed Time: 0:00:00 Time:  0:00:00\n"
     ]
    },
    {
     "name": "stdout",
     "output_type": "stream",
     "text": [
      "***Third Cluster Done***\n"
     ]
    },
    {
     "name": "stderr",
     "output_type": "stream",
     "text": [
      "100% (50 of 50) |########################| Elapsed Time: 0:00:00 Time:  0:00:00\n",
      "100% (100 of 100) |######################| Elapsed Time: 0:00:00 Time:  0:00:00\n",
      "100% (50 of 50) |########################| Elapsed Time: 0:00:00 Time:  0:00:00\n"
     ]
    },
    {
     "name": "stdout",
     "output_type": "stream",
     "text": [
      "Confusion Matrix\n",
      "[[ 40.  10.]\n",
      " [ 38.  12.]]\n",
      "Accuracy:  [ 0.52  0.52]\n",
      "Precision:  [ 0.51282051  0.54545455]\n",
      "Recall:  [ 0.8   0.24]\n",
      "F-Measure:  [ 0.625       0.33333333]\n",
      "Mean F-Measure:  0.479166666667\n",
      "Mean F-Measure:  0.479166666667\n"
     ]
    },
    {
     "name": "stderr",
     "output_type": "stream",
     "text": [
      "100% (50 of 50) |########################| Elapsed Time: 0:00:00 Time:  0:00:00\n",
      "100% (100 of 100) |######################| Elapsed Time: 0:00:00 Time:  0:00:00\n",
      "100% (50 of 50) |########################| Elapsed Time: 0:00:00 Time:  0:00:00\n"
     ]
    },
    {
     "name": "stdout",
     "output_type": "stream",
     "text": [
      "Confusion Matrix\n",
      "[[ 45.   5.]\n",
      " [ 43.   7.]]\n",
      "Accuracy:  [ 0.52  0.52]\n",
      "Precision:  [ 0.51136364  0.58333333]\n",
      "Recall:  [ 0.9   0.14]\n",
      "F-Measure:  [ 0.65217391  0.22580645]\n",
      "Mean F-Measure:  0.438990182329\n",
      "Mean F-Measure:  0.438990182329\n"
     ]
    },
    {
     "name": "stderr",
     "output_type": "stream",
     "text": [
      "100% (50 of 50) |########################| Elapsed Time: 0:00:00 Time:  0:00:00\n",
      "100% (100 of 100) |######################| Elapsed Time: 0:00:00 Time:  0:00:00\n",
      "100% (50 of 50) |########################| Elapsed Time: 0:00:00 Time:  0:00:00\n",
      "100% (50 of 50) |########################| Elapsed Time: 0:00:00 Time:  0:00:00\n"
     ]
    },
    {
     "name": "stdout",
     "output_type": "stream",
     "text": [
      "Confusion Matrix\n",
      "[[ 43.   7.]\n",
      " [ 41.   9.]]\n",
      "Accuracy:  [ 0.52  0.52]\n",
      "Precision:  [ 0.51190476  0.5625    ]\n",
      "Recall:  [ 0.86  0.18]\n",
      "F-Measure:  [ 0.64179104  0.27272727]\n",
      "Mean F-Measure:  0.457259158752\n",
      "Mean F-Measure:  0.457259158752\n"
     ]
    },
    {
     "name": "stderr",
     "output_type": "stream",
     "text": [
      "100% (50 of 50) |########################| Elapsed Time: 0:00:00 Time:  0:00:00\n"
     ]
    },
    {
     "name": "stdout",
     "output_type": "stream",
     "text": [
      "[[ 38.   8.   4.]\n",
      " [ 36.  12.   2.]\n",
      " [ 41.   5.   4.]]\n",
      "Accuracy:  [ 0.40666667  0.66        0.65333333]\n",
      "Precision:  [ 0.33043478  0.48        0.4       ]\n",
      "Recall:  [ 0.76  0.24  0.08]\n",
      "F-Measure:  [ 0.46060606  0.32        0.13333333]\n",
      "Mean F-Measure:  0.304646464647\n",
      "Cluster=====>  2 completed\n",
      "kmeans done for  4\n"
     ]
    },
    {
     "data": {
      "image/png": "[encoded data removed]",
      "text/plain": [
       "<matplotlib.figure.Figure at 0x7fd1344cae10>"
      ]
     },
     "metadata": {
      "needs_background": "light"
     },
     "output_type": "display_data"
    },
    {
     "name": "stdout",
     "output_type": "stream",
     "text": [
      "***First Cluster Done***\n"
     ]
    },
    {
     "data": {
      "image/png": "[encoded data removed]",
      "text/plain": [
       "<matplotlib.figure.Figure at 0x7fd1a05e5080>"
      ]
     },
     "metadata": {
      "needs_background": "light"
     },
     "output_type": "display_data"
    },
    {
     "name": "stdout",
     "output_type": "stream",
     "text": [
      "***Second Cluster Done***\n"
     ]
    },
    {
     "data": {
      "image/png": "[encoded data removed]",
      "text/plain": [
       "<matplotlib.figure.Figure at 0x7fd13442f470>"
      ]
     },
     "metadata": {
      "needs_background": "light"
     },
     "output_type": "display_data"
    },
    {
     "name": "stderr",
     "output_type": "stream",
     "text": [
      "100% (50 of 50) |########################| Elapsed Time: 0:00:00 Time:  0:00:00"
     ]
    },
    {
     "name": "stdout",
     "output_type": "stream",
     "text": [
      "***Third Cluster Done***\n"
     ]
    },
    {
     "name": "stderr",
     "output_type": "stream",
     "text": [
      "\n",
      "100% (50 of 50) |########################| Elapsed Time: 0:00:00 Time:  0:00:00\n",
      "100% (100 of 100) |######################| Elapsed Time: 0:00:00 Time:  0:00:00\n"
     ]
    },
    {
     "name": "stdout",
     "output_type": "stream",
     "text": [
      "Confusion Matrix\n",
      "[[ 41.   9.]\n",
      " [ 42.   8.]]\n",
      "Accuracy:  [ 0.49  0.49]\n",
      "Precision:  [ 0.4939759   0.47058824]\n",
      "Recall:  [ 0.82  0.16]\n",
      "F-Measure:  [ 0.61654135  0.23880597]\n",
      "Mean F-Measure:  0.427673661767\n",
      "Mean F-Measure:  0.427673661767\n"
     ]
    },
    {
     "name": "stderr",
     "output_type": "stream",
     "text": [
      "100% (50 of 50) |########################| Elapsed Time: 0:00:00 Time:  0:00:00\n",
      "100% (50 of 50) |########################| Elapsed Time: 0:00:00 Time:  0:00:00\n",
      "100% (100 of 100) |######################| Elapsed Time: 0:00:00 Time:  0:00:00\n"
     ]
    },
    {
     "name": "stdout",
     "output_type": "stream",
     "text": [
      "Confusion Matrix\n",
      "[[ 33.  17.]\n",
      " [ 38.  12.]]\n",
      "Accuracy:  [ 0.45  0.45]\n",
      "Precision:  [ 0.46478873  0.4137931 ]\n",
      "Recall:  [ 0.66  0.24]\n",
      "F-Measure:  [ 0.54545455  0.30379747]\n",
      "Mean F-Measure:  0.424626006905\n",
      "Mean F-Measure:  0.424626006905\n"
     ]
    },
    {
     "name": "stderr",
     "output_type": "stream",
     "text": [
      "100% (50 of 50) |########################| Elapsed Time: 0:00:00 Time:  0:00:00\n",
      "100% (50 of 50) |########################| Elapsed Time: 0:00:00 Time:  0:00:00\n",
      "100% (100 of 100) |######################| Elapsed Time: 0:00:00 Time:  0:00:00\n"
     ]
    },
    {
     "name": "stdout",
     "output_type": "stream",
     "text": [
      "Confusion Matrix\n",
      "[[ 38.  12.]\n",
      " [ 36.  14.]]\n",
      "Accuracy:  [ 0.52  0.52]\n",
      "Precision:  [ 0.51351351  0.53846154]\n",
      "Recall:  [ 0.76  0.28]\n",
      "F-Measure:  [ 0.61290323  0.36842105]\n",
      "Mean F-Measure:  0.490662139219\n",
      "Mean F-Measure:  0.490662139219\n"
     ]
    },
    {
     "name": "stderr",
     "output_type": "stream",
     "text": [
      "100% (50 of 50) |########################| Elapsed Time: 0:00:00 Time:  0:00:00\n",
      "100% (50 of 50) |########################| Elapsed Time: 0:00:00 Time:  0:00:00\n",
      "100% (50 of 50) |########################| Elapsed Time: 0:00:00 Time:  0:00:00\n"
     ]
    },
    {
     "name": "stdout",
     "output_type": "stream",
     "text": [
      "[[ 27.   6.  17.]\n",
      " [ 36.   8.   6.]\n",
      " [ 37.   2.  11.]]\n",
      "Accuracy:  [ 0.36        0.66666667  0.58666667]\n",
      "Precision:  [ 0.27        0.5         0.32352941]\n",
      "Recall:  [ 0.54  0.16  0.22]\n",
      "F-Measure:  [ 0.36        0.24242424  0.26190476]\n",
      "Mean F-Measure:  0.28810966811\n",
      "Cluster=====>  4 completed\n",
      "kmeans done for  8\n"
     ]
    },
    {
     "data": {
      "image/png": "[encoded data removed]",
      "text/plain": [
       "<matplotlib.figure.Figure at 0x7fd1a5ac07f0>"
      ]
     },
     "metadata": {
      "needs_background": "light"
     },
     "output_type": "display_data"
    },
    {
     "name": "stdout",
     "output_type": "stream",
     "text": [
      "***First Cluster Done***\n"
     ]
    },
    {
     "data": {
      "image/png": "[encoded data removed]",
      "text/plain": [
       "<matplotlib.figure.Figure at 0x7fd13446b3c8>"
      ]
     },
     "metadata": {
      "needs_background": "light"
     },
     "output_type": "display_data"
    },
    {
     "name": "stdout",
     "output_type": "stream",
     "text": [
      "***Second Cluster Done***\n"
     ]
    },
    {
     "data": {
      "image/png": "[encoded data removed]",
      "text/plain": [
       "<matplotlib.figure.Figure at 0x7fd1343ce400>"
      ]
     },
     "metadata": {
      "needs_background": "light"
     },
     "output_type": "display_data"
    },
    {
     "name": "stdout",
     "output_type": "stream",
     "text": [
      "***Third Cluster Done***\n"
     ]
    },
    {
     "name": "stderr",
     "output_type": "stream",
     "text": [
      "100% (50 of 50) |########################| Elapsed Time: 0:00:00 Time:  0:00:00\n",
      "100% (50 of 50) |########################| Elapsed Time: 0:00:00 Time:  0:00:00\n",
      "100% (100 of 100) |######################| Elapsed Time: 0:00:00 Time:  0:00:00\n",
      "100% (50 of 50) |########################| Elapsed Time: 0:00:00 Time:  0:00:00\n"
     ]
    },
    {
     "name": "stdout",
     "output_type": "stream",
     "text": [
      "Confusion Matrix\n",
      "[[ 44.   6.]\n",
      " [ 35.  15.]]\n",
      "Accuracy:  [ 0.59  0.59]\n",
      "Precision:  [ 0.55696203  0.71428571]\n",
      "Recall:  [ 0.88  0.3 ]\n",
      "F-Measure:  [ 0.68217054  0.42253521]\n",
      "Mean F-Measure:  0.552352876952\n",
      "Mean F-Measure:  0.552352876952\n"
     ]
    },
    {
     "name": "stderr",
     "output_type": "stream",
     "text": [
      "100% (50 of 50) |########################| Elapsed Time: 0:00:00 Time:  0:00:00\n",
      "100% (100 of 100) |######################| Elapsed Time: 0:00:00 Time:  0:00:00\n"
     ]
    },
    {
     "name": "stdout",
     "output_type": "stream",
     "text": [
      "Confusion Matrix\n",
      "[[ 49.   1.]\n",
      " [ 46.   4.]]\n",
      "Accuracy:  [ 0.53  0.53]\n",
      "Precision:  [ 0.51578947  0.8       ]\n",
      "Recall:  [ 0.98  0.08]\n",
      "F-Measure:  [ 0.67586207  0.14545455]\n",
      "Mean F-Measure:  0.410658307211\n",
      "Mean F-Measure:  0.410658307211\n"
     ]
    },
    {
     "name": "stderr",
     "output_type": "stream",
     "text": [
      "100% (50 of 50) |########################| Elapsed Time: 0:00:00 Time:  0:00:00\n",
      "100% (50 of 50) |########################| Elapsed Time: 0:00:00 Time:  0:00:00\n",
      "100% (100 of 100) |######################| Elapsed Time: 0:00:00 Time:  0:00:00\n",
      "100% (50 of 50) |########################| Elapsed Time: 0:00:00 Time:  0:00:00\n"
     ]
    },
    {
     "name": "stdout",
     "output_type": "stream",
     "text": [
      "Confusion Matrix\n",
      "[[ 46.   4.]\n",
      " [ 42.   8.]]\n",
      "Accuracy:  [ 0.54  0.54]\n",
      "Precision:  [ 0.52272727  0.66666667]\n",
      "Recall:  [ 0.92  0.16]\n",
      "F-Measure:  [ 0.66666667  0.25806452]\n",
      "Mean F-Measure:  0.462365591398\n",
      "Mean F-Measure:  0.462365591398\n"
     ]
    },
    {
     "name": "stderr",
     "output_type": "stream",
     "text": [
      "100% (50 of 50) |########################| Elapsed Time: 0:00:00 Time:  0:00:00\n",
      "100% (50 of 50) |########################| Elapsed Time: 0:00:00 Time:  0:00:00\n"
     ]
    },
    {
     "name": "stdout",
     "output_type": "stream",
     "text": [
      "[[ 35.  10.   5.]\n",
      " [ 32.  14.   4.]\n",
      " [ 36.   6.   8.]]\n",
      "Accuracy:  [ 0.44666667  0.65333333  0.66      ]\n",
      "Precision:  [ 0.33980583  0.46666667  0.47058824]\n",
      "Recall:  [ 0.7   0.28  0.16]\n",
      "F-Measure:  [ 0.45751634  0.35        0.23880597]\n",
      "Mean F-Measure:  0.34877410334\n",
      "Cluster=====>  8 completed\n",
      "kmeans done for  16\n"
     ]
    },
    {
     "data": {
      "image/png": "[encoded data removed]",
      "text/plain": [
       "<matplotlib.figure.Figure at 0x7fd1a5b288d0>"
      ]
     },
     "metadata": {
      "needs_background": "light"
     },
     "output_type": "display_data"
    },
    {
     "name": "stdout",
     "output_type": "stream",
     "text": [
      "***First Cluster Done***\n"
     ]
    },
    {
     "data": {
      "image/png": "[encoded data removed]",
      "text/plain": [
       "<matplotlib.figure.Figure at 0x7fd1a5ae9080>"
      ]
     },
     "metadata": {
      "needs_background": "light"
     },
     "output_type": "display_data"
    },
    {
     "name": "stdout",
     "output_type": "stream",
     "text": [
      "***Second Cluster Done***\n"
     ]
    },
    {
     "data": {
      "image/png": "[encoded data removed]",
      "text/plain": [
       "<matplotlib.figure.Figure at 0x7fd134447780>"
      ]
     },
     "metadata": {
      "needs_background": "light"
     },
     "output_type": "display_data"
    },
    {
     "name": "stdout",
     "output_type": "stream",
     "text": [
      "***Third Cluster Done***\n"
     ]
    },
    {
     "name": "stderr",
     "output_type": "stream",
     "text": [
      "100% (50 of 50) |########################| Elapsed Time: 0:00:00 Time:  0:00:00\n",
      "100% (50 of 50) |########################| Elapsed Time: 0:00:00 Time:  0:00:00\n",
      "100% (100 of 100) |######################| Elapsed Time: 0:00:00 Time:  0:00:00\n"
     ]
    },
    {
     "name": "stdout",
     "output_type": "stream",
     "text": [
      "Confusion Matrix\n",
      "[[  5.00000000e+01   1.00000000e-10]\n",
      " [  5.00000000e+01   1.00000000e-10]]\n",
      "Accuracy:  [ 0.5  0.5]\n",
      "Precision:  [ 0.5  0.5]\n",
      "Recall:  [  1.00000000e+00   2.00000000e-12]\n",
      "F-Measure:  [  6.66666667e-01   4.00000000e-12]\n",
      "Mean F-Measure:  0.333333333335\n",
      "Mean F-Measure:  0.333333333335\n"
     ]
    },
    {
     "name": "stderr",
     "output_type": "stream",
     "text": [
      "100% (50 of 50) |########################| Elapsed Time: 0:00:00 Time:  0:00:00\n",
      "100% (50 of 50) |########################| Elapsed Time: 0:00:00 Time:  0:00:00\n",
      "100% (100 of 100) |######################| Elapsed Time: 0:00:00 Time:  0:00:00\n"
     ]
    },
    {
     "name": "stdout",
     "output_type": "stream",
     "text": [
      "Confusion Matrix\n",
      "[[  5.00000000e+01   1.00000000e-10]\n",
      " [  5.00000000e+01   1.00000000e-10]]\n",
      "Accuracy:  [ 0.5  0.5]\n",
      "Precision:  [ 0.5  0.5]\n",
      "Recall:  [  1.00000000e+00   2.00000000e-12]\n",
      "F-Measure:  [  6.66666667e-01   4.00000000e-12]\n",
      "Mean F-Measure:  0.333333333335\n",
      "Mean F-Measure:  0.333333333335\n"
     ]
    },
    {
     "name": "stderr",
     "output_type": "stream",
     "text": [
      "100% (50 of 50) |########################| Elapsed Time: 0:00:00 Time:  0:00:00\n",
      "100% (50 of 50) |########################| Elapsed Time: 0:00:00 Time:  0:00:00\n",
      "100% (100 of 100) |######################| Elapsed Time: 0:00:00 Time:  0:00:00\n"
     ]
    },
    {
     "name": "stdout",
     "output_type": "stream",
     "text": [
      "Confusion Matrix\n",
      "[[  5.00000000e+01   1.00000000e-10]\n",
      " [  5.00000000e+01   1.00000000e-10]]\n",
      "Accuracy:  [ 0.5  0.5]\n",
      "Precision:  [ 0.5  0.5]\n",
      "Recall:  [  1.00000000e+00   2.00000000e-12]\n",
      "F-Measure:  [  6.66666667e-01   4.00000000e-12]\n",
      "Mean F-Measure:  0.333333333335\n",
      "Mean F-Measure:  0.333333333335\n"
     ]
    },
    {
     "name": "stderr",
     "output_type": "stream",
     "text": [
      "100% (50 of 50) |########################| Elapsed Time: 0:00:00 Time:  0:00:00\n",
      "100% (50 of 50) |########################| Elapsed Time: 0:00:00 Time:  0:00:00\n",
      "100% (50 of 50) |########################| Elapsed Time: 0:00:00 Time:  0:00:00\n"
     ]
    },
    {
     "name": "stdout",
     "output_type": "stream",
     "text": [
      "[[  5.00000000e+01   1.00000000e-10   1.00000000e-10]\n",
      " [  4.70000000e+01   1.00000000e+00   2.00000000e+00]\n",
      " [  4.60000000e+01   1.00000000e+00   3.00000000e+00]]\n",
      "Accuracy:  [ 0.38        0.66666667  0.67333333]\n",
      "Precision:  [ 0.34965035  0.5         0.6       ]\n",
      "Recall:  [ 1.    0.02  0.06]\n",
      "F-Measure:  [ 0.51813472  0.03846154  0.10909091]\n",
      "Mean F-Measure:  0.221895720861\n",
      "Cluster=====>  16 completed\n"
     ]
    }
   ],
   "source": [
    "def main():\n",
    "    train1, train2, train3, test1, test2, test3 = load_data()\n",
    "    K = [1,2,4,8,16]\n",
    "    dims = 24\n",
    "    \n",
    "        \n",
    "    ##Bag of visual words###\n",
    "    lis = []\n",
    "    for i in range(train1.shape[0]):\n",
    "        lis.append(train1[i])\n",
    "    for i in range(train2.shape[0]):\n",
    "        lis.append(train2[i])\n",
    "    for i in range(train3.shape[0]):\n",
    "        lis.append(train3[i])\n",
    "\n",
    "    lis = np.array(lis)\n",
    "    mean, cluster = kmeans(lis, 32, 24)\n",
    "    mean = np.array(mean)\n",
    "    print(mean)\n",
    "    \n",
    "    np.save('bow_kmean_mean.npy',mean)\n",
    "    print('Mean Calculated')\n",
    "    mean = np.load('bow_kmean_mean.npy')\n",
    "#     print(mean.shape)\n",
    "\n",
    "\n",
    "\n",
    "    path = 'dataset3/train/assembly_line'\n",
    "    bow1 = get_bow(path, train1, mean)\n",
    "    np.save('bow_1.npy',bow1)\n",
    "    print('Train 1 BOvW Calcualted')\n",
    "    \n",
    "    path = 'dataset3/train/general_store_indoor'\n",
    "    bow2 = get_bow(path, train2, mean)\n",
    "    np.save('bow_2.npy',bow2)\n",
    "    print('Train 2 BOvW Calcualted')\n",
    "    \n",
    "    path = 'dataset3/train/schoolhouse'\n",
    "    bow3 = get_bow(path, train3, mean)\n",
    "    np.save('bow_3.npy',bow3)\n",
    "    print('Train 3 BOvW Calcualted')\n",
    "    \n",
    "    path = 'dataset3/test/assembly_line'\n",
    "    bow_t1 = get_bow(path, test1, mean)\n",
    "    np.save('bow_t1.npy',bow_t1)\n",
    "    print('Test 1 BOvW Calcualted')\n",
    "    \n",
    "    path = 'dataset3/test/general_store_indoor'\n",
    "    bow_t2 = get_bow(path, test2, mean)\n",
    "    np.save('bow_t2.npy',bow_t2)\n",
    "    print('Test 2 BOvW Calcualted')\n",
    "\n",
    "    path = 'dataset3/test/schoolhouse'\n",
    "    bow_t3 = get_bow(path, test3, mean)\n",
    "    np.save('bow_t3.npy',bow_t3)\n",
    "    print('Test 3 BOvW Calcualted')\n",
    "    \n",
    "    bow1=np.load('bow_1.npy')\n",
    "    bow2=np.load('bow_2.npy')\n",
    "    bow3=np.load('bow_3.npy')\n",
    "    \n",
    "    bow_t1=np.load('bow_t1.npy')\n",
    "    bow_t2=np.load('bow_t2.npy')\n",
    "    bow_t3=np.load('bow_t3.npy')\n",
    "    dims = 32\n",
    "    \n",
    "    for k in K:\n",
    "        disc = 3\n",
    "        mean, cluster1 = kmeans(bow1,k,dims)\n",
    "        mean, cluster2 = kmeans(bow2,k,dims)\n",
    "        mean, cluster3 = kmeans(bow3,k,dims)\n",
    "\n",
    "                \n",
    "        print('kmeans done for ',k)\n",
    "    \n",
    "\n",
    "        mu1, cov1, pi1, gamma = gmm(cluster1, bow1, k, dims)\n",
    "        print('***First Cluster Done***')\n",
    "        mu2, cov2, pi2, gamma = gmm(cluster2, bow2, k, dims)\n",
    "        print('***Second Cluster Done***')\n",
    "        mu3, cov3, pi3, gamma = gmm(cluster3, bow3, k, dims)\n",
    "        print('***Third Cluster Done***')\n",
    "\n",
    "        pair_plot(bow_t1, bow_t2, bow1, bow2, mu1, cov1, pi1, mu2, cov2, pi2, 1, 2,k)\n",
    "\n",
    "        pair_plot(bow_t1, bow_t3, bow1, bow3, mu1, cov1, pi1, mu3, cov3, pi3, 1, 3,k)\n",
    "        pair_plot(bow_t2, bow_t3, bow2, bow3, mu2, cov2, pi2, mu3, cov3, pi3, 2, 3,k)\n",
    "        \n",
    "        \n",
    "        total_plot(bow_t1, bow_t2, bow_t3, bow1, bow2, bow3, mu1, cov1, pi1, mu2, cov2, \n",
    "                   pi2, mu3, cov3, pi3,k)\n",
    "    \n",
    "        print('Cluster=====> ',k, 'completed')\n",
    "if(__name__==\"__main__\"):    \n",
    "    main()    "
   ]
  },
  {
   "cell_type": "code",
   "execution_count": null,
   "metadata": {},
   "outputs": [],
   "source": []
  },
  {
   "cell_type": "code",
   "execution_count": null,
   "metadata": {},
   "outputs": [],
   "source": []
  },
  {
   "cell_type": "code",
   "execution_count": null,
   "metadata": {},
   "outputs": [],
   "source": []
  },
  {
   "cell_type": "code",
   "execution_count": null,
   "metadata": {},
   "outputs": [],
   "source": []
  },
  {
   "cell_type": "code",
   "execution_count": null,
   "metadata": {},
   "outputs": [],
   "source": []
  }
 ],
 "metadata": {
  "kernelspec": {
   "display_name": "Python 3",
   "language": "python",
   "name": "python3"
  },
  "language_info": {
   "codemirror_mode": {
    "name": "ipython",
    "version": 3
   },
   "file_extension": ".py",
   "mimetype": "text/x-python",
   "name": "python",
   "nbconvert_exporter": "python",
   "pygments_lexer": "ipython3",
   "version": "3.6.4"
  }
 },
 "nbformat": 4,
 "nbformat_minor": 2
}
