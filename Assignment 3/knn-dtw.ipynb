{
 "cells": [
  {
   "cell_type": "code",
   "execution_count": 1,
   "metadata": {},
   "outputs": [],
   "source": [
    "import numpy as np\n",
    "import math\n",
    "import os\n",
    "import sys\n",
    "import progressbar\n",
    "\n",
    "dimension = 39\n"
   ]
  },
  {
   "cell_type": "code",
   "execution_count": 2,
   "metadata": {},
   "outputs": [],
   "source": [
    "def get_confusion_mat(true_class, pred_class):\n",
    "    conf_mat = np.full((3,3),1e-10)\n",
    "    for i in range(len(true_class)):\n",
    "        conf_mat[true_class[i]][pred_class[i]]+=1\n",
    "    return np.array(conf_mat)"
   ]
  },
  {
   "cell_type": "code",
   "execution_count": 3,
   "metadata": {},
   "outputs": [],
   "source": [
    "def get_metric(conf_matrix):\n",
    "    x = conf_matrix.shape[0]\n",
    "    precision = []\n",
    "    accuracy = []\n",
    "    recall = []\n",
    "    f_measure = []\n",
    "    total_sum = np.sum(conf_matrix)\n",
    "    for i in range(x):\n",
    "        TP = conf_matrix[i][i]\n",
    "        FN = np.sum(conf_matrix[i,:])-conf_matrix[i][i]\n",
    "        FP = np.sum(conf_matrix[:,i])-conf_matrix[i][i]\n",
    "        TN = total_sum-(TP+FP+FN)\n",
    "\n",
    "        recal = TP/(TP+FN)\n",
    "        preci = TP/(TP+FP)\n",
    "        acc = (TP+TN)/(TP+TN+FP+FN)\n",
    "        \n",
    "        precision.append(preci)\n",
    "        recall.append(recal)\n",
    "        accuracy.append(acc)\n",
    "        f_measure.append((2*recal*preci)/(recal+preci))\n",
    "        \n",
    "    return accuracy,precision,recall,f_measure"
   ]
  },
  {
   "cell_type": "code",
   "execution_count": 4,
   "metadata": {},
   "outputs": [],
   "source": [
    "def find_distance(data1, data2):\n",
    "    su = 0.0\n",
    "    for i in range(dimension):\n",
    "        su += ((data1[i]-data2[i])**2);\n",
    "    return su\n",
    "        \n",
    "    "
   ]
  },
  {
   "cell_type": "code",
   "execution_count": 5,
   "metadata": {},
   "outputs": [],
   "source": [
    "def dtw(data1, data2):\n",
    "    \n",
    "    n1 = data1.shape[0]\n",
    "    n2 = data2.shape[0]\n",
    "    \n",
    "    dp = np.ndarray(shape=(n1,n2),dtype=float)\n",
    "    for i in range(n1):\n",
    "        dp[i][0] = find_distance(data1[i,:], data2[0,:])\n",
    "    for i in range(n2):\n",
    "        dp[0][i] = find_distance(data1[0,:], data2[i,:])\n",
    "        \n",
    "    for i in range(1,n1):\n",
    "        for j in range(1,n2):\n",
    "            dp[i][j] = find_distance(data1[i,:],data2[j,:]) + min(dp[i-1][j],dp[i-1][j-1],dp[i][j-1])\n",
    "    \n",
    "    return dp[n1-1][n2-1]\n",
    "            "
   ]
  },
  {
   "cell_type": "code",
   "execution_count": 6,
   "metadata": {},
   "outputs": [],
   "source": [
    "def get_predictions(path, st,k):\n",
    "    pred_class = []\n",
    "    for f in progressbar.progressbar(os.listdir(os.path.join(path,st))):\n",
    "        data_test = np.load(os.path.join(os.path.join(path,st),f))\n",
    "        lis = []\n",
    "        for f_train in os.listdir(os.path.join('Group13/Train','di_npy')):\n",
    "            data_train = np.load(os.path.join(os.path.join('Group13/Train','di_npy'),f_train))\n",
    "            dist = dtw(data_train, data_test)\n",
    "            lis.append([dist,0])\n",
    "        for f_train in os.listdir(os.path.join('Group13/Train','dI_npy')):\n",
    "            data_train = np.load(os.path.join(os.path.join('Group13/Train','dI_npy'),f_train))\n",
    "            dist = dtw(data_train, data_test)\n",
    "            lis.append([dist,1])\n",
    "        for f_train in os.listdir(os.path.join('Group13/Train','DI_npy')):\n",
    "            data_train = np.load(os.path.join(os.path.join('Group13/Train','DI_npy'),f_train))\n",
    "            dist = dtw(data_train, data_test)\n",
    "            lis.append([dist,2])\n",
    "        lis2 = sorted(lis,key=lambda x: x[0])\n",
    "        coun = [0,0,0]\n",
    "        for i in range(k):\n",
    "            coun[lis2[i][1]]+=1\n",
    "        pred_class.append(np.argmax(coun))\n",
    "        \n",
    "    return pred_class\n",
    "    "
   ]
  },
  {
   "cell_type": "code",
   "execution_count": 13,
   "metadata": {},
   "outputs": [],
   "source": [
    "def main():\n",
    "    K = [4, 8, 16, 32]\n",
    "    path = 'Group13/Test'\n",
    "    true_class = []\n",
    "    for f in os.listdir(os.path.join(path,'di_npy')):\n",
    "        true_class.append(0)\n",
    "    for f in os.listdir(os.path.join(path,'dI_npy')):\n",
    "        true_class.append(1)\n",
    "    for f in os.listdir(os.path.join(path,'DI_npy')):\n",
    "        true_class.append(2)\n",
    "        \n",
    "    for k in K:\n",
    "        pred_class = []\n",
    "        p_class1 = get_predictions(path,'di_npy',k)\n",
    "        p_class2 = get_predictions(path,'dI_npy',k)\n",
    "        p_class3 = get_predictions(path,'DI_npy',k)\n",
    "        for i in range(len(p_class1)):\n",
    "            pred_class.append(p_class1[i])\n",
    "        for i in range(len(p_class2)):\n",
    "            pred_class.append(p_class2[i])\n",
    "        for i in range(len(p_class3)):\n",
    "            pred_class.append(p_class3[i])\n",
    "        \n",
    "        \n",
    "        conf_mat = get_confusion_mat(true_class, pred_class)\n",
    "        accuracy,precision,recall,f_measure = get_metric(conf_mat)\n",
    "        print('#'*10,\"Done for K: {}\".format(k),'#'*10)\n",
    "        print(conf_mat)\n",
    "        print(\"Accuracy:\\t \", round(accuracy[0],4), round(accuracy[1],4), round(accuracy[2],4))\n",
    "        print(\"Precision:\\t \",round(precision[0],4), round(precision[1],4), round(precision[2],4))\n",
    "        print(\"Recall:\\t \",   round(recall[0],4), round(recall[1],4), round(recall[2],2))\n",
    "        print(\"F_measure:\\t \",round(f_measure[0],4), round(f_measure[1],4), round(f_measure[2],4))\n",
    "        \n",
    "        "
   ]
  },
  {
   "cell_type": "code",
   "execution_count": 14,
   "metadata": {},
   "outputs": [
    {
     "name": "stderr",
     "output_type": "stream",
     "text": [
      "100% (27 of 27) |########################| Elapsed Time: 0:01:25 Time:  0:01:25\n",
      "100% (24 of 24) |########################| Elapsed Time: 0:01:26 Time:  0:01:26\n",
      "100% (14 of 14) |########################| Elapsed Time: 0:00:42 Time:  0:00:42\n",
      "N/A% (0 of 27) |                         | Elapsed Time: 0:00:00 ETA:  --:--:--"
     ]
    },
    {
     "name": "stdout",
     "output_type": "stream",
     "text": [
      "########## Done for K: 4 ##########\n",
      "[[ 23.   1.   3.]\n",
      " [ 15.   2.   7.]\n",
      " [  3.   1.  10.]]\n",
      "Accuracy:\t  0.6615 0.6308 0.7846\n",
      "Precision:\t  0.561 0.5 0.5\n",
      "Recall:\t  0.8519 0.0833 0.71\n",
      "F_measure:\t  0.6765 0.1429 0.5882\n"
     ]
    },
    {
     "name": "stderr",
     "output_type": "stream",
     "text": [
      "100% (27 of 27) |########################| Elapsed Time: 0:01:17 Time:  0:01:17\n",
      "100% (24 of 24) |########################| Elapsed Time: 0:01:31 Time:  0:01:31\n",
      "100% (14 of 14) |########################| Elapsed Time: 0:00:42 Time:  0:00:42\n",
      "N/A% (0 of 27) |                         | Elapsed Time: 0:00:00 ETA:  --:--:--"
     ]
    },
    {
     "name": "stdout",
     "output_type": "stream",
     "text": [
      "########## Done for K: 8 ##########\n",
      "[[  2.30000000e+01   1.00000000e-10   4.00000000e+00]\n",
      " [  1.70000000e+01   1.00000000e+00   6.00000000e+00]\n",
      " [  6.00000000e+00   3.00000000e+00   5.00000000e+00]]\n",
      "Accuracy:\t  0.5846 0.6 0.7077\n",
      "Precision:\t  0.5 0.25 0.3333\n",
      "Recall:\t  0.8519 0.0417 0.36\n",
      "F_measure:\t  0.6301 0.0714 0.3448\n"
     ]
    },
    {
     "name": "stderr",
     "output_type": "stream",
     "text": [
      "100% (27 of 27) |########################| Elapsed Time: 0:01:17 Time:  0:01:17\n",
      "100% (24 of 24) |########################| Elapsed Time: 0:01:28 Time:  0:01:28\n",
      "100% (14 of 14) |########################| Elapsed Time: 0:00:42 Time:  0:00:42\n",
      "N/A% (0 of 27) |                         | Elapsed Time: 0:00:00 ETA:  --:--:--"
     ]
    },
    {
     "name": "stdout",
     "output_type": "stream",
     "text": [
      "########## Done for K: 16 ##########\n",
      "[[  2.50000000e+01   1.00000000e-10   2.00000000e+00]\n",
      " [  1.90000000e+01   1.00000000e-10   5.00000000e+00]\n",
      " [  7.00000000e+00   3.00000000e+00   4.00000000e+00]]\n",
      "Accuracy:\t  0.5692 0.5846 0.7385\n",
      "Precision:\t  0.4902 0.0 0.3636\n",
      "Recall:\t  0.9259 0.0 0.29\n",
      "F_measure:\t  0.641 0.0 0.32\n"
     ]
    },
    {
     "name": "stderr",
     "output_type": "stream",
     "text": [
      "100% (27 of 27) |########################| Elapsed Time: 0:01:23 Time:  0:01:23\n",
      "100% (24 of 24) |########################| Elapsed Time: 0:01:27 Time:  0:01:27\n",
      "100% (14 of 14) |########################| Elapsed Time: 0:00:42 Time:  0:00:42\n"
     ]
    },
    {
     "name": "stdout",
     "output_type": "stream",
     "text": [
      "########## Done for K: 32 ##########\n",
      "[[  2.70000000e+01   1.00000000e-10   1.00000000e-10]\n",
      " [  2.10000000e+01   1.00000000e-10   3.00000000e+00]\n",
      " [  1.10000000e+01   1.00000000e-10   3.00000000e+00]]\n",
      "Accuracy:\t  0.5077 0.6308 0.7846\n",
      "Precision:\t  0.4576 0.3333 0.5\n",
      "Recall:\t  1.0 0.0 0.21\n",
      "F_measure:\t  0.6279 0.0 0.3\n"
     ]
    }
   ],
   "source": [
    "if(__name__==\"__main__\"):\n",
    "    main()"
   ]
  },
  {
   "cell_type": "code",
   "execution_count": null,
   "metadata": {},
   "outputs": [],
   "source": []
  }
 ],
 "metadata": {
  "kernelspec": {
   "display_name": "Python 3",
   "language": "python",
   "name": "python3"
  },
  "language_info": {
   "codemirror_mode": {
    "name": "ipython",
    "version": 3
   },
   "file_extension": ".py",
   "mimetype": "text/x-python",
   "name": "python",
   "nbconvert_exporter": "python",
   "pygments_lexer": "ipython3",
   "version": "3.6.5"
  }
 },
 "nbformat": 4,
 "nbformat_minor": 2
}
