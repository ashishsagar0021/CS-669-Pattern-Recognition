{
 "cells": [
  {
   "cell_type": "code",
   "execution_count": 98,
   "metadata": {},
   "outputs": [],
   "source": [
    "import numpy as np\n",
    "import math\n",
    "import os\n",
    "import sys\n",
    "import progressbar\n",
    "\n",
    "dimension = 39"
   ]
  },
  {
   "cell_type": "code",
   "execution_count": 99,
   "metadata": {},
   "outputs": [],
   "source": [
    "def get_confusion_mat(true_class, pred_class):\n",
    "    conf_mat = np.full((3,3),1e-10)\n",
    "    for i in range(len(true_class)):\n",
    "        conf_mat[true_class[i]][pred_class[i]]+=1\n",
    "    return np.array(conf_mat)"
   ]
  },
  {
   "cell_type": "code",
   "execution_count": 100,
   "metadata": {},
   "outputs": [],
   "source": [
    "def get_metric(conf_matrix):\n",
    "    x = conf_matrix.shape[0]\n",
    "    precision = []\n",
    "    accuracy = []\n",
    "    recall = []\n",
    "    f_measure = []\n",
    "    total_sum = np.sum(conf_matrix)\n",
    "    for i in range(x):\n",
    "        TP = conf_matrix[i][i]\n",
    "        FN = np.sum(conf_matrix[i,:])-conf_matrix[i][i]\n",
    "        FP = np.sum(conf_matrix[:,i])-conf_matrix[i][i]\n",
    "        TN = total_sum-(TP+FP+FN)\n",
    "\n",
    "        recal = TP/(TP+FN)\n",
    "        preci = TP/(TP+FP)\n",
    "        acc = (TP+TN)/(TP+TN+FP+FN)\n",
    "        \n",
    "        precision.append(preci)\n",
    "        recall.append(recal)\n",
    "        accuracy.append(acc)\n",
    "        f_measure.append((2*recal*preci)/(recal+preci))\n",
    "        \n",
    "    return accuracy,precision,recall,f_measure"
   ]
  },
  {
   "cell_type": "code",
   "execution_count": 101,
   "metadata": {},
   "outputs": [],
   "source": [
    "def find_distance(data1, data2):\n",
    "    su = 0.0\n",
    "    for i in range(dimension):\n",
    "        su += ((data1[i]-data2[i])**2);\n",
    "    return su**0.5\n",
    "        \n",
    "    "
   ]
  },
  {
   "cell_type": "code",
   "execution_count": 102,
   "metadata": {},
   "outputs": [],
   "source": [
    "def dtw(data1, data2):\n",
    "    \n",
    "    n1 = data1.shape[0]\n",
    "    n2 = data2.shape[0]\n",
    "    \n",
    "    dp = np.ndarray(shape=(n1,n2),dtype=float)\n",
    "    dp[0][0]=find_distance(data1[0,:],data2[0,:])\n",
    "    for i in range(1,n1):\n",
    "        dp[i][0] = find_distance(data1[i,:], data2[0,:])+dp[i-1][0]\n",
    "    for i in range(1,n2):\n",
    "        dp[0][i] = find_distance(data1[0,:], data2[i,:])+dp[0][i-1]\n",
    "        \n",
    "    for i in range(1,n1):\n",
    "        for j in range(1,n2):\n",
    "            dp[i][j] = find_distance(data1[i,:],data2[j,:]) + min(dp[i-1][j],dp[i-1][j-1],dp[i][j-1])\n",
    "    \n",
    "    return dp[n1-1][n2-1]/(n1*n2)\n",
    "            "
   ]
  },
  {
   "cell_type": "code",
   "execution_count": 103,
   "metadata": {},
   "outputs": [],
   "source": [
    "def get_predictions(path, st,k):\n",
    "    pred_class = []\n",
    "    for f in progressbar.progressbar(os.listdir(os.path.join(path,st))):\n",
    "        data_test = np.load(os.path.join(os.path.join(path,st),f))\n",
    "        lis = []\n",
    "        for f_train in os.listdir(os.path.join('Group13/Train','di_npy')):\n",
    "            data_train = np.load(os.path.join(os.path.join('Group13/Train','di_npy'),f_train))\n",
    "            dist = dtw(data_train, data_test)\n",
    "            dist = dist\n",
    "            lis.append([dist,0])\n",
    "        for f_train in os.listdir(os.path.join('Group13/Train','dI_npy')):\n",
    "            data_train = np.load(os.path.join(os.path.join('Group13/Train','dI_npy'),f_train))\n",
    "            dist = dtw(data_train, data_test)\n",
    "            dist = dist\n",
    "            lis.append([dist,1])\n",
    "        for f_train in os.listdir(os.path.join('Group13/Train','DI_npy')):\n",
    "            data_train = np.load(os.path.join(os.path.join('Group13/Train','DI_npy'),f_train))\n",
    "            dist = dtw(data_train, data_test)\n",
    "            dist = dist\n",
    "            lis.append([dist,2])\n",
    "        lis2 = sorted(lis,key=lambda x: x[0])\n",
    "        coun = [0,0,0]\n",
    "        for i in range(k):\n",
    "            coun[lis2[i][1]]+=1\n",
    "        pred_class.append(np.argmax(coun))\n",
    "        \n",
    "    return pred_class\n",
    "    "
   ]
  },
  {
   "cell_type": "code",
   "execution_count": 104,
   "metadata": {},
   "outputs": [],
   "source": [
    "def main():\n",
    "    K = [4, 8, 16, 32]\n",
    "    path = 'Group13/Test'\n",
    "    true_class = []\n",
    "    for f in os.listdir(os.path.join(path,'di_npy')):\n",
    "        true_class.append(0)\n",
    "    for f in os.listdir(os.path.join(path,'dI_npy')):\n",
    "        true_class.append(1)\n",
    "    for f in os.listdir(os.path.join(path,'DI_npy')):\n",
    "        true_class.append(2)\n",
    "        \n",
    "    for k in K:\n",
    "        pred_class = []\n",
    "        p_class1 = get_predictions(path,'di_npy',k)\n",
    "        p_class2 = get_predictions(path,'dI_npy',k)\n",
    "        p_class3 = get_predictions(path,'DI_npy',k)\n",
    "        for i in range(len(p_class1)):\n",
    "            pred_class.append(p_class1[i])\n",
    "        for i in range(len(p_class2)):\n",
    "            pred_class.append(p_class2[i])\n",
    "        for i in range(len(p_class3)):\n",
    "            pred_class.append(p_class3[i])\n",
    "        \n",
    "        \n",
    "        conf_mat = get_confusion_mat(true_class, pred_class)\n",
    "        accuracy,precision,recall,f_measure = get_metric(conf_mat)\n",
    "        print('#'*10,\"Done for K: {}\".format(k),'#'*10)\n",
    "        print(conf_mat)\n",
    "        print(\"Accuracy:\\t \", round(accuracy[0],4), round(accuracy[1],4), round(accuracy[2],4))\n",
    "        print(\"Precision:\\t \",round(precision[0],4), round(precision[1],4), round(precision[2],4))\n",
    "        print(\"Recall:\\t \",   round(recall[0],4), round(recall[1],4), round(recall[2],2))\n",
    "        print(\"F_measure:\\t \",round(f_measure[0],4), round(f_measure[1],4), round(f_measure[2],4))\n",
    "        \n",
    "        "
   ]
  },
  {
   "cell_type": "code",
   "execution_count": 105,
   "metadata": {},
   "outputs": [
    {
     "name": "stderr",
     "output_type": "stream",
     "text": [
      "100% (27 of 27) |########################| Elapsed Time: 0:01:17 Time:  0:01:17\n",
      "100% (24 of 24) |########################| Elapsed Time: 0:01:30 Time:  0:01:30\n",
      "100% (14 of 14) |########################| Elapsed Time: 0:00:42 Time:  0:00:42\n",
      "N/A% (0 of 27) |                         | Elapsed Time: 0:00:00 ETA:  --:--:--"
     ]
    },
    {
     "name": "stdout",
     "output_type": "stream",
     "text": [
      "########## Done for K: 4 ##########\n",
      "[[ 13.  13.   1.]\n",
      " [  1.  19.   4.]\n",
      " [  1.   9.   4.]]\n",
      "Accuracy:\t  0.7538 0.5846 0.7692\n",
      "Precision:\t  0.8667 0.4634 0.4444\n",
      "Recall:\t  0.4815 0.7917 0.29\n",
      "F_measure:\t  0.619 0.5846 0.3478\n"
     ]
    },
    {
     "name": "stderr",
     "output_type": "stream",
     "text": [
      "100% (27 of 27) |########################| Elapsed Time: 0:01:14 Time:  0:01:14\n",
      "100% (24 of 24) |########################| Elapsed Time: 0:01:28 Time:  0:01:28\n",
      "100% (14 of 14) |########################| Elapsed Time: 0:00:39 Time:  0:00:39\n",
      "N/A% (0 of 27) |                         | Elapsed Time: 0:00:00 ETA:  --:--:--"
     ]
    },
    {
     "name": "stdout",
     "output_type": "stream",
     "text": [
      "########## Done for K: 8 ##########\n",
      "[[  1.30000000e+01   1.40000000e+01   1.00000000e-10]\n",
      " [  1.00000000e+00   2.10000000e+01   2.00000000e+00]\n",
      " [  1.00000000e-10   9.00000000e+00   5.00000000e+00]]\n",
      "Accuracy:\t  0.7692 0.6 0.8308\n",
      "Precision:\t  0.9286 0.4773 0.7143\n",
      "Recall:\t  0.4815 0.875 0.36\n",
      "F_measure:\t  0.6341 0.6176 0.4762\n"
     ]
    },
    {
     "name": "stderr",
     "output_type": "stream",
     "text": [
      "100% (27 of 27) |########################| Elapsed Time: 0:01:11 Time:  0:01:11\n",
      "100% (24 of 24) |########################| Elapsed Time: 0:01:24 Time:  0:01:24\n",
      "100% (14 of 14) |########################| Elapsed Time: 0:00:40 Time:  0:00:40\n",
      "N/A% (0 of 27) |                         | Elapsed Time: 0:00:00 ETA:  --:--:--"
     ]
    },
    {
     "name": "stdout",
     "output_type": "stream",
     "text": [
      "########## Done for K: 16 ##########\n",
      "[[  1.40000000e+01   1.30000000e+01   1.00000000e-10]\n",
      " [  3.00000000e+00   2.00000000e+01   1.00000000e+00]\n",
      " [  1.00000000e-10   1.00000000e+01   4.00000000e+00]]\n",
      "Accuracy:\t  0.7538 0.5846 0.8308\n",
      "Precision:\t  0.8235 0.4651 0.8\n",
      "Recall:\t  0.5185 0.8333 0.29\n",
      "F_measure:\t  0.6364 0.597 0.4211\n"
     ]
    },
    {
     "name": "stderr",
     "output_type": "stream",
     "text": [
      "100% (27 of 27) |########################| Elapsed Time: 0:01:14 Time:  0:01:14\n",
      "100% (24 of 24) |########################| Elapsed Time: 0:01:24 Time:  0:01:24\n",
      "100% (14 of 14) |########################| Elapsed Time: 0:00:42 Time:  0:00:42\n"
     ]
    },
    {
     "name": "stdout",
     "output_type": "stream",
     "text": [
      "########## Done for K: 32 ##########\n",
      "[[  1.10000000e+01   1.60000000e+01   1.00000000e-10]\n",
      " [  1.00000000e+00   2.20000000e+01   1.00000000e+00]\n",
      " [  1.00000000e-10   9.00000000e+00   5.00000000e+00]]\n",
      "Accuracy:\t  0.7385 0.5846 0.8462\n",
      "Precision:\t  0.9167 0.4681 0.8333\n",
      "Recall:\t  0.4074 0.9167 0.36\n",
      "F_measure:\t  0.5641 0.6197 0.5\n"
     ]
    }
   ],
   "source": [
    "if(__name__==\"__main__\"):\n",
    "    main()"
   ]
  },
  {
   "cell_type": "code",
   "execution_count": 85,
   "metadata": {},
   "outputs": [
    {
     "name": "stdout",
     "output_type": "stream",
     "text": [
      "(9, 2)\n",
      "[[  2.06155281   5.088102     9.288102    14.69180444  20.90469426\n",
      "   28.30739647]\n",
      " [  3.54815969   4.29762079   7.55338491  11.97152932  17.17537405\n",
      "   23.58786187]\n",
      " [  5.06143428   5.16061124   6.53368877   9.83217327  13.87692295\n",
      "   19.13810153]\n",
      " [  6.74146404   6.31143428   6.63115535   9.02015212  12.25163785\n",
      "   16.69939009]\n",
      " [  9.40416944   8.15534317   7.31143428   8.07337586  10.16143717\n",
      "   13.45992167]\n",
      " [ 13.40041768  11.27944304   9.31143428   8.71143428   9.51559637\n",
      "   11.9569075 ]\n",
      " [ 18.39341277  15.40254867  12.28464803  10.86550021  10.51143428\n",
      "   11.84797713]\n",
      " [ 24.15123354  20.21009482  15.84449353  13.31754017  12.25284176\n",
      "   12.06465674]\n",
      " [ 30.55435777  25.62211847  19.99298724  16.25862841  14.37180377\n",
      "   13.2688162 ]]\n",
      "13.2688161972\n"
     ]
    }
   ],
   "source": [
    "x1 = [[-4.2,1.0],[-3.2,1.6],[-2.0,2.0],[-1.2,1.85],[0.0,2.0],[1.2,2.6],[2.0,3.2],[3.1,2.75],[4.0,2.1]]\n",
    "x2 = [[-2.2,0.5],[-1.2,0.6],[0.0,1.0],[1.2,1.2],[2.0,1.4],[3.2,1.2]]\n",
    "x1 = np.array(x1)\n",
    "x2 = np.array(x2)\n",
    "print(x1.shape)\n",
    "print(dtw(x1,x2))\n"
   ]
  },
  {
   "cell_type": "code",
   "execution_count": null,
   "metadata": {},
   "outputs": [],
   "source": []
  }
 ],
 "metadata": {
  "kernelspec": {
   "display_name": "Python 3",
   "language": "python",
   "name": "python3"
  },
  "language_info": {
   "codemirror_mode": {
    "name": "ipython",
    "version": 3
   },
   "file_extension": ".py",
   "mimetype": "text/x-python",
   "name": "python",
   "nbconvert_exporter": "python",
   "pygments_lexer": "ipython3",
   "version": "3.6.5"
  }
 },
 "nbformat": 4,
 "nbformat_minor": 2
}
